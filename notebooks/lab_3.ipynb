{
 "cells": [
  {
   "cell_type": "code",
   "execution_count": 11,
   "id": "2f53d5cc-5544-40c5-a657-ca64955da867",
   "metadata": {
    "tags": []
   },
   "outputs": [],
   "source": [
    "import xml.etree.ElementTree as ET"
   ]
  },
  {
   "cell_type": "markdown",
   "id": "a4a8d236-a11b-4127-9801-834e74cd1f7a",
   "metadata": {},
   "source": [
    "## XPath problems\n",
    "Write Code with Xpath expressions to solve the following problems."
   ]
  },
  {
   "cell_type": "markdown",
   "id": "0d4c4dd1-92d6-4c2d-8688-ca8d0e7c9011",
   "metadata": {},
   "source": [
    "1. Print all book titles in the XML."
   ]
  },
  {
   "cell_type": "code",
   "execution_count": 12,
   "id": "cbc17695-158c-42a6-a962-c713875e0fd7",
   "metadata": {
    "tags": []
   },
   "outputs": [],
   "source": [
    "xmlstring = \"\"\"<?xml version=\"1.0\"?>\n",
    "<library>\n",
    "  <book>\n",
    "    <title>Harry Potter and the Sorcerer's Stone</title>\n",
    "    <author>J.K. Rowling</author>\n",
    "  </book>\n",
    "  <book>\n",
    "    <title>The Hobbit</title>\n",
    "    <author>J.R.R. Tolkien</author>\n",
    "  </book>\n",
    "</library>\"\"\""
   ]
  },
  {
   "cell_type": "code",
   "execution_count": 13,
   "id": "25198952-de63-45a0-9535-6966af28dd7f",
   "metadata": {
    "tags": []
   },
   "outputs": [],
   "source": [
    "root = ET.fromstring(xmlstring)"
   ]
  },
  {
   "cell_type": "markdown",
   "id": "aa1c4fef-bf80-4645-83cd-eb8f21d6c6b3",
   "metadata": {},
   "source": [
    "2. Print all the names of students that are 20 years old."
   ]
  },
  {
   "cell_type": "code",
   "execution_count": 14,
   "id": "140b180f-2b0e-46bc-be20-64810a86320d",
   "metadata": {
    "tags": []
   },
   "outputs": [],
   "source": [
    "xmlstring = \"\"\"<?xml version=\"1.0\"?>\n",
    "<students>\n",
    "  <student id=\"1\" name=\"Alice\" age=\"20\" />\n",
    "  <student id=\"2\" name=\"Bob\" age=\"22\" />\n",
    "  <student id=\"3\" name=\"Charlie\" age=\"19\" />\n",
    "  <student id=\"4\" name=\"Alex\" age=\"20\" />\n",
    "</students>\"\"\""
   ]
  },
  {
   "cell_type": "code",
   "execution_count": 15,
   "id": "82e96265-35f6-477d-bbb9-d5b577bf8d35",
   "metadata": {
    "tags": []
   },
   "outputs": [],
   "source": [
    "root = ET.fromstring(xmlstring)"
   ]
  },
  {
   "cell_type": "code",
   "execution_count": 16,
   "id": "899e26ad-c370-464c-b9ae-61a2151fc43a",
   "metadata": {
    "tags": []
   },
   "outputs": [],
   "source": [
    "xmlstring = \"\"\"<?xml version=\"1.0\"?>\n",
    "<students>\n",
    "  <student id=\"1\" name=\"Alice\" year=\"2000\" />\n",
    "  <student id=\"2\" name=\"Bob\" year=\"2001\" />\n",
    "  <student id=\"3\" name=\"Charlie\" year=\"2000\" />\n",
    "  <student id=\"4\" name=\"Alex\" year=\"2004\" />\n",
    "</students>\"\"\""
   ]
  },
  {
   "cell_type": "code",
   "execution_count": 17,
   "id": "98ef2844-2543-45d7-8c52-a87ba7bae494",
   "metadata": {
    "tags": []
   },
   "outputs": [],
   "source": [
    "root = ET.fromstring(xmlstring)"
   ]
  },
  {
   "cell_type": "markdown",
   "id": "79f32642-0bc6-4da6-a33c-b57c312ff4d1",
   "metadata": {},
   "source": [
    "3. Print the books titles of books with the folloing cahracteristics: <br>\n",
    "(a) With price 19.95 <br>\n",
    "(b) With price < 20$ <br>\n",
    "(c) Author's first name is Jane <br>"
   ]
  },
  {
   "cell_type": "code",
   "execution_count": 18,
   "id": "7f1349cf-c38f-48b7-b421-3da46d05a71f",
   "metadata": {
    "tags": []
   },
   "outputs": [],
   "source": [
    "xmlstring = \"\"\"<?xml version=\"1.0\"?>\n",
    "<catalog>\n",
    "  <book>\n",
    "    <title>Introduction to XPath</title>\n",
    "    <author>John Doe</author>\n",
    "    <price>25.99</price>\n",
    "  </book>\n",
    "  <book>\n",
    "    <title>XML Basics</title>\n",
    "    <author>Jane Smith</author>\n",
    "    <price>19.95</price>\n",
    "  </book>\n",
    "  <book>\n",
    "    <title>XML for Dummies</title>\n",
    "    <author>Jane Jackson</author>\n",
    "    <price>19.95</price>\n",
    "  </book>\n",
    "  <book>\n",
    "    <title>XML for Dummies version 2</title>\n",
    "    <author>Jane Jackson</author>\n",
    "    <price>15.95</price>\n",
    "  </book>\n",
    "</catalog>\"\"\""
   ]
  },
  {
   "cell_type": "code",
   "execution_count": 19,
   "id": "54122eb7-a302-4c34-86e7-aacdf8fcce2f",
   "metadata": {
    "tags": []
   },
   "outputs": [],
   "source": [
    "root = ET.fromstring(xmlstring)"
   ]
  },
  {
   "cell_type": "markdown",
   "id": "e05e355f-0bf3-453d-b8fe-49fb29e97118",
   "metadata": {},
   "source": [
    "4. Print the name of the 3rd fruit in the list"
   ]
  },
  {
   "cell_type": "code",
   "execution_count": 20,
   "id": "a24c2d59-4d9a-44e8-b477-1ac88cd875b8",
   "metadata": {
    "tags": []
   },
   "outputs": [],
   "source": [
    "xmlstring = \"\"\"<?xml version=\"1.0\"?><fruits>\n",
    "  <fruit>Apple</fruit>\n",
    "  <fruit>Banana</fruit>\n",
    "  <fruit>Orange</fruit>\n",
    "  <fruit>Strawberry</fruit>\n",
    "</fruits>\"\"\""
   ]
  },
  {
   "cell_type": "markdown",
   "id": "12f87118-2ded-467b-9827-df8bd0488606",
   "metadata": {},
   "source": [
    "5. Create a list of all animals, regardless of their type (mammal, reptile, bird)."
   ]
  },
  {
   "cell_type": "code",
   "execution_count": 21,
   "id": "02f76dcf-65a1-4f9f-867c-569ea0a2e0c9",
   "metadata": {
    "tags": []
   },
   "outputs": [],
   "source": [
    "xmlstring = \"\"\"<?xml version=\"1.0\"?>\n",
    "<animals>\n",
    "  <mammal>\n",
    "    <name>Lion</name>\n",
    "  </mammal>\n",
    "  <reptile>\n",
    "    <name>Snake</name>\n",
    "  </reptile>\n",
    "  <bird>\n",
    "    <name>Eagle</name>\n",
    "  </bird>\n",
    "</animals>\"\"\""
   ]
  },
  {
   "cell_type": "code",
   "execution_count": null,
   "id": "5418d70b-4b29-4112-919f-a8976b7dcc6e",
   "metadata": {},
   "outputs": [],
   "source": []
  }
 ],
 "metadata": {
  "kernelspec": {
   "display_name": "Python 3 (ipykernel)",
   "language": "python",
   "name": "python3"
  },
  "language_info": {
   "codemirror_mode": {
    "name": "ipython",
    "version": 3
   },
   "file_extension": ".py",
   "mimetype": "text/x-python",
   "name": "python",
   "nbconvert_exporter": "python",
   "pygments_lexer": "ipython3",
   "version": "3.11.4"
  }
 },
 "nbformat": 4,
 "nbformat_minor": 5
}
