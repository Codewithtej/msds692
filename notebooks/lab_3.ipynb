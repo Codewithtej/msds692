{
 "cells": [
  {
   "cell_type": "code",
   "execution_count": 1,
   "id": "2f53d5cc-5544-40c5-a657-ca64955da867",
   "metadata": {
    "tags": []
   },
   "outputs": [],
   "source": [
    "import xml.etree.ElementTree as ET"
   ]
  },
  {
   "cell_type": "markdown",
   "id": "0d4c4dd1-92d6-4c2d-8688-ca8d0e7c9011",
   "metadata": {},
   "source": [
    "1. Write code with XPath expression to print all book titles in the XML."
   ]
  },
  {
   "cell_type": "code",
   "execution_count": 2,
   "id": "cbc17695-158c-42a6-a962-c713875e0fd7",
   "metadata": {
    "tags": []
   },
   "outputs": [],
   "source": [
    "xmlstring = \"\"\"<?xml version=\"1.0\"?>\n",
    "<library>\n",
    "  <book>\n",
    "    <title>Harry Potter and the Sorcerer's Stone</title>\n",
    "    <author>J.K. Rowling</author>\n",
    "  </book>\n",
    "  <book>\n",
    "    <title>The Hobbit</title>\n",
    "    <author>J.R.R. Tolkien</author>\n",
    "  </book>\n",
    "</library>\"\"\""
   ]
  },
  {
   "cell_type": "code",
   "execution_count": 3,
   "id": "25198952-de63-45a0-9535-6966af28dd7f",
   "metadata": {
    "tags": []
   },
   "outputs": [],
   "source": [
    "root = ET.fromstring(xmlstring)"
   ]
  },
  {
   "cell_type": "code",
   "execution_count": 5,
   "id": "7ef4e485-30ba-44e8-b864-7da9ec8abf48",
   "metadata": {
    "tags": []
   },
   "outputs": [
    {
     "name": "stdout",
     "output_type": "stream",
     "text": [
      "Harry Potter and the Sorcerer's Stone\n",
      "The Hobbit\n"
     ]
    }
   ],
   "source": [
    "for el in root.findall(\"./book/title\"):\n",
    "    print(el.text)"
   ]
  },
  {
   "cell_type": "markdown",
   "id": "aa1c4fef-bf80-4645-83cd-eb8f21d6c6b3",
   "metadata": {},
   "source": [
    "2. Write code with XPath expression to print all the names of students that are 20 years old."
   ]
  },
  {
   "cell_type": "code",
   "execution_count": 7,
   "id": "140b180f-2b0e-46bc-be20-64810a86320d",
   "metadata": {
    "tags": []
   },
   "outputs": [],
   "source": [
    "xmlstring = \"\"\"<?xml version=\"1.0\"?>\n",
    "<students>\n",
    "  <student id=\"1\" name=\"Alice\" age=\"20\" />\n",
    "  <student id=\"2\" name=\"Bob\" age=\"22\" />\n",
    "  <student id=\"3\" name=\"Charlie\" age=\"19\" />\n",
    "  <student id=\"4\" name=\"Alex\" age=\"20\" />\n",
    "</students>\"\"\""
   ]
  },
  {
   "cell_type": "code",
   "execution_count": 11,
   "id": "82e96265-35f6-477d-bbb9-d5b577bf8d35",
   "metadata": {
    "tags": []
   },
   "outputs": [
    {
     "name": "stdout",
     "output_type": "stream",
     "text": [
      "Alice\n",
      "Alex\n"
     ]
    }
   ],
   "source": [
    "root = ET.fromstring(xmlstring)\n",
    "for el in root.findall(\"./student[@age='20']\"):\n",
    "    print(el.attrib[\"name\"])"
   ]
  },
  {
   "cell_type": "code",
   "execution_count": 12,
   "id": "899e26ad-c370-464c-b9ae-61a2151fc43a",
   "metadata": {
    "tags": []
   },
   "outputs": [],
   "source": [
    "xmlstring = \"\"\"<?xml version=\"1.0\"?>\n",
    "<students>\n",
    "  <student id=\"1\" name=\"Alice\" year=\"2000\" />\n",
    "  <student id=\"2\" name=\"Bob\" year=\"2001\" />\n",
    "  <student id=\"3\" name=\"Charlie\" year=\"2000\" />\n",
    "  <student id=\"4\" name=\"Alex\" year=\"2004\" />\n",
    "</students>\"\"\""
   ]
  },
  {
   "cell_type": "code",
   "execution_count": 13,
   "id": "98ef2844-2543-45d7-8c52-a87ba7bae494",
   "metadata": {
    "tags": []
   },
   "outputs": [
    {
     "name": "stdout",
     "output_type": "stream",
     "text": [
      "Alice\n",
      "Charlie\n"
     ]
    }
   ],
   "source": [
    "root = ET.fromstring(xmlstring)\n",
    "for el in root.findall(\"./student[@year='2000']\"):\n",
    "    print(el.attrib[\"name\"])"
   ]
  },
  {
   "cell_type": "markdown",
   "id": "79f32642-0bc6-4da6-a33c-b57c312ff4d1",
   "metadata": {},
   "source": [
    "3. Write code with an XPath expression to print the books titles of books with the folloing cahracteristics: <br>\n",
    "(a) With price 19.95 <br>\n",
    "(b) With price < 20$ <br>\n",
    "(c) Author's first name is Jane <br>"
   ]
  },
  {
   "cell_type": "code",
   "execution_count": 25,
   "id": "7f1349cf-c38f-48b7-b421-3da46d05a71f",
   "metadata": {
    "tags": []
   },
   "outputs": [],
   "source": [
    "xmlstring = \"\"\"<?xml version=\"1.0\"?>\n",
    "<catalog>\n",
    "  <book>\n",
    "    <title>Introduction to XPath</title>\n",
    "    <author>John Doe</author>\n",
    "    <price>25.99</price>\n",
    "  </book>\n",
    "  <book>\n",
    "    <title>XML Basics</title>\n",
    "    <author>Jane Smith</author>\n",
    "    <price>19.95</price>\n",
    "  </book>\n",
    "  <book>\n",
    "    <title>XML for Dummies</title>\n",
    "    <author>Jane Jackson</author>\n",
    "    <price>19.95</price>\n",
    "  </book>\n",
    "  <book>\n",
    "    <title>XML for Dummies version 2</title>\n",
    "    <author>Jane Jackson</author>\n",
    "    <price>15.95</price>\n",
    "  </book>\n",
    "</catalog>\"\"\""
   ]
  },
  {
   "cell_type": "code",
   "execution_count": 26,
   "id": "54122eb7-a302-4c34-86e7-aacdf8fcce2f",
   "metadata": {
    "tags": []
   },
   "outputs": [
    {
     "name": "stdout",
     "output_type": "stream",
     "text": [
      "XML Basics\n",
      "XML for Dummies\n"
     ]
    }
   ],
   "source": [
    "root = ET.fromstring(xmlstring)\n",
    "for el in root.findall(\"./book[price = '19.95']\"):\n",
    "    print(el.find('title').text)"
   ]
  },
  {
   "cell_type": "code",
   "execution_count": 27,
   "id": "cf388942-c716-4fb8-9219-606b254485d2",
   "metadata": {
    "tags": []
   },
   "outputs": [
    {
     "name": "stdout",
     "output_type": "stream",
     "text": [
      "XML Basics\n",
      "XML for Dummies\n",
      "XML for Dummies version 2\n"
     ]
    }
   ],
   "source": [
    "for el in root.findall(\"./book\"):\n",
    "    price = float(el.find('price').text)\n",
    "    if price < 20:\n",
    "        print(el.find('title').text)"
   ]
  },
  {
   "cell_type": "code",
   "execution_count": null,
   "id": "5a05762b-71a7-4331-b02a-a62477856c99",
   "metadata": {},
   "outputs": [],
   "source": []
  }
 ],
 "metadata": {
  "kernelspec": {
   "display_name": "Python 3 (ipykernel)",
   "language": "python",
   "name": "python3"
  },
  "language_info": {
   "codemirror_mode": {
    "name": "ipython",
    "version": 3
   },
   "file_extension": ".py",
   "mimetype": "text/x-python",
   "name": "python",
   "nbconvert_exporter": "python",
   "pygments_lexer": "ipython3",
   "version": "3.11.4"
  }
 },
 "nbformat": 4,
 "nbformat_minor": 5
}
