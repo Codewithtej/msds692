{
 "cells": [
  {
   "cell_type": "code",
   "execution_count": 73,
   "id": "b1dcab0a",
   "metadata": {
    "tags": []
   },
   "outputs": [],
   "source": [
    "from lxml import etree"
   ]
  },
  {
   "cell_type": "code",
   "execution_count": 112,
   "id": "221fca4b",
   "metadata": {
    "tags": []
   },
   "outputs": [],
   "source": [
    "xmlstring = \"\"\"<?xml version=\"1.0\"?>\n",
    "<data>\n",
    "    <country name=\"Liechtenstein\">\n",
    "        <rank>1</rank>\n",
    "        <year>2008</year>\n",
    "        <gdppc>141100</gdppc>\n",
    "        <neighbor name=\"Austria\" direction=\"E\"/>\n",
    "        <neighbor name=\"Switzerland\" direction=\"W\"/>\n",
    "    </country>\n",
    "    <country name=\"Singapore\">\n",
    "        <rank>4</rank>\n",
    "        <year>2011</year>\n",
    "        <gdppc>59900</gdppc>\n",
    "        <neighbor name=\"Malaysia\" direction=\"N\"/>\n",
    "    </country>\n",
    "    <country name=\"Panama\">\n",
    "        <rank>68</rank>\n",
    "        <year>2011</year>\n",
    "        <gdppc>13600</gdppc>\n",
    "        <neighbor name=\"Costa Rica\" direction=\"W\"/>\n",
    "        <neighbor name=\"Colombia\" direction=\"E\"/>\n",
    "    </country>\n",
    "</data>\n",
    "\"\"\""
   ]
  },
  {
   "cell_type": "markdown",
   "id": "dfe6f04e-6bfe-49a9-95ac-9dba624517c5",
   "metadata": {},
   "source": [
    "### Parsing "
   ]
  },
  {
   "cell_type": "code",
   "execution_count": 113,
   "id": "7a28f7aa",
   "metadata": {
    "tags": []
   },
   "outputs": [],
   "source": [
    "# etree.parse('country_data.xml') from file\n",
    "root = etree.fromstring(xmlstring)"
   ]
  },
  {
   "cell_type": "code",
   "execution_count": 114,
   "id": "e7a12a3a",
   "metadata": {
    "tags": []
   },
   "outputs": [
    {
     "data": {
      "text/plain": [
       "('data', {})"
      ]
     },
     "execution_count": 114,
     "metadata": {},
     "output_type": "execute_result"
    }
   ],
   "source": [
    "root.tag, root.attrib"
   ]
  },
  {
   "cell_type": "code",
   "execution_count": 115,
   "id": "7baf29d7",
   "metadata": {
    "tags": []
   },
   "outputs": [
    {
     "name": "stdout",
     "output_type": "stream",
     "text": [
      "country {'name': 'Liechtenstein'}\n",
      "country {'name': 'Singapore'}\n",
      "country {'name': 'Panama'}\n"
     ]
    }
   ],
   "source": [
    "for child in root:\n",
    "    print(child.tag, child.attrib)"
   ]
  },
  {
   "cell_type": "code",
   "execution_count": 116,
   "id": "e38a81e9",
   "metadata": {
    "tags": []
   },
   "outputs": [
    {
     "data": {
      "text/plain": [
       "{'name': 'Singapore'}"
      ]
     },
     "execution_count": 116,
     "metadata": {},
     "output_type": "execute_result"
    }
   ],
   "source": [
    "# Children are nested, and we can access specific child nodes by index:\n",
    "root[1].attrib"
   ]
  },
  {
   "cell_type": "code",
   "execution_count": 117,
   "id": "06fe3d40",
   "metadata": {
    "tags": []
   },
   "outputs": [
    {
     "data": {
      "text/plain": [
       "('rank', '4')"
      ]
     },
     "execution_count": 117,
     "metadata": {},
     "output_type": "execute_result"
    }
   ],
   "source": [
    "root[1][0].tag, root[1][0].text"
   ]
  },
  {
   "cell_type": "code",
   "execution_count": 118,
   "id": "74f7a425",
   "metadata": {
    "tags": []
   },
   "outputs": [
    {
     "data": {
      "text/plain": [
       "<Element country at 0x1057a1b40>"
      ]
     },
     "execution_count": 118,
     "metadata": {},
     "output_type": "execute_result"
    }
   ],
   "source": [
    "# first element with tag country\n",
    "root.find('country')"
   ]
  },
  {
   "cell_type": "code",
   "execution_count": 119,
   "id": "73b45810",
   "metadata": {
    "tags": []
   },
   "outputs": [
    {
     "data": {
      "text/plain": [
       "[<Element country at 0x1057a1b40>,\n",
       " <Element country at 0x104aed140>,\n",
       " <Element country at 0x1058777c0>]"
      ]
     },
     "execution_count": 119,
     "metadata": {},
     "output_type": "execute_result"
    }
   ],
   "source": [
    "# all elements with tag country\n",
    "root.findall('country')"
   ]
  },
  {
   "cell_type": "markdown",
   "id": "c04a313c",
   "metadata": {},
   "source": [
    "# Xpath examples"
   ]
  },
  {
   "cell_type": "markdown",
   "id": "eba5175d-a929-4096-ac17-d99e8a6a9ddb",
   "metadata": {
    "tags": []
   },
   "source": [
    "There are two usedfull functions depending on how you parse the xml."
   ]
  },
  {
   "cell_type": "code",
   "execution_count": 82,
   "id": "a6719ada-bf25-40b6-9666-d6e5d45502df",
   "metadata": {
    "tags": []
   },
   "outputs": [],
   "source": [
    "root = etree.fromstring(xmlstring)"
   ]
  },
  {
   "cell_type": "code",
   "execution_count": 83,
   "id": "56be44b3",
   "metadata": {
    "tags": []
   },
   "outputs": [
    {
     "data": {
      "text/plain": [
       "[<Element data at 0x105877bc0>]"
      ]
     },
     "execution_count": 83,
     "metadata": {},
     "output_type": "execute_result"
    }
   ],
   "source": [
    "# Top-level elements\n",
    "# \".\" = selects current node\n",
    "root.findall(\".\")"
   ]
  },
  {
   "cell_type": "code",
   "execution_count": 84,
   "id": "0bb62f46-21cb-436d-9299-3fddf07b3c68",
   "metadata": {
    "tags": []
   },
   "outputs": [
    {
     "data": {
      "text/plain": [
       "[<Element data at 0x105877bc0>]"
      ]
     },
     "execution_count": 84,
     "metadata": {},
     "output_type": "execute_result"
    }
   ],
   "source": [
    "root.xpath(\".\")"
   ]
  },
  {
   "cell_type": "markdown",
   "id": "388a071e-1b5d-4040-8f7e-f48bc2f04483",
   "metadata": {},
   "source": [
    "Boths are very useful and xpath is more powefull. "
   ]
  },
  {
   "cell_type": "code",
   "execution_count": 85,
   "id": "eed02b8d",
   "metadata": {
    "tags": []
   },
   "outputs": [
    {
     "data": {
      "text/plain": [
       "[<Element neighbor at 0x1057cc700>,\n",
       " <Element neighbor at 0x105870300>,\n",
       " <Element neighbor at 0x105870440>,\n",
       " <Element neighbor at 0x105870880>,\n",
       " <Element neighbor at 0x105870800>]"
      ]
     },
     "execution_count": 85,
     "metadata": {},
     "output_type": "execute_result"
    }
   ],
   "source": [
    "# All neighbor grand-children of 'country' of the top-level elements\n",
    "# matches country tag and then neighbor tag\n",
    "root.xpath(\"./country/neighbor\")"
   ]
  },
  {
   "cell_type": "code",
   "execution_count": 86,
   "id": "90177c8a",
   "metadata": {
    "tags": []
   },
   "outputs": [
    {
     "name": "stdout",
     "output_type": "stream",
     "text": [
      "{'name': 'Austria', 'direction': 'E'}\n",
      "{'name': 'Switzerland', 'direction': 'W'}\n",
      "{'name': 'Malaysia', 'direction': 'N'}\n",
      "{'name': 'Costa Rica', 'direction': 'W'}\n",
      "{'name': 'Colombia', 'direction': 'E'}\n"
     ]
    }
   ],
   "source": [
    "for neigh in root.xpath(\"./country/neighbor\"):\n",
    "    print(neigh.attrib)"
   ]
  },
  {
   "cell_type": "code",
   "execution_count": 87,
   "id": "08b53962",
   "metadata": {
    "tags": []
   },
   "outputs": [
    {
     "name": "stdout",
     "output_type": "stream",
     "text": [
      "{'name': 'Austria', 'direction': 'E'}\n",
      "{'name': 'Switzerland', 'direction': 'W'}\n",
      "{'name': 'Malaysia', 'direction': 'N'}\n",
      "{'name': 'Costa Rica', 'direction': 'W'}\n",
      "{'name': 'Colombia', 'direction': 'E'}\n"
     ]
    }
   ],
   "source": [
    "# similar result * matches everything\n",
    "for neigh in root.xpath(\"./*/neighbor\"):\n",
    "    print(neigh.attrib)"
   ]
  },
  {
   "cell_type": "code",
   "execution_count": 88,
   "id": "1a5a06fd",
   "metadata": {
    "tags": []
   },
   "outputs": [
    {
     "name": "stdout",
     "output_type": "stream",
     "text": [
      "{'name': 'Austria', 'direction': 'E'}\n",
      "{'name': 'Switzerland', 'direction': 'W'}\n",
      "{'name': 'Malaysia', 'direction': 'N'}\n",
      "{'name': 'Costa Rica', 'direction': 'W'}\n",
      "{'name': 'Colombia', 'direction': 'E'}\n"
     ]
    }
   ],
   "source": [
    "# matches neighbor anywhere\n",
    "# // matches anywhere\n",
    "for neigh in root.xpath(\".//neighbor\"):\n",
    "    print(neigh.attrib)"
   ]
  },
  {
   "cell_type": "code",
   "execution_count": 89,
   "id": "fa28db71",
   "metadata": {
    "tags": []
   },
   "outputs": [
    {
     "name": "stdout",
     "output_type": "stream",
     "text": [
      "2008\n",
      "2011\n",
      "2011\n"
     ]
    }
   ],
   "source": [
    "for el in root.xpath(\".//year\"):\n",
    "    print(el.text)"
   ]
  },
  {
   "cell_type": "markdown",
   "id": "074e0761",
   "metadata": {},
   "source": [
    "### Diference between \"/\" and \"//\""
   ]
  },
  {
   "cell_type": "code",
   "execution_count": 90,
   "id": "954eb18f",
   "metadata": {
    "tags": []
   },
   "outputs": [],
   "source": [
    "xmlstring = \"\"\"<?xml version=\"1.0\"?>\n",
    "<data>\n",
    "    <country name=\"Liechtenstein\">\n",
    "        <rank>1</rank>\n",
    "        <year>2008</year>\n",
    "        <gdppc>141100</gdppc>\n",
    "        <neighbor name=\"Austria\" direction=\"E\"/>\n",
    "        <neighbor name=\"Switzerland\" direction=\"W\"/>\n",
    "    </country>\n",
    "    <neighbor name=\"Colombia\" direction=\"E\"/>\n",
    "</data>\n",
    "\"\"\""
   ]
  },
  {
   "cell_type": "code",
   "execution_count": 91,
   "id": "c7d85ef8",
   "metadata": {
    "tags": []
   },
   "outputs": [],
   "source": [
    "root = etree.fromstring(xmlstring)"
   ]
  },
  {
   "cell_type": "code",
   "execution_count": 93,
   "id": "2decc20f",
   "metadata": {
    "tags": []
   },
   "outputs": [
    {
     "name": "stdout",
     "output_type": "stream",
     "text": [
      "{'name': 'Austria', 'direction': 'E'}\n",
      "{'name': 'Switzerland', 'direction': 'W'}\n"
     ]
    }
   ],
   "source": [
    "for neigh in root.xpath(\"./country/neighbor\"):\n",
    "    print(neigh.attrib)"
   ]
  },
  {
   "cell_type": "code",
   "execution_count": 94,
   "id": "f6e50605",
   "metadata": {
    "tags": []
   },
   "outputs": [
    {
     "name": "stdout",
     "output_type": "stream",
     "text": [
      "{'name': 'Austria', 'direction': 'E'}\n",
      "{'name': 'Switzerland', 'direction': 'W'}\n"
     ]
    }
   ],
   "source": [
    "for neigh in root.xpath(\"./*/neighbor\"):\n",
    "    print(neigh.attrib)"
   ]
  },
  {
   "cell_type": "code",
   "execution_count": 95,
   "id": "54ed901b",
   "metadata": {
    "tags": []
   },
   "outputs": [
    {
     "name": "stdout",
     "output_type": "stream",
     "text": [
      "{'name': 'Austria', 'direction': 'E'}\n",
      "{'name': 'Switzerland', 'direction': 'W'}\n",
      "{'name': 'Colombia', 'direction': 'E'}\n"
     ]
    }
   ],
   "source": [
    "for neigh in root.xpath(\".//neighbor\"):\n",
    "    print(neigh.attrib)"
   ]
  },
  {
   "cell_type": "markdown",
   "id": "697fd511",
   "metadata": {},
   "source": [
    "## using @"
   ]
  },
  {
   "cell_type": "code",
   "execution_count": 99,
   "id": "daefe60c",
   "metadata": {
    "tags": []
   },
   "outputs": [],
   "source": [
    "neigs = root.xpath(\".//neighbor[@name='Austria']\")"
   ]
  },
  {
   "cell_type": "code",
   "execution_count": 105,
   "id": "ac319558",
   "metadata": {
    "tags": []
   },
   "outputs": [
    {
     "data": {
      "text/plain": [
       "{'name': 'Austria', 'direction': 'E'}"
      ]
     },
     "execution_count": 105,
     "metadata": {},
     "output_type": "execute_result"
    }
   ],
   "source": [
    "neigs[0].attrib"
   ]
  },
  {
   "cell_type": "code",
   "execution_count": 124,
   "id": "44637f4c",
   "metadata": {
    "tags": []
   },
   "outputs": [],
   "source": [
    "xmlstring = \"\"\"<?xml version=\"1.0\"?>\n",
    "<root>\n",
    "  <node1>\n",
    "    <nodename>Matched Value 1</nodename>\n",
    "  </node1>\n",
    "  <node2>\n",
    "    <nodename>Matched Value 2</nodename>\n",
    "  </node2>\n",
    "</root>\"\"\""
   ]
  },
  {
   "cell_type": "code",
   "execution_count": 125,
   "id": "c1a6b8a1",
   "metadata": {
    "tags": []
   },
   "outputs": [],
   "source": [
    "root = etree.fromstring(xmlstring)"
   ]
  },
  {
   "cell_type": "code",
   "execution_count": 127,
   "id": "b7d1d453",
   "metadata": {
    "tags": []
   },
   "outputs": [
    {
     "data": {
      "text/plain": [
       "[<Element nodename at 0x104ad5280>, <Element nodename at 0x10579b8c0>]"
      ]
     },
     "execution_count": 127,
     "metadata": {},
     "output_type": "execute_result"
    }
   ],
   "source": [
    "root.xpath('//nodename')"
   ]
  },
  {
   "cell_type": "markdown",
   "id": "b29bf35f-0007-4ab9-80d6-05b0766d218c",
   "metadata": {},
   "source": [
    "### More complex example"
   ]
  },
  {
   "cell_type": "code",
   "execution_count": 121,
   "id": "2773708d",
   "metadata": {
    "tags": []
   },
   "outputs": [],
   "source": [
    "xmlstring = \"\"\"<?xml version=\"1.0\"?>\n",
    "<bookstore>\n",
    "    <book>\n",
    "        <title lang=\"en\">Introduction to XPath</title>\n",
    "        <author>John Doe</author>\n",
    "        <price>29.99</price>\n",
    "    </book>\n",
    "    <book>\n",
    "        <title lang=\"fr\">XPath et XML</title>\n",
    "        <author>Marie Dupont</author>\n",
    "        <price>34.95</price>\n",
    "    </book>\n",
    "    <book>\n",
    "        <title lang=\"en\">XML Programming</title>\n",
    "        <author>David Smith</author>\n",
    "        <price>19.99</price>\n",
    "    </book>\n",
    "</bookstore>\"\"\""
   ]
  },
  {
   "cell_type": "code",
   "execution_count": 123,
   "id": "47204a66-2d78-4a2e-934c-0c5566b18fe2",
   "metadata": {
    "tags": []
   },
   "outputs": [
    {
     "name": "stdout",
     "output_type": "stream",
     "text": [
      "John Doe\n",
      "David Smith\n"
     ]
    }
   ],
   "source": [
    "# Parse the XML string\n",
    "root = etree.fromstring(xmlstring)\n",
    "\n",
    "# Find authors who write books in English\n",
    "authors = root.xpath(\".//book[title/@lang='en']/author\")\n",
    "\n",
    "# Print the authors\n",
    "for author in authors:\n",
    "    print(author.text)"
   ]
  },
  {
   "cell_type": "code",
   "execution_count": null,
   "id": "3e5b994c-b384-4b28-b9e5-484b36364fc7",
   "metadata": {},
   "outputs": [],
   "source": []
  }
 ],
 "metadata": {
  "kernelspec": {
   "display_name": "Python 3 (ipykernel)",
   "language": "python",
   "name": "python3"
  },
  "language_info": {
   "codemirror_mode": {
    "name": "ipython",
    "version": 3
   },
   "file_extension": ".py",
   "mimetype": "text/x-python",
   "name": "python",
   "nbconvert_exporter": "python",
   "pygments_lexer": "ipython3",
   "version": "3.11.4"
  }
 },
 "nbformat": 4,
 "nbformat_minor": 5
}
