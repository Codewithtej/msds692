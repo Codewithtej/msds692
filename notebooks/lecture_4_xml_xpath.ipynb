{
 "cells": [
  {
   "cell_type": "code",
   "execution_count": 1,
   "id": "b1dcab0a",
   "metadata": {},
   "outputs": [],
   "source": [
    "import xml.etree.ElementTree as ET"
   ]
  },
  {
   "cell_type": "code",
   "execution_count": 61,
   "id": "221fca4b",
   "metadata": {},
   "outputs": [],
   "source": [
    "xmlstring = \"\"\"<?xml version=\"1.0\"?>\n",
    "<data>\n",
    "    <country name=\"Liechtenstein\">\n",
    "        <rank>1</rank>\n",
    "        <year>2008</year>\n",
    "        <gdppc>141100</gdppc>\n",
    "        <neighbor name=\"Austria\" direction=\"E\"/>\n",
    "        <neighbor name=\"Switzerland\" direction=\"W\"/>\n",
    "    </country>\n",
    "    <country name=\"Singapore\">\n",
    "        <rank>4</rank>\n",
    "        <year>2011</year>\n",
    "        <gdppc>59900</gdppc>\n",
    "        <neighbor name=\"Malaysia\" direction=\"N\"/>\n",
    "    </country>\n",
    "    <country name=\"Panama\">\n",
    "        <rank>68</rank>\n",
    "        <year>2011</year>\n",
    "        <gdppc>13600</gdppc>\n",
    "        <neighbor name=\"Costa Rica\" direction=\"W\"/>\n",
    "        <neighbor name=\"Colombia\" direction=\"E\"/>\n",
    "    </country>\n",
    "</data>\n",
    "\"\"\""
   ]
  },
  {
   "cell_type": "code",
   "execution_count": 62,
   "id": "7a28f7aa",
   "metadata": {},
   "outputs": [],
   "source": [
    "# ET.parse('country_data.xml') from file\n",
    "root = ET.fromstring(xmlstring)"
   ]
  },
  {
   "cell_type": "code",
   "execution_count": 63,
   "id": "e7a12a3a",
   "metadata": {},
   "outputs": [
    {
     "data": {
      "text/plain": [
       "('data', {})"
      ]
     },
     "execution_count": 63,
     "metadata": {},
     "output_type": "execute_result"
    }
   ],
   "source": [
    "root.tag, root.attrib"
   ]
  },
  {
   "cell_type": "code",
   "execution_count": 64,
   "id": "7baf29d7",
   "metadata": {},
   "outputs": [
    {
     "name": "stdout",
     "output_type": "stream",
     "text": [
      "country {'name': 'Liechtenstein'}\n",
      "country {'name': 'Singapore'}\n",
      "country {'name': 'Panama'}\n"
     ]
    }
   ],
   "source": [
    "for child in root:\n",
    "    print(child.tag, child.attrib)"
   ]
  },
  {
   "cell_type": "code",
   "execution_count": 65,
   "id": "e38a81e9",
   "metadata": {},
   "outputs": [
    {
     "data": {
      "text/plain": [
       "{'name': 'Singapore'}"
      ]
     },
     "execution_count": 65,
     "metadata": {},
     "output_type": "execute_result"
    }
   ],
   "source": [
    "# Children are nested, and we can access specific child nodes by index:\n",
    "root[1].attrib"
   ]
  },
  {
   "cell_type": "code",
   "execution_count": 66,
   "id": "06fe3d40",
   "metadata": {},
   "outputs": [
    {
     "data": {
      "text/plain": [
       "('rank', '4')"
      ]
     },
     "execution_count": 66,
     "metadata": {},
     "output_type": "execute_result"
    }
   ],
   "source": [
    "root[1][0].tag, root[1][0].text"
   ]
  },
  {
   "cell_type": "code",
   "execution_count": 67,
   "id": "74f7a425",
   "metadata": {},
   "outputs": [
    {
     "data": {
      "text/plain": [
       "<Element 'country' at 0x7febb83eb7e0>"
      ]
     },
     "execution_count": 67,
     "metadata": {},
     "output_type": "execute_result"
    }
   ],
   "source": [
    "# first element with tag country\n",
    "root.find('country')"
   ]
  },
  {
   "cell_type": "code",
   "execution_count": 68,
   "id": "73b45810",
   "metadata": {},
   "outputs": [
    {
     "data": {
      "text/plain": [
       "[<Element 'country' at 0x7febb83eb7e0>,\n",
       " <Element 'country' at 0x7febb83eb9c0>,\n",
       " <Element 'country' at 0x7febb83fc040>]"
      ]
     },
     "execution_count": 68,
     "metadata": {},
     "output_type": "execute_result"
    }
   ],
   "source": [
    "# all elements with tag country\n",
    "root.findall('country')"
   ]
  },
  {
   "cell_type": "markdown",
   "id": "c04a313c",
   "metadata": {},
   "source": [
    "# Xpath examples"
   ]
  },
  {
   "cell_type": "code",
   "execution_count": 20,
   "id": "56be44b3",
   "metadata": {},
   "outputs": [
    {
     "data": {
      "text/plain": [
       "[<Element 'data' at 0x7febf0325f30>]"
      ]
     },
     "execution_count": 20,
     "metadata": {},
     "output_type": "execute_result"
    }
   ],
   "source": [
    "# Top-level elements\n",
    "# \".\" = selects current node\n",
    "root.findall(\".\")"
   ]
  },
  {
   "cell_type": "code",
   "execution_count": 10,
   "id": "eed02b8d",
   "metadata": {},
   "outputs": [
    {
     "data": {
      "text/plain": [
       "[<Element 'neighbor' at 0x7febf0303790>,\n",
       " <Element 'neighbor' at 0x7febf03037e0>,\n",
       " <Element 'neighbor' at 0x7febf0303970>,\n",
       " <Element 'neighbor' at 0x7febf0303b00>,\n",
       " <Element 'neighbor' at 0x7febf0303b50>]"
      ]
     },
     "execution_count": 10,
     "metadata": {},
     "output_type": "execute_result"
    }
   ],
   "source": [
    "# All neighbor grand-children of 'country' of the top-level elements\n",
    "# matches country tag and then neighbor tag\n",
    "root.findall(\"./country/neighbor\")"
   ]
  },
  {
   "cell_type": "code",
   "execution_count": 11,
   "id": "90177c8a",
   "metadata": {},
   "outputs": [
    {
     "name": "stdout",
     "output_type": "stream",
     "text": [
      "{'name': 'Austria', 'direction': 'E'}\n",
      "{'name': 'Switzerland', 'direction': 'W'}\n",
      "{'name': 'Malaysia', 'direction': 'N'}\n",
      "{'name': 'Costa Rica', 'direction': 'W'}\n",
      "{'name': 'Colombia', 'direction': 'E'}\n"
     ]
    }
   ],
   "source": [
    "for neigh in root.findall(\"./country/neighbor\"):\n",
    "    print(neigh.attrib)"
   ]
  },
  {
   "cell_type": "code",
   "execution_count": 12,
   "id": "08b53962",
   "metadata": {},
   "outputs": [
    {
     "name": "stdout",
     "output_type": "stream",
     "text": [
      "{'name': 'Austria', 'direction': 'E'}\n",
      "{'name': 'Switzerland', 'direction': 'W'}\n",
      "{'name': 'Malaysia', 'direction': 'N'}\n",
      "{'name': 'Costa Rica', 'direction': 'W'}\n",
      "{'name': 'Colombia', 'direction': 'E'}\n"
     ]
    }
   ],
   "source": [
    "# similar result * matches everything\n",
    "for neigh in root.findall(\"./*/neighbor\"):\n",
    "    print(neigh.attrib)"
   ]
  },
  {
   "cell_type": "code",
   "execution_count": 13,
   "id": "1a5a06fd",
   "metadata": {},
   "outputs": [
    {
     "name": "stdout",
     "output_type": "stream",
     "text": [
      "{'name': 'Austria', 'direction': 'E'}\n",
      "{'name': 'Switzerland', 'direction': 'W'}\n",
      "{'name': 'Malaysia', 'direction': 'N'}\n",
      "{'name': 'Costa Rica', 'direction': 'W'}\n",
      "{'name': 'Colombia', 'direction': 'E'}\n"
     ]
    }
   ],
   "source": [
    "# matches neighbor anywhere\n",
    "# // matches anywhere\n",
    "for neigh in root.findall(\".//neighbor\"):\n",
    "    print(neigh.attrib)"
   ]
  },
  {
   "cell_type": "code",
   "execution_count": 14,
   "id": "fa28db71",
   "metadata": {},
   "outputs": [
    {
     "name": "stdout",
     "output_type": "stream",
     "text": [
      "2008\n",
      "2011\n",
      "2011\n"
     ]
    }
   ],
   "source": [
    "for el in root.findall(\".//year\"):\n",
    "    print(el.text)"
   ]
  },
  {
   "cell_type": "markdown",
   "id": "074e0761",
   "metadata": {},
   "source": [
    "## diference between \"/\" and \"//\""
   ]
  },
  {
   "cell_type": "code",
   "execution_count": 43,
   "id": "954eb18f",
   "metadata": {},
   "outputs": [],
   "source": [
    "xmlstring = \"\"\"<?xml version=\"1.0\"?>\n",
    "<data>\n",
    "    <country name=\"Liechtenstein\">\n",
    "        <rank>1</rank>\n",
    "        <year>2008</year>\n",
    "        <gdppc>141100</gdppc>\n",
    "        <neighbor name=\"Austria\" direction=\"E\"/>\n",
    "        <neighbor name=\"Switzerland\" direction=\"W\"/>\n",
    "    </country>\n",
    "    <neighbor name=\"Colombia\" direction=\"E\"/>\n",
    "</data>\n",
    "\"\"\""
   ]
  },
  {
   "cell_type": "code",
   "execution_count": 44,
   "id": "c7d85ef8",
   "metadata": {},
   "outputs": [],
   "source": [
    "root = ET.fromstring(xmlstring)"
   ]
  },
  {
   "cell_type": "code",
   "execution_count": 45,
   "id": "2decc20f",
   "metadata": {},
   "outputs": [
    {
     "name": "stdout",
     "output_type": "stream",
     "text": [
      "{'name': 'Austria', 'direction': 'E'}\n",
      "{'name': 'Switzerland', 'direction': 'W'}\n"
     ]
    }
   ],
   "source": [
    "for neigh in root.findall(\"./country/neighbor\"):\n",
    "    print(neigh.attrib)"
   ]
  },
  {
   "cell_type": "code",
   "execution_count": 46,
   "id": "f6e50605",
   "metadata": {},
   "outputs": [
    {
     "name": "stdout",
     "output_type": "stream",
     "text": [
      "{'name': 'Austria', 'direction': 'E'}\n",
      "{'name': 'Switzerland', 'direction': 'W'}\n"
     ]
    }
   ],
   "source": [
    "for neigh in root.findall(\"./*/neighbor\"):\n",
    "    print(neigh.attrib)"
   ]
  },
  {
   "cell_type": "code",
   "execution_count": 47,
   "id": "54ed901b",
   "metadata": {},
   "outputs": [
    {
     "name": "stdout",
     "output_type": "stream",
     "text": [
      "{'name': 'Austria', 'direction': 'E'}\n",
      "{'name': 'Switzerland', 'direction': 'W'}\n",
      "{'name': 'Colombia', 'direction': 'E'}\n"
     ]
    }
   ],
   "source": [
    "for neigh in root.findall(\".//neighbor\"):\n",
    "    print(neigh.attrib)"
   ]
  },
  {
   "cell_type": "markdown",
   "id": "697fd511",
   "metadata": {},
   "source": [
    "## using @"
   ]
  },
  {
   "cell_type": "code",
   "execution_count": 48,
   "id": "c6781e16",
   "metadata": {},
   "outputs": [
    {
     "data": {
      "text/plain": [
       "'<?xml version=\"1.0\"?>\\n<data>\\n    <country name=\"Liechtenstein\">\\n        <rank>1</rank>\\n        <year>2008</year>\\n        <gdppc>141100</gdppc>\\n        <neighbor name=\"Austria\" direction=\"E\"/>\\n        <neighbor name=\"Switzerland\" direction=\"W\"/>\\n    </country>\\n    <neighbor name=\"Colombia\" direction=\"E\"/>\\n</data>\\n'"
      ]
     },
     "execution_count": 48,
     "metadata": {},
     "output_type": "execute_result"
    }
   ],
   "source": [
    "xmlstring"
   ]
  },
  {
   "cell_type": "code",
   "execution_count": 49,
   "id": "daefe60c",
   "metadata": {},
   "outputs": [],
   "source": [
    "neig = root.find(\".//neighbor[@name='Austria']\")"
   ]
  },
  {
   "cell_type": "code",
   "execution_count": 50,
   "id": "ac319558",
   "metadata": {},
   "outputs": [
    {
     "data": {
      "text/plain": [
       "{'name': 'Austria', 'direction': 'E'}"
      ]
     },
     "execution_count": 50,
     "metadata": {},
     "output_type": "execute_result"
    }
   ],
   "source": [
    "neig.attrib"
   ]
  },
  {
   "cell_type": "code",
   "execution_count": null,
   "id": "c04610ce",
   "metadata": {},
   "outputs": [],
   "source": []
  },
  {
   "cell_type": "code",
   "execution_count": 57,
   "id": "44637f4c",
   "metadata": {},
   "outputs": [],
   "source": [
    "xml_string = '''\n",
    "<root>\n",
    "  <node1>\n",
    "    <nodename>Matched Value 1</nodename>\n",
    "  </node1>\n",
    "  <node2>\n",
    "    <nodename>Matched Value 2</nodename>\n",
    "  </node2>\n",
    "</root>\n",
    "'''"
   ]
  },
  {
   "cell_type": "code",
   "execution_count": 59,
   "id": "c1a6b8a1",
   "metadata": {},
   "outputs": [],
   "source": [
    "root = ET.fromstring(xml_string)"
   ]
  },
  {
   "cell_type": "code",
   "execution_count": 60,
   "id": "b7d1d453",
   "metadata": {},
   "outputs": [
    {
     "ename": "AttributeError",
     "evalue": "'xml.etree.ElementTree.Element' object has no attribute 'xpath'",
     "output_type": "error",
     "traceback": [
      "\u001b[0;31m---------------------------------------------------------------------------\u001b[0m",
      "\u001b[0;31mAttributeError\u001b[0m                            Traceback (most recent call last)",
      "Cell \u001b[0;32mIn[60], line 1\u001b[0m\n\u001b[0;32m----> 1\u001b[0m \u001b[43mroot\u001b[49m\u001b[38;5;241;43m.\u001b[39;49m\u001b[43mxpath\u001b[49m(\u001b[38;5;124m'\u001b[39m\u001b[38;5;124mnodename\u001b[39m\u001b[38;5;124m'\u001b[39m)\n",
      "\u001b[0;31mAttributeError\u001b[0m: 'xml.etree.ElementTree.Element' object has no attribute 'xpath'"
     ]
    }
   ],
   "source": [
    "root.xpath('nodename')"
   ]
  },
  {
   "cell_type": "code",
   "execution_count": null,
   "id": "2773708d",
   "metadata": {},
   "outputs": [],
   "source": []
  }
 ],
 "metadata": {
  "kernelspec": {
   "display_name": "Python 3 (ipykernel)",
   "language": "python",
   "name": "python3"
  },
  "language_info": {
   "codemirror_mode": {
    "name": "ipython",
    "version": 3
   },
   "file_extension": ".py",
   "mimetype": "text/x-python",
   "name": "python",
   "nbconvert_exporter": "python",
   "pygments_lexer": "ipython3",
   "version": "3.10.11"
  }
 },
 "nbformat": 4,
 "nbformat_minor": 5
}
