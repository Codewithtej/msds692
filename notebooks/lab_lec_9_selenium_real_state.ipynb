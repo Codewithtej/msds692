{
 "cells": [
  {
   "cell_type": "markdown",
   "id": "684d33a9-5b4a-4f7d-a730-754042080bee",
   "metadata": {
    "tags": []
   },
   "source": [
    "## Scraping with Selenium\n",
    "`! pip install selenium` <br>\n",
    "`! pip install webdriver-manager`"
   ]
  },
  {
   "cell_type": "code",
   "execution_count": 13,
   "id": "ab3e322d-40cb-4206-ab35-35e4b4cfa4e4",
   "metadata": {
    "tags": []
   },
   "outputs": [],
   "source": [
    "from selenium import webdriver\n",
    "from selenium.webdriver.chrome.service import Service\n",
    "from webdriver_manager.chrome import ChromeDriverManager\n",
    "from selenium.webdriver.support.ui import Select\n",
    "from selenium.webdriver.common.by import By\n",
    "import time\n",
    "import pathlib\n",
    "import pickle\n",
    "import re"
   ]
  },
  {
   "cell_type": "markdown",
   "id": "20d9a84a",
   "metadata": {},
   "source": [
    "## Getting Descriptions\n",
    "Each ad has a url with more information about the property. We want to scrape that.\n"
   ]
  },
  {
   "cell_type": "code",
   "execution_count": 2,
   "id": "b2cddfe5",
   "metadata": {
    "tags": []
   },
   "outputs": [],
   "source": [
    "with open(\"results/malaga_page_1.pickle\",'rb') as f:\n",
    "    data = pickle.load(f, encoding='utf-8')"
   ]
  },
  {
   "cell_type": "code",
   "execution_count": 3,
   "id": "9224cc1b",
   "metadata": {
    "tags": []
   },
   "outputs": [
    {
     "data": {
      "text/plain": [
       "[{'title': 'Modern Sea View Apartments with Spacious Terraces in Fuengirola',\n",
       "  'desc': 'The sea-view apartments with large terraces are situated in a prestigious community in Fuengirola, Costa del Sol. The gated and secured complex has amazing facilities and social and sports clubs.',\n",
       "  'price': 'FROM\\n€435.000',\n",
       "  'details': ['FUENGIROLA - MÁLAGA', '1, 2, 3', '1, 2'],\n",
       "  'url': 'https://spainhomes.com/ad/agp-0732-new-build-apartments-with-sea-views-in-prime-area-of-fuengirola'},\n",
       " {'title': 'Spacious Villa with Panoramic Sea Views in Benalmadena',\n",
       "  'desc': 'Villa with panoramic sea views is situated in Benalmadena, Costa del Sol. A spacious three-bedroom villa has a generous garden and a private swimming pool.',\n",
       "  'price': '€1.395.000',\n",
       "  'details': ['BENALMÁDENA - MÁLAGA', '3', '3'],\n",
       "  'url': 'https://spainhomes.com/ad/agp-0785-villa-with-excellent-location-and-sea-view-in-benalmadena'},\n",
       " {'title': 'Newly Built Villa with an Appealing Design in Mijas',\n",
       "  'desc': 'The villa is situated in a peaceful residential community in Mijas, Costa del Sol, enjoying lovely mountain views. The true highlight of the property is its unbeatable value-for-money ratio.',\n",
       "  'price': '€1.195.000',\n",
       "  'details': ['MIJAS - MÁLAGA', '4', '4'],\n",
       "  'url': 'https://spainhomes.com/ad/agp-0786-villa-with-mountain-views-in-a-residential-area-of-mijas-spain'}]"
      ]
     },
     "execution_count": 3,
     "metadata": {},
     "output_type": "execute_result"
    }
   ],
   "source": [
    "data[:3]"
   ]
  },
  {
   "cell_type": "code",
   "execution_count": 27,
   "id": "4b9dee74",
   "metadata": {
    "tags": []
   },
   "outputs": [
    {
     "data": {
      "text/plain": [
       "'https://spainhomes.com/ad/agp-0785-villa-with-excellent-location-and-sea-view-in-benalmadena'"
      ]
     },
     "execution_count": 27,
     "metadata": {},
     "output_type": "execute_result"
    }
   ],
   "source": [
    "url = data[1][\"url\"]\n",
    "url"
   ]
  },
  {
   "cell_type": "markdown",
   "id": "d355e5cf-b695-4fd4-894a-744e31294082",
   "metadata": {},
   "source": [
    "## Task 1:\n",
    "Retrieve information under 'General Details' and obtain the 'Summary,' focusing on the square meters (m^2), number of bedrooms, and number of bathrooms. It would also be good to have additional information if available, such as the presence of a pool, distance to the beach, and energy efficiency. <br>\n",
    "You might need to use string manipulation or simple regular expression to clean up your features."
   ]
  },
  {
   "cell_type": "code",
   "execution_count": 28,
   "id": "c1d3de97",
   "metadata": {
    "tags": []
   },
   "outputs": [],
   "source": [
    "driver = webdriver.Chrome(service=Service(ChromeDriverManager().install()))\n",
    "driver.maximize_window()\n",
    "driver.get(url)"
   ]
  },
  {
   "cell_type": "code",
   "execution_count": 11,
   "id": "db78658e-4f4a-4a6d-bdc9-b9b8636440a7",
   "metadata": {
    "tags": []
   },
   "outputs": [
    {
     "data": {
      "text/plain": [
       "['REF.\\nAGP-0785',\n",
       " 'Realtor Fee\\nFREE',\n",
       " 'Location\\nMálaga / Benalmádena',\n",
       " 'Total Floors\\n2',\n",
       " 'Bedrooms\\n3',\n",
       " 'Bathrooms\\n3',\n",
       " 'Pool\\nPrivate Pool',\n",
       " 'Completion Date\\n6 / 2024',\n",
       " 'Distance to Airport\\n0-50 km',\n",
       " 'Distance to Beach\\n1-5 km',\n",
       " '']"
      ]
     },
     "execution_count": 11,
     "metadata": {},
     "output_type": "execute_result"
    }
   ],
   "source": [
    "# sample of possible raw features\n",
    "features"
   ]
  },
  {
   "cell_type": "code",
   "execution_count": 12,
   "id": "6cb87a66-3d8b-4ee0-9c8d-f846d007f75c",
   "metadata": {
    "tags": []
   },
   "outputs": [],
   "source": [
    "driver.quit()"
   ]
  },
  {
   "cell_type": "code",
   "execution_count": 26,
   "id": "1076741a-cd30-4605-9fa1-09449e6ad10b",
   "metadata": {
    "tags": []
   },
   "outputs": [
    {
     "data": {
      "text/plain": [
       "{'size': 243,\n",
       " 'Realtor Fee': 'FREE',\n",
       " 'Location': 'Málaga / Benalmádena',\n",
       " 'Total Floors': '2',\n",
       " 'Bedrooms': '3',\n",
       " 'Bathrooms': '3',\n",
       " 'Pool': 'Private Pool',\n",
       " 'Completion Date': '6 / 2024',\n",
       " 'Distance to Airport': '0-50 km',\n",
       " 'Distance to Beach': '1-5 km'}"
      ]
     },
     "execution_count": 26,
     "metadata": {},
     "output_type": "execute_result"
    }
   ],
   "source": [
    "# sample of some of the clean feautures\n",
    "get_features_from_raw(size, features)"
   ]
  },
  {
   "cell_type": "markdown",
   "id": "c2c59f6d-d851-40ba-8e8f-526560011943",
   "metadata": {},
   "source": [
    "## Task 2:\n",
    "Write a function that given the driver as an input returns a dictionary with all the new info."
   ]
  },
  {
   "cell_type": "code",
   "execution_count": 41,
   "id": "06de0880",
   "metadata": {
    "tags": []
   },
   "outputs": [
    {
     "data": {
      "text/plain": [
       "{'size': 243,\n",
       " 'Realtor Fee': 'FREE',\n",
       " 'Location': 'Málaga / Benalmádena',\n",
       " 'Total Floors': '2',\n",
       " 'Bedrooms': '3',\n",
       " 'Bathrooms': '3',\n",
       " 'Pool': 'Private Pool',\n",
       " 'Completion Date': '6 / 2024',\n",
       " 'Distance to Airport': '0-50 km',\n",
       " 'Distance to Beach': '1-5 km',\n",
       " 'desc': 'Well-Located and Stylish Villa with Sea View in Benalmadena This exclusive villa is located in Benalmadena, a coastal town in the southern region of Andalusia, Costa del Sol. The villa is situated on a picturesque hilltop part of Benalmadena, offering breathtaking views of the Mediterranean Sea. It is considered among the best places to buy villa in Benalmadena. It is a cosmopolitan town that is known for its stunning beaches and numerous tourist attractions. The villa has an excellent location close to all amenities. The villa is 1,9 km from the beach, 5,9 km from Torrequebrada golf course, 21 km from Malaga International Airport, and 38 km from Marbella. To enjoy the outdoors, the villa has a private garden, that seamlessly blends with its surroundings and has a private pool. The idyllic location offers stunning sea views and tranquil living space close to all amenities. The villa has an open-plan kitchen with well-equipped modern appliances and high-quality fixtures, a stylish and functional open-planned living and dining area, and 3 spacious bedrooms with en-suite bathrooms and large windows to enjoy amazing sea views. The open floor plan and strategically positioned floor-to-ceiling windows allow natural light to flood the space and take full advantage of the scenic vistas of the Mediterranean Sea.'}"
      ]
     },
     "execution_count": 41,
     "metadata": {},
     "output_type": "execute_result"
    }
   ],
   "source": [
    "# sample of updated info\n",
    "get_more_info(driver)"
   ]
  },
  {
   "cell_type": "markdown",
   "id": "5f832b4e-1bf2-4a61-98ab-a3fa864b8f2d",
   "metadata": {},
   "source": [
    "## Task 3\n",
    "Write a function that given an element of `data`, updates the new information using previouly define functions. This function should run the driver to get the new info before updating."
   ]
  },
  {
   "cell_type": "code",
   "execution_count": 46,
   "id": "558ff2f3",
   "metadata": {
    "tags": []
   },
   "outputs": [
    {
     "data": {
      "text/plain": [
       "{'title': 'Spacious Villa with Panoramic Sea Views in Benalmadena',\n",
       " 'desc': 'Villa with panoramic sea views is situated in Benalmadena, Costa del Sol. A spacious three-bedroom villa has a generous garden and a private swimming pool.',\n",
       " 'price': '€1.395.000',\n",
       " 'details': ['BENALMÁDENA - MÁLAGA', '3', '3'],\n",
       " 'url': 'https://spainhomes.com/ad/agp-0785-villa-with-excellent-location-and-sea-view-in-benalmadena'}"
      ]
     },
     "execution_count": 46,
     "metadata": {},
     "output_type": "execute_result"
    }
   ],
   "source": [
    "basic_info = data[1]\n",
    "basic_info"
   ]
  },
  {
   "cell_type": "code",
   "execution_count": 47,
   "id": "fa70539a",
   "metadata": {
    "tags": []
   },
   "outputs": [
    {
     "data": {
      "text/plain": [
       "{'title': 'Spacious Villa with Panoramic Sea Views in Benalmadena',\n",
       " 'desc': 'Well-Located and Stylish Villa with Sea View in Benalmadena This exclusive villa is located in Benalmadena, a coastal town in the southern region of Andalusia, Costa del Sol. The villa is situated on a picturesque hilltop part of Benalmadena, offering breathtaking views of the Mediterranean Sea. It is considered among the best places to buy villa in Benalmadena. It is a cosmopolitan town that is known for its stunning beaches and numerous tourist attractions. The villa has an excellent location close to all amenities. The villa is 1,9 km from the beach, 5,9 km from Torrequebrada golf course, 21 km from Malaga International Airport, and 38 km from Marbella. To enjoy the outdoors, the villa has a private garden, that seamlessly blends with its surroundings and has a private pool. The idyllic location offers stunning sea views and tranquil living space close to all amenities. The villa has an open-plan kitchen with well-equipped modern appliances and high-quality fixtures, a stylish and functional open-planned living and dining area, and 3 spacious bedrooms with en-suite bathrooms and large windows to enjoy amazing sea views. The open floor plan and strategically positioned floor-to-ceiling windows allow natural light to flood the space and take full advantage of the scenic vistas of the Mediterranean Sea.',\n",
       " 'price': '€1.395.000',\n",
       " 'details': ['BENALMÁDENA - MÁLAGA', '3', '3'],\n",
       " 'url': 'https://spainhomes.com/ad/agp-0785-villa-with-excellent-location-and-sea-view-in-benalmadena',\n",
       " 'size': 243,\n",
       " 'Realtor Fee': 'FREE',\n",
       " 'Location': 'Málaga / Benalmádena',\n",
       " 'Total Floors': '2',\n",
       " 'Bedrooms': '3',\n",
       " 'Bathrooms': '3',\n",
       " 'Pool': 'Private Pool',\n",
       " 'Completion Date': '6 / 2024',\n",
       " 'Distance to Airport': '0-50 km',\n",
       " 'Distance to Beach': '1-5 km'}"
      ]
     },
     "execution_count": 47,
     "metadata": {},
     "output_type": "execute_result"
    }
   ],
   "source": [
    "update_info(data[1])"
   ]
  },
  {
   "cell_type": "markdown",
   "id": "1bc0f5f4-9ecf-4ebd-9b12-c97db923165d",
   "metadata": {},
   "source": [
    "## Task 4: \n",
    "Write a function that given a path like \"results/malaga_page_1.pickle\" updates the data for every listing and saves the new information in a path like \"detailed_results/malaga_page_1.pickle\"."
   ]
  },
  {
   "cell_type": "code",
   "execution_count": 52,
   "id": "21df8600-0fb4-47d5-8a79-66bc3c449664",
   "metadata": {
    "tags": []
   },
   "outputs": [
    {
     "data": {
      "text/plain": [
       "'malaga_page_1.pickle'"
      ]
     },
     "execution_count": 52,
     "metadata": {},
     "output_type": "execute_result"
    }
   ],
   "source": [
    "path = pathlib.Path(\"results/malaga_page_1.pickle\")\n",
    "results_dir = pathlib.Path(\"detailed_results\")\n",
    "path.name"
   ]
  },
  {
   "cell_type": "code",
   "execution_count": 53,
   "id": "fced27ac-91ce-429d-9723-e6ad6b6316f8",
   "metadata": {
    "tags": []
   },
   "outputs": [
    {
     "data": {
      "text/plain": [
       "PosixPath('detailed_results/malaga_page_1.pickle')"
      ]
     },
     "execution_count": 53,
     "metadata": {},
     "output_type": "execute_result"
    }
   ],
   "source": [
    "new_path = results_dir/path.name\n",
    "new_path"
   ]
  },
  {
   "cell_type": "code",
   "execution_count": 69,
   "id": "52cd8e27-3b39-42d2-b0c6-68955138df1d",
   "metadata": {
    "tags": []
   },
   "outputs": [],
   "source": [
    "! mkdir detailed_results"
   ]
  },
  {
   "cell_type": "code",
   "execution_count": 63,
   "id": "3d60e081-5cfb-4aef-b593-60a23ddbd90c",
   "metadata": {
    "tags": []
   },
   "outputs": [
    {
     "data": {
      "text/plain": [
       "PosixPath('detailed_results/malaga_page_1.pickle')"
      ]
     },
     "execution_count": 63,
     "metadata": {},
     "output_type": "execute_result"
    }
   ],
   "source": [
    "new_path = results_dir/path.name\n",
    "new_path"
   ]
  },
  {
   "cell_type": "code",
   "execution_count": 70,
   "id": "5be3760b-9a70-493f-8f33-8ed8688c9bac",
   "metadata": {
    "tags": []
   },
   "outputs": [
    {
     "name": "stdout",
     "output_type": "stream",
     "text": [
      "detailed_results/malaga_page_1.pickle\n"
     ]
    }
   ],
   "source": [
    "def dump_page(new_data, new_path):\n",
    "    file = open(new_path, 'wb')\n",
    "    pickle.dump(new_data , file)\n",
    "    file.close()\n",
    "    print(new_path)\n",
    "dump_page(new_data, new_path)"
   ]
  },
  {
   "cell_type": "code",
   "execution_count": 71,
   "id": "8c6555e1-3052-42cf-9c4f-3ae678f6e9c1",
   "metadata": {
    "tags": []
   },
   "outputs": [],
   "source": [
    "all_files = [x for x in pathlib.Path(\"results\").iterdir()]"
   ]
  },
  {
   "cell_type": "code",
   "execution_count": 73,
   "id": "0b177f4a-1868-4453-8684-42df5c9dda4a",
   "metadata": {
    "tags": []
   },
   "outputs": [],
   "source": [
    "all_files.sort()"
   ]
  },
  {
   "cell_type": "code",
   "execution_count": null,
   "id": "412c43fe-1acb-4bdd-902b-58854b2cfab0",
   "metadata": {},
   "outputs": [],
   "source": []
  }
 ],
 "metadata": {
  "kernelspec": {
   "display_name": "Python 3 (ipykernel)",
   "language": "python",
   "name": "python3"
  },
  "language_info": {
   "codemirror_mode": {
    "name": "ipython",
    "version": 3
   },
   "file_extension": ".py",
   "mimetype": "text/x-python",
   "name": "python",
   "nbconvert_exporter": "python",
   "pygments_lexer": "ipython3",
   "version": "3.11.4"
  }
 },
 "nbformat": 4,
 "nbformat_minor": 5
}
