{
 "cells": [
  {
   "cell_type": "markdown",
   "id": "19ec65cd-3c7d-48df-a4b6-99a4286f4264",
   "metadata": {},
   "source": [
    "## Text Prepoccessing and Classification "
   ]
  },
  {
   "cell_type": "code",
   "execution_count": 58,
   "id": "e53ad53d-6487-424f-8ebb-121191d7cf90",
   "metadata": {
    "tags": []
   },
   "outputs": [],
   "source": [
    "from os.path import expanduser\n",
    "import pandas as pd\n",
    "import numpy as np\n",
    "from sklearn.model_selection import train_test_split\n",
    "from collections import Counter"
   ]
  },
  {
   "cell_type": "markdown",
   "id": "1a90cce8-45f5-4602-a289-83edeac9562b",
   "metadata": {},
   "source": [
    "The objective of this notebook is to understand the process of preparing text data for a machine learning classification problem. By the end of this notebook, we will have trained a logistic regression model"
   ]
  },
  {
   "cell_type": "markdown",
   "id": "251c81ec-0ecd-42ef-a6ba-12880355f5d0",
   "metadata": {},
   "source": [
    "### Subjectivity dataset\n",
    "The subjectivity dataset has 5000 subjective and 5000 objective processed sentences. To get the data:"
   ]
  },
  {
   "cell_type": "code",
   "execution_count": 1,
   "id": "94dd1f43-685f-4320-85c6-edcc21c92635",
   "metadata": {
    "tags": []
   },
   "outputs": [],
   "source": [
    "def unpack_dataset():\n",
    "    ! wget http://www.cs.cornell.edu/people/pabo/movie-review-data/rotten_imdb.tar.gz\n",
    "    ! tar -xvf rotten_imdb.tar.gz -C ~/data"
   ]
  },
  {
   "cell_type": "code",
   "execution_count": 2,
   "id": "7930841e-1924-44b2-8718-ffab9a6a8d4a",
   "metadata": {
    "tags": []
   },
   "outputs": [
    {
     "name": "stdout",
     "output_type": "stream",
     "text": [
      "--2023-09-12 10:32:07--  http://www.cs.cornell.edu/people/pabo/movie-review-data/rotten_imdb.tar.gz\n",
      "Resolving www.cs.cornell.edu (www.cs.cornell.edu)... 132.236.207.36\n",
      "Connecting to www.cs.cornell.edu (www.cs.cornell.edu)|132.236.207.36|:80... connected.\n",
      "HTTP request sent, awaiting response... 200 OK\n",
      "Length: 519599 (507K) [application/x-gzip]\n",
      "Saving to: ‘rotten_imdb.tar.gz’\n",
      "\n",
      "rotten_imdb.tar.gz  100%[===================>] 507.42K  1.10MB/s    in 0.4s    \n",
      "\n",
      "2023-09-12 10:32:10 (1.10 MB/s) - ‘rotten_imdb.tar.gz’ saved [519599/519599]\n",
      "\n",
      "x quote.tok.gt9.5000\n",
      "x plot.tok.gt9.5000\n",
      "x subjdata.README.1.0\n"
     ]
    }
   ],
   "source": [
    "unpack_dataset()"
   ]
  },
  {
   "cell_type": "code",
   "execution_count": 5,
   "id": "b4c395b7-3c2e-419b-98ca-6d04b8dd904c",
   "metadata": {
    "tags": []
   },
   "outputs": [
    {
     "name": "stdout",
     "output_type": "stream",
     "text": [
      "smart and alert , thirteen conversations about one thing is a small gem . \n",
      "color , musical bounce and warm seas lapping on island shores . and just enough science to send you home thinking . \n",
      "it is not a mass-market entertainment but an uncompromising attempt by one artist to think about another . \n"
     ]
    }
   ],
   "source": [
    "# these are subjective sentences\n",
    "! head -3 ~/data/quote.tok.gt9.5000"
   ]
  },
  {
   "cell_type": "code",
   "execution_count": 6,
   "id": "0dba48a2-c75a-4d4a-8fe4-8b11dfa93934",
   "metadata": {
    "tags": []
   },
   "outputs": [
    {
     "name": "stdout",
     "output_type": "stream",
     "text": [
      "the movie begins in the past where a young boy named sam attempts to save celebi from a hunter . \n",
      "emerging from the human psyche and showing characteristics of abstract expressionism , minimalism and russian constructivism , graffiti removal has secured its place in the history of modern art while being created by artists who are unconscious of their artistic achievements . \n",
      "spurning her mother's insistence that she get on with her life , mary is thrown out of the house , rejected by joe , and expelled from school as she grows larger with child . \n"
     ]
    }
   ],
   "source": [
    "# these are objective sentences\n",
    "! head -3 ~/data/plot.tok.gt9.5000"
   ]
  },
  {
   "cell_type": "markdown",
   "id": "c8d853f2-2cf6-45a7-8e94-2a4d04a4d64c",
   "metadata": {},
   "source": [
    "### Create a pandas dataframe\n",
    "Import data in a pandas dataframe, create labels. Each sentence is an observation that can be objective (label 1) or subjective (label 0)."
   ]
  },
  {
   "cell_type": "code",
   "execution_count": 7,
   "id": "3305a3e4-86f0-4a30-92c7-99acda8da57a",
   "metadata": {
    "tags": []
   },
   "outputs": [],
   "source": [
    "def read_file(path):\n",
    "    \"\"\" Read file returns a list of lines.\n",
    "    \"\"\"\n",
    "    with open(path, encoding = \"ISO-8859-1\") as f:\n",
    "        content = f.readlines()\n",
    "    return content"
   ]
  },
  {
   "cell_type": "code",
   "execution_count": 11,
   "id": "495a65aa-d80a-46c4-80ea-beb6d2cca7eb",
   "metadata": {
    "tags": []
   },
   "outputs": [],
   "source": [
    "path = expanduser(\"~/data/quote.tok.gt9.5000\")\n",
    "sub_lines = read_file(path)"
   ]
  },
  {
   "cell_type": "code",
   "execution_count": 12,
   "id": "0a04acac-853a-486f-90c8-e3f15e085396",
   "metadata": {
    "tags": []
   },
   "outputs": [],
   "source": [
    "path = expanduser(\"~/data/plot.tok.gt9.5000\")\n",
    "obj_lines = read_file(path)"
   ]
  },
  {
   "cell_type": "code",
   "execution_count": 16,
   "id": "a6f84f32-9986-476a-b844-071af0f768e7",
   "metadata": {
    "tags": []
   },
   "outputs": [
    {
     "data": {
      "text/html": [
       "<div>\n",
       "<style scoped>\n",
       "    .dataframe tbody tr th:only-of-type {\n",
       "        vertical-align: middle;\n",
       "    }\n",
       "\n",
       "    .dataframe tbody tr th {\n",
       "        vertical-align: top;\n",
       "    }\n",
       "\n",
       "    .dataframe thead th {\n",
       "        text-align: right;\n",
       "    }\n",
       "</style>\n",
       "<table border=\"1\" class=\"dataframe\">\n",
       "  <thead>\n",
       "    <tr style=\"text-align: right;\">\n",
       "      <th></th>\n",
       "      <th>text</th>\n",
       "      <th>label</th>\n",
       "    </tr>\n",
       "  </thead>\n",
       "  <tbody>\n",
       "    <tr>\n",
       "      <th>0</th>\n",
       "      <td>smart and alert , thirteen conversations about...</td>\n",
       "      <td>0</td>\n",
       "    </tr>\n",
       "    <tr>\n",
       "      <th>1</th>\n",
       "      <td>color , musical bounce and warm seas lapping o...</td>\n",
       "      <td>0</td>\n",
       "    </tr>\n",
       "    <tr>\n",
       "      <th>2</th>\n",
       "      <td>it is not a mass-market entertainment but an u...</td>\n",
       "      <td>0</td>\n",
       "    </tr>\n",
       "    <tr>\n",
       "      <th>3</th>\n",
       "      <td>a light-hearted french film about the spiritua...</td>\n",
       "      <td>0</td>\n",
       "    </tr>\n",
       "    <tr>\n",
       "      <th>4</th>\n",
       "      <td>my wife is an actress has its moments in looki...</td>\n",
       "      <td>0</td>\n",
       "    </tr>\n",
       "  </tbody>\n",
       "</table>\n",
       "</div>"
      ],
      "text/plain": [
       "                                                text  label\n",
       "0  smart and alert , thirteen conversations about...      0\n",
       "1  color , musical bounce and warm seas lapping o...      0\n",
       "2  it is not a mass-market entertainment but an u...      0\n",
       "3  a light-hearted french film about the spiritua...      0\n",
       "4  my wife is an actress has its moments in looki...      0"
      ]
     },
     "execution_count": 16,
     "metadata": {},
     "output_type": "execute_result"
    }
   ],
   "source": [
    "df0 = pd.DataFrame({\"text\": sub_lines})\n",
    "df0[\"label\"] = 0\n",
    "df0.head()"
   ]
  },
  {
   "cell_type": "code",
   "execution_count": 17,
   "id": "f1a8ed1d-c4b9-4481-a63c-a33b1ec414d9",
   "metadata": {
    "tags": []
   },
   "outputs": [
    {
     "data": {
      "text/html": [
       "<div>\n",
       "<style scoped>\n",
       "    .dataframe tbody tr th:only-of-type {\n",
       "        vertical-align: middle;\n",
       "    }\n",
       "\n",
       "    .dataframe tbody tr th {\n",
       "        vertical-align: top;\n",
       "    }\n",
       "\n",
       "    .dataframe thead th {\n",
       "        text-align: right;\n",
       "    }\n",
       "</style>\n",
       "<table border=\"1\" class=\"dataframe\">\n",
       "  <thead>\n",
       "    <tr style=\"text-align: right;\">\n",
       "      <th></th>\n",
       "      <th>text</th>\n",
       "      <th>label</th>\n",
       "    </tr>\n",
       "  </thead>\n",
       "  <tbody>\n",
       "    <tr>\n",
       "      <th>0</th>\n",
       "      <td>the movie begins in the past where a young boy...</td>\n",
       "      <td>1</td>\n",
       "    </tr>\n",
       "    <tr>\n",
       "      <th>1</th>\n",
       "      <td>emerging from the human psyche and showing cha...</td>\n",
       "      <td>1</td>\n",
       "    </tr>\n",
       "    <tr>\n",
       "      <th>2</th>\n",
       "      <td>spurning her mother's insistence that she get ...</td>\n",
       "      <td>1</td>\n",
       "    </tr>\n",
       "    <tr>\n",
       "      <th>3</th>\n",
       "      <td>amitabh can't believe the board of directors a...</td>\n",
       "      <td>1</td>\n",
       "    </tr>\n",
       "    <tr>\n",
       "      <th>4</th>\n",
       "      <td>she , among others excentricities , talks to a...</td>\n",
       "      <td>1</td>\n",
       "    </tr>\n",
       "  </tbody>\n",
       "</table>\n",
       "</div>"
      ],
      "text/plain": [
       "                                                text  label\n",
       "0  the movie begins in the past where a young boy...      1\n",
       "1  emerging from the human psyche and showing cha...      1\n",
       "2  spurning her mother's insistence that she get ...      1\n",
       "3  amitabh can't believe the board of directors a...      1\n",
       "4  she , among others excentricities , talks to a...      1"
      ]
     },
     "execution_count": 17,
     "metadata": {},
     "output_type": "execute_result"
    }
   ],
   "source": [
    "df1 = pd.DataFrame({\"text\": obj_lines})\n",
    "df1[\"label\"] = 1\n",
    "df1.head()"
   ]
  },
  {
   "cell_type": "code",
   "execution_count": 19,
   "id": "5442ea0d-6c6f-425e-ac14-6adbc7ebcb44",
   "metadata": {
    "tags": []
   },
   "outputs": [],
   "source": [
    "## concatenate the two files \n",
    "# Concatenate them vertically (along rows)\n",
    "df = pd.concat([df0, df1])\n",
    "\n",
    "# Reset the index, especially if you want a continuous index\n",
    "df = df.reset_index(drop=True)"
   ]
  },
  {
   "cell_type": "code",
   "execution_count": 20,
   "id": "1dccd79d-ec0b-4e03-868b-78f39076103c",
   "metadata": {
    "tags": []
   },
   "outputs": [
    {
     "data": {
      "text/plain": [
       "(10000, 2)"
      ]
     },
     "execution_count": 20,
     "metadata": {},
     "output_type": "execute_result"
    }
   ],
   "source": [
    "df.shape"
   ]
  },
  {
   "cell_type": "markdown",
   "id": "4604d136-7d48-44cd-a6dc-782bd8d3f26e",
   "metadata": {
    "tags": []
   },
   "source": [
    "### Tokenizing with Spacy"
   ]
  },
  {
   "cell_type": "code",
   "execution_count": 193,
   "id": "d8f7287f-a68f-4dfa-9084-2c2ddd9ddbb6",
   "metadata": {
    "tags": []
   },
   "outputs": [],
   "source": [
    "import spacy\n",
    "nlp = spacy.load(\"en_core_web_sm\")"
   ]
  },
  {
   "cell_type": "code",
   "execution_count": 194,
   "id": "9130008e-d8be-4c32-bd70-6dc63c5ccfe3",
   "metadata": {
    "tags": []
   },
   "outputs": [],
   "source": [
    "def tokenizing(text):\n",
    "    \"\"\"Given a string of text return a list of tokens.\n",
    "    \n",
    "    Use Spacy do do the tokenization. Exclude punctuations, stopwords and '\\n'.\n",
    "    \"\"\"\n",
    "    # Write code here\n",
    "    return "
   ]
  },
  {
   "cell_type": "code",
   "execution_count": 92,
   "id": "c72caaaf-6b9b-4cdf-a5d8-99ca08bd912e",
   "metadata": {
    "tags": []
   },
   "outputs": [
    {
     "data": {
      "text/plain": [
       "['joe', 'expelled', 'school', 'grows', 'larger', 'child']"
      ]
     },
     "execution_count": 92,
     "metadata": {},
     "output_type": "execute_result"
    }
   ],
   "source": [
    "tokenizing(test_string)"
   ]
  },
  {
   "cell_type": "code",
   "execution_count": 93,
   "id": "75ffa11a-e8c2-4188-9862-81889ca570b4",
   "metadata": {
    "tags": []
   },
   "outputs": [],
   "source": [
    "test_string = \"joe , and expelled from school as she grows larger with child \\n.\"\n",
    "test_list = ['joe', 'expelled', 'school', 'grows', 'larger', 'child']"
   ]
  },
  {
   "cell_type": "code",
   "execution_count": 94,
   "id": "70b7cdb4-0fa6-4883-a4c9-141a2c03c5ec",
   "metadata": {
    "tags": []
   },
   "outputs": [],
   "source": [
    "test = tokenizing(test_string)\n",
    "for i in range(len(test)):\n",
    "    assert(test[i] == test_list[i])"
   ]
  },
  {
   "cell_type": "code",
   "execution_count": 95,
   "id": "7e8c5799-0f3f-46b6-96e2-15d390deb8e9",
   "metadata": {
    "tags": []
   },
   "outputs": [],
   "source": [
    "# create a new column in df with the tokenize list. Hint: use df.apply()\n",
    "# Write code here\n",
    "df[\"tokens\"] = "
   ]
  },
  {
   "cell_type": "code",
   "execution_count": 96,
   "id": "74aec6a4-b057-41c7-9ac6-beb0f52d042c",
   "metadata": {
    "tags": []
   },
   "outputs": [
    {
     "data": {
      "text/html": [
       "<div>\n",
       "<style scoped>\n",
       "    .dataframe tbody tr th:only-of-type {\n",
       "        vertical-align: middle;\n",
       "    }\n",
       "\n",
       "    .dataframe tbody tr th {\n",
       "        vertical-align: top;\n",
       "    }\n",
       "\n",
       "    .dataframe thead th {\n",
       "        text-align: right;\n",
       "    }\n",
       "</style>\n",
       "<table border=\"1\" class=\"dataframe\">\n",
       "  <thead>\n",
       "    <tr style=\"text-align: right;\">\n",
       "      <th></th>\n",
       "      <th>text</th>\n",
       "      <th>label</th>\n",
       "      <th>tokens</th>\n",
       "    </tr>\n",
       "  </thead>\n",
       "  <tbody>\n",
       "    <tr>\n",
       "      <th>0</th>\n",
       "      <td>smart and alert , thirteen conversations about...</td>\n",
       "      <td>0</td>\n",
       "      <td>[smart, alert, thirteen, conversations, thing,...</td>\n",
       "    </tr>\n",
       "    <tr>\n",
       "      <th>1</th>\n",
       "      <td>color , musical bounce and warm seas lapping o...</td>\n",
       "      <td>0</td>\n",
       "      <td>[color, musical, bounce, warm, seas, lapping, ...</td>\n",
       "    </tr>\n",
       "    <tr>\n",
       "      <th>2</th>\n",
       "      <td>it is not a mass-market entertainment but an u...</td>\n",
       "      <td>0</td>\n",
       "      <td>[mass, market, entertainment, uncompromising, ...</td>\n",
       "    </tr>\n",
       "    <tr>\n",
       "      <th>3</th>\n",
       "      <td>a light-hearted french film about the spiritua...</td>\n",
       "      <td>0</td>\n",
       "      <td>[light, hearted, french, film, spiritual, ques...</td>\n",
       "    </tr>\n",
       "    <tr>\n",
       "      <th>4</th>\n",
       "      <td>my wife is an actress has its moments in looki...</td>\n",
       "      <td>0</td>\n",
       "      <td>[wife, actress, moments, looking, comic, effec...</td>\n",
       "    </tr>\n",
       "  </tbody>\n",
       "</table>\n",
       "</div>"
      ],
      "text/plain": [
       "                                                text  label  \\\n",
       "0  smart and alert , thirteen conversations about...      0   \n",
       "1  color , musical bounce and warm seas lapping o...      0   \n",
       "2  it is not a mass-market entertainment but an u...      0   \n",
       "3  a light-hearted french film about the spiritua...      0   \n",
       "4  my wife is an actress has its moments in looki...      0   \n",
       "\n",
       "                                              tokens  \n",
       "0  [smart, alert, thirteen, conversations, thing,...  \n",
       "1  [color, musical, bounce, warm, seas, lapping, ...  \n",
       "2  [mass, market, entertainment, uncompromising, ...  \n",
       "3  [light, hearted, french, film, spiritual, ques...  \n",
       "4  [wife, actress, moments, looking, comic, effec...  "
      ]
     },
     "execution_count": 96,
     "metadata": {},
     "output_type": "execute_result"
    }
   ],
   "source": [
    "df.head()"
   ]
  },
  {
   "cell_type": "code",
   "execution_count": 97,
   "id": "5d36aafb-b33f-48c7-9ecb-7ee2607351c5",
   "metadata": {
    "tags": []
   },
   "outputs": [],
   "source": [
    "# safe df in as a pickle file with the name subjectivity.pickle in ~/data\n",
    "# TODO: delete\n",
    "# Write code here"
   ]
  },
  {
   "cell_type": "code",
   "execution_count": 98,
   "id": "76fee8f9-db53-4138-a418-d23bbe92a065",
   "metadata": {
    "tags": []
   },
   "outputs": [],
   "source": [
    "df = pd.read_pickle(\"~/data/subjectivity.pickle\")"
   ]
  },
  {
   "cell_type": "markdown",
   "id": "7a57c3a7-eb87-4964-b90d-f61f782c4c09",
   "metadata": {},
   "source": [
    "### Split data in train and test"
   ]
  },
  {
   "cell_type": "code",
   "execution_count": 99,
   "id": "85c7868f-3db2-428f-af1a-60daaa8837fd",
   "metadata": {
    "tags": []
   },
   "outputs": [],
   "source": [
    "shuffled_df = df.sample(frac=1.0, random_state=42)\n",
    "\n",
    "# Split the shuffled DataFrame into training and testing sets (e.g., 80% train, 20% test)\n",
    "train_df, test_df = train_test_split(shuffled_df, test_size=0.2, random_state=42)"
   ]
  },
  {
   "cell_type": "code",
   "execution_count": 100,
   "id": "efc70cca-be8e-47d6-a2f0-4f5b5df23612",
   "metadata": {
    "tags": []
   },
   "outputs": [
    {
     "data": {
      "text/plain": [
       "(8000, 2000)"
      ]
     },
     "execution_count": 100,
     "metadata": {},
     "output_type": "execute_result"
    }
   ],
   "source": [
    "len(train_df), len(test_df)"
   ]
  },
  {
   "cell_type": "markdown",
   "id": "bdc2c13a-6145-45e7-b76a-39ffe2294c67",
   "metadata": {},
   "source": [
    "### Feature selection \n",
    "Compute term frequency for all documents in the train data."
   ]
  },
  {
   "cell_type": "code",
   "execution_count": 101,
   "id": "850aa4b8-f9cc-4284-9c29-13cbba08670c",
   "metadata": {
    "tags": []
   },
   "outputs": [],
   "source": [
    "def concatenate_lists(list_of_list):\n",
    "    \"\"\" Given a list of lists create a single list\n",
    "    \"\"\"\n",
    "    # Write code here\n",
    "    return all_tokens"
   ]
  },
  {
   "cell_type": "code",
   "execution_count": 102,
   "id": "45db7f71-b6e0-4c08-88df-87b8336d5030",
   "metadata": {
    "tags": []
   },
   "outputs": [],
   "source": [
    "test_list_of_list = [[1, 2, 3], [4, 5], [6, 7, 8]]\n",
    "test_actual = concatenate_lists(test_list_of_list)\n",
    "test_expected = [1, 2, 3, 4, 5, 6, 7, 8]\n",
    "for i in range(len(test_expected)):\n",
    "    assert(test_expected[i] == test_actual[i])"
   ]
  },
  {
   "cell_type": "code",
   "execution_count": 103,
   "id": "ce287801-22ad-4461-b8d1-59271cff8def",
   "metadata": {
    "tags": []
   },
   "outputs": [],
   "source": [
    "def compute_freq(df):\n",
    "    \"\"\" Given a dataframe returns a dictionary of tokens to frequency\n",
    "    \"\"\"\n",
    "    # Write code here\n",
    "    return counts"
   ]
  },
  {
   "cell_type": "code",
   "execution_count": 108,
   "id": "fb345d0a-1a24-41b8-a23b-bdde29ab2512",
   "metadata": {
    "tags": []
   },
   "outputs": [],
   "source": [
    "token_freq = compute_freq(train_df)\n",
    "assert len(token_freq) == 18705\n",
    "assert token_freq['film'] == 801"
   ]
  },
  {
   "cell_type": "code",
   "execution_count": 109,
   "id": "17477ffb-c0b0-4b93-a287-e5e74d13df7d",
   "metadata": {
    "tags": []
   },
   "outputs": [],
   "source": [
    "def top_K_most_common_tokens(token_freq, K=100):\n",
    "    \"\"\" Returns a list of the K most common tokens in the corpus.\"\"\"\n",
    "    # Write code here\n",
    "    return "
   ]
  },
  {
   "cell_type": "code",
   "execution_count": 113,
   "id": "f1283fb8-695b-4925-9a64-e59f03c5041c",
   "metadata": {
    "tags": []
   },
   "outputs": [],
   "source": [
    "expected = ['film', 'movie', 'story', 'life', 'love', 'like', 'new', 'time', 'world', 'man']\n",
    "assert top_K_most_common_tokens(token_freq, K=10) == expected"
   ]
  },
  {
   "cell_type": "code",
   "execution_count": 114,
   "id": "55a97345-77e9-445d-8eab-83886fb570f8",
   "metadata": {
    "tags": []
   },
   "outputs": [],
   "source": [
    "top_100 = top_K_most_common_tokens(token_freq)"
   ]
  },
  {
   "cell_type": "markdown",
   "id": "9a11cfcf-9a48-44c9-ab11-c08341f4dcdb",
   "metadata": {},
   "source": [
    "### Creating bag of word features"
   ]
  },
  {
   "cell_type": "code",
   "execution_count": 189,
   "id": "d9b9b01c-06c3-4d5c-84d5-38f55327cb53",
   "metadata": {
    "tags": []
   },
   "outputs": [],
   "source": [
    "def bag_of_word_encoding(tokens, keywords=top_100):\n",
    "    \"\"\"Creates a bag of word econding for an observation\n",
    "    Given a list of tokens and a list of keywords returns\n",
    "    a list of 0 and 1s\n",
    "    \"\"\"\n",
    "    Write code here\n",
    "    return "
   ]
  },
  {
   "cell_type": "code",
   "execution_count": 190,
   "id": "5e6deb34-fd43-4a08-b3f1-39598cc9a572",
   "metadata": {
    "tags": []
   },
   "outputs": [],
   "source": [
    "test_keywords = ['film', 'movie', 'story']\n",
    "assert bag_of_word_encoding(['film'], test_keywords) == [1, 0, 0]\n",
    "assert bag_of_word_encoding(['movie', 'fun'], test_keywords) == [0, 1, 0]\n",
    "assert bag_of_word_encoding(['happy', 'fun'], test_keywords) == [0, 0, 0]"
   ]
  },
  {
   "cell_type": "code",
   "execution_count": 177,
   "id": "79040a89-6cc8-4196-8da9-5d8483c6625a",
   "metadata": {
    "tags": []
   },
   "outputs": [],
   "source": [
    "# Add a encoding with the top 100 tokens to the train and test dataframes\n",
    "# use the apply function\n",
    "# Write code here\n",
    "train_df[\"encoding\"] = "
   ]
  },
  {
   "cell_type": "code",
   "execution_count": 178,
   "id": "3421e2ec-9202-4072-9714-9938f84aa010",
   "metadata": {
    "tags": []
   },
   "outputs": [],
   "source": [
    "# Write code here\n",
    "test_df[\"encoding\"] = "
   ]
  },
  {
   "cell_type": "markdown",
   "id": "65f02b61-f745-435f-a28c-17dce4c4c3c4",
   "metadata": {},
   "source": [
    "### Creating a baseline model"
   ]
  },
  {
   "cell_type": "code",
   "execution_count": 182,
   "id": "58c71ff9-53bc-49b3-a4a6-facc4d80c122",
   "metadata": {
    "tags": []
   },
   "outputs": [],
   "source": [
    "X_train = train_df[\"encoding\"].values\n",
    "X_test = test_df[\"encoding\"].values\n",
    "y_train = train_df[\"label\"].values\n",
    "y_test = test_df[\"label\"].values"
   ]
  },
  {
   "cell_type": "code",
   "execution_count": 186,
   "id": "e4d85bd2-eb51-43dd-b06f-318efe0795df",
   "metadata": {
    "tags": []
   },
   "outputs": [
    {
     "data": {
      "text/plain": [
       "(8000, 100)"
      ]
     },
     "execution_count": 186,
     "metadata": {},
     "output_type": "execute_result"
    }
   ],
   "source": [
    "# making a list of list a 2D np.array\n",
    "X_train = np.array([np.array(xi) for xi in X_train])\n",
    "X_train.shape"
   ]
  },
  {
   "cell_type": "code",
   "execution_count": 188,
   "id": "8b78d62c-b977-46b5-98ca-054caa638c1e",
   "metadata": {
    "tags": []
   },
   "outputs": [
    {
     "data": {
      "text/plain": [
       "(2000, 100)"
      ]
     },
     "execution_count": 188,
     "metadata": {},
     "output_type": "execute_result"
    }
   ],
   "source": [
    "X_test = np.array([np.array(xi) for xi in X_test])\n",
    "X_test.shape"
   ]
  },
  {
   "cell_type": "code",
   "execution_count": 163,
   "id": "70bacb43-8b0c-4073-a852-7cb632b01e84",
   "metadata": {
    "tags": []
   },
   "outputs": [],
   "source": [
    "from sklearn.linear_model import LogisticRegression"
   ]
  },
  {
   "cell_type": "code",
   "execution_count": 187,
   "id": "4f46e62f-2dee-4672-8156-a3459a54fe2e",
   "metadata": {
    "tags": []
   },
   "outputs": [],
   "source": [
    "clf = LogisticRegression(random_state=0).fit(X_train, y_train)"
   ]
  },
  {
   "cell_type": "code",
   "execution_count": 192,
   "id": "d567b033-b26b-456b-b86b-168f1960c899",
   "metadata": {
    "tags": []
   },
   "outputs": [
    {
     "data": {
      "text/plain": [
       "0.7485"
      ]
     },
     "execution_count": 192,
     "metadata": {},
     "output_type": "execute_result"
    }
   ],
   "source": [
    "# this is the accuracy\n",
    "clf.score(X_test, y_test)"
   ]
  },
  {
   "cell_type": "markdown",
   "id": "af5513cc-65eb-410b-b21b-0be770607d15",
   "metadata": {},
   "source": [
    "Can we improve accuracy by incresing the number of keywords?"
   ]
  },
  {
   "cell_type": "code",
   "execution_count": null,
   "id": "f5881b7d-3684-4ffd-8af0-09ead3739a6a",
   "metadata": {},
   "outputs": [],
   "source": []
  }
 ],
 "metadata": {
  "kernelspec": {
   "display_name": "Python 3 (ipykernel)",
   "language": "python",
   "name": "python3"
  },
  "language_info": {
   "codemirror_mode": {
    "name": "ipython",
    "version": 3
   },
   "file_extension": ".py",
   "mimetype": "text/x-python",
   "name": "python",
   "nbconvert_exporter": "python",
   "pygments_lexer": "ipython3",
   "version": "3.11.4"
  }
 },
 "nbformat": 4,
 "nbformat_minor": 5
}
