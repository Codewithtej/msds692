{
 "cells": [
  {
   "cell_type": "code",
   "execution_count": 1,
   "id": "c409f80c-1274-4232-940e-34b064816c27",
   "metadata": {
    "tags": []
   },
   "outputs": [],
   "source": [
    "from selenium import webdriver\n",
    "from selenium.webdriver.support.ui import Select\n",
    "from selenium.webdriver.common.by import By\n",
    "import time"
   ]
  },
  {
   "cell_type": "code",
   "execution_count": 2,
   "id": "162753a2-5785-42c1-a6f1-e5a2be7ff49c",
   "metadata": {
    "tags": []
   },
   "outputs": [],
   "source": [
    "website=\"https://www.redfin.com/neighborhood/202/CA/San-Francisco/Bernal-Heights/new-listings\""
   ]
  },
  {
   "cell_type": "code",
   "execution_count": 3,
   "id": "c44dd29d-624c-47c3-a059-836e1b90ae93",
   "metadata": {
    "tags": []
   },
   "outputs": [],
   "source": [
    "driver = webdriver.Chrome()\n",
    "driver.maximize_window()\n",
    "# Visit the website\n",
    "driver.get(website)"
   ]
  },
  {
   "cell_type": "code",
   "execution_count": 11,
   "id": "b103f2b8-b876-48e9-865e-d2aa892ee110",
   "metadata": {
    "tags": []
   },
   "outputs": [],
   "source": [
    "driver.quit()"
   ]
  },
  {
   "cell_type": "code",
   "execution_count": null,
   "id": "0b16e9b6-a21a-4c51-a98d-3555a081cb67",
   "metadata": {},
   "outputs": [],
   "source": []
  }
 ],
 "metadata": {
  "kernelspec": {
   "display_name": "Python 3 (ipykernel)",
   "language": "python",
   "name": "python3"
  },
  "language_info": {
   "codemirror_mode": {
    "name": "ipython",
    "version": 3
   },
   "file_extension": ".py",
   "mimetype": "text/x-python",
   "name": "python",
   "nbconvert_exporter": "python",
   "pygments_lexer": "ipython3",
   "version": "3.11.4"
  }
 },
 "nbformat": 4,
 "nbformat_minor": 5
}
