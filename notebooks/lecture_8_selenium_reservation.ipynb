{
 "cells": [
  {
   "cell_type": "code",
   "execution_count": 41,
   "id": "7942a169",
   "metadata": {
    "tags": []
   },
   "outputs": [],
   "source": [
    "from selenium import webdriver\n",
    "from selenium.webdriver.chrome.service import Service\n",
    "from webdriver_manager.chrome import ChromeDriverManager\n",
    "from selenium.webdriver.support.ui import Select\n",
    "from selenium.webdriver.common.by import By\n",
    "import time"
   ]
  },
  {
   "cell_type": "code",
   "execution_count": 42,
   "id": "a80bb1d3",
   "metadata": {
    "tags": []
   },
   "outputs": [],
   "source": [
    "website = \"https://nova-icaria.deporsite.net/reserves-padel?IdDeporte=1\""
   ]
  },
  {
   "cell_type": "code",
   "execution_count": 43,
   "id": "65d84cb4",
   "metadata": {
    "tags": []
   },
   "outputs": [],
   "source": [
    "driver = webdriver.Chrome(service=Service(ChromeDriverManager().install()))\n",
    "driver.maximize_window()\n",
    "driver.get(website)\n",
    "# wait until the page is loaded or put a wait here"
   ]
  },
  {
   "cell_type": "code",
   "execution_count": 44,
   "id": "78b40878",
   "metadata": {
    "tags": []
   },
   "outputs": [],
   "source": [
    "# next day\n",
    "# you can also use '//div[@class=\"next-day col-xs-2 text-right\"]'\n",
    "arrow = driver.find_element(By.XPATH, \"//div[contains(@class, 'next-day')]\")\n",
    "arrow.click()"
   ]
  },
  {
   "cell_type": "code",
   "execution_count": 45,
   "id": "e00d8f87",
   "metadata": {
    "tags": []
   },
   "outputs": [],
   "source": [
    "# next day\n",
    "arrow = driver.find_element(By.XPATH, \"//div[contains(@class, 'next-day')]\")\n",
    "arrow.click()"
   ]
  },
  {
   "cell_type": "code",
   "execution_count": 46,
   "id": "3f167a9d",
   "metadata": {
    "tags": []
   },
   "outputs": [],
   "source": [
    "# all spots at this time\n",
    "spots_13_30 = driver.find_elements(By.XPATH, \"//td[@data-horainicio='13:30']\")"
   ]
  },
  {
   "cell_type": "code",
   "execution_count": 47,
   "id": "1e1f1a7f-892f-425e-9f20-4a4ffdc81c80",
   "metadata": {
    "tags": []
   },
   "outputs": [
    {
     "data": {
      "text/plain": [
       "14"
      ]
     },
     "execution_count": 47,
     "metadata": {},
     "output_type": "execute_result"
    }
   ],
   "source": [
    "len(spots_13_30) # 7 days a week either 60 or 90 minutes"
   ]
  },
  {
   "cell_type": "code",
   "execution_count": 34,
   "id": "fa314611-aec3-42ea-83b1-e4f6703f1fc3",
   "metadata": {
    "tags": []
   },
   "outputs": [
    {
     "data": {
      "text/plain": [
       "('Pista Padel 1', '13')"
      ]
     },
     "execution_count": 34,
     "metadata": {},
     "output_type": "execute_result"
    }
   ],
   "source": [
    "elm = spots_13_30[0]\n",
    "next_elm = get_next_elm(elm)\n",
    "pista = elm.get_attribute(\"data-nombrerecurso\")\n",
    "fila = elm.get_attribute(\"data-fila\")\n",
    "pista, fila"
   ]
  },
  {
   "cell_type": "code",
   "execution_count": 35,
   "id": "ccf4c6c1-2385-45a0-bf2b-e083380e5927",
   "metadata": {
    "tags": []
   },
   "outputs": [],
   "source": [
    "elm.click()"
   ]
  },
  {
   "cell_type": "code",
   "execution_count": 37,
   "id": "ea7bfe17-4af0-4b15-afcd-66ce71ee8bca",
   "metadata": {
    "tags": []
   },
   "outputs": [
    {
     "data": {
      "text/plain": [
       "2"
      ]
     },
     "execution_count": 37,
     "metadata": {},
     "output_type": "execute_result"
    }
   ],
   "source": [
    "hours = driver.find_elements(By.XPATH, '//div[@class=\"btn-modal-horas\"]')\n",
    "len(hours)"
   ]
  },
  {
   "cell_type": "code",
   "execution_count": 38,
   "id": "7238141b-dbb8-40c7-99b6-a34e72eab72d",
   "metadata": {
    "tags": []
   },
   "outputs": [],
   "source": [
    "hours[1].click()"
   ]
  },
  {
   "cell_type": "code",
   "execution_count": 39,
   "id": "cdf0bb89-3b9e-4ce8-9591-39d9939dec17",
   "metadata": {
    "tags": []
   },
   "outputs": [],
   "source": [
    "driver.find_element(\"id\", \"email\").send_keys(\"XXX@gmail.com\")\n",
    "driver.find_element(\"id\", \"password\").send_keys(\"XXXX\")\n",
    "# you get the idea"
   ]
  },
  {
   "cell_type": "code",
   "execution_count": 40,
   "id": "3912b16a-aa4c-44ba-968d-64789a948d7f",
   "metadata": {
    "tags": []
   },
   "outputs": [],
   "source": [
    "driver.quit()"
   ]
  },
  {
   "cell_type": "markdown",
   "id": "a1b6c8dd-d21e-4fa8-bf12-22478bf1c319",
   "metadata": {},
   "source": [
    "### You can try to find other spots"
   ]
  },
  {
   "cell_type": "code",
   "execution_count": 55,
   "id": "2ae79587-86db-4793-b7ad-867bdcc4dc70",
   "metadata": {
    "tags": []
   },
   "outputs": [
    {
     "data": {
      "text/plain": [
       "'celdaDisponible'"
      ]
     },
     "execution_count": 55,
     "metadata": {},
     "output_type": "execute_result"
    }
   ],
   "source": [
    "# find a spot that is available \"'celdaDisponible'\"\n",
    "elm = spots_13_30[0]\n",
    "elm.get_attribute(\"class\")"
   ]
  },
  {
   "cell_type": "code",
   "execution_count": 54,
   "id": "ddbb63af-72e9-4311-b2f2-df080a395a30",
   "metadata": {
    "tags": []
   },
   "outputs": [
    {
     "data": {
      "text/plain": [
       "('Pista Padel 1', '2023-09-23', '13')"
      ]
     },
     "execution_count": 54,
     "metadata": {},
     "output_type": "execute_result"
    }
   ],
   "source": [
    "pista = elm.get_attribute(\"data-nombrerecurso\")\n",
    "fecha = elm.get_attribute(\"data-fecha\")\n",
    "fila = elm.get_attribute(\"data-fila\")\n",
    "pista, fecha, fila"
   ]
  }
 ],
 "metadata": {
  "kernelspec": {
   "display_name": "Python 3 (ipykernel)",
   "language": "python",
   "name": "python3"
  },
  "language_info": {
   "codemirror_mode": {
    "name": "ipython",
    "version": 3
   },
   "file_extension": ".py",
   "mimetype": "text/x-python",
   "name": "python",
   "nbconvert_exporter": "python",
   "pygments_lexer": "ipython3",
   "version": "3.11.4"
  }
 },
 "nbformat": 4,
 "nbformat_minor": 5
}
