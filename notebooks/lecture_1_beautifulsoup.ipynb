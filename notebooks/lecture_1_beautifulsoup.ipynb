{
 "cells": [
  {
   "cell_type": "markdown",
   "metadata": {},
   "source": [
    "# Getting Covid data with BeautifulSoup\n",
    "\n",
    "Let's figure out how to scrape some [data on the coronavirus from Wikipedia](https://en.wikipedia.org/wiki/COVID-19_pandemic_by_country_and_territory)."
   ]
  },
  {
   "cell_type": "markdown",
   "metadata": {},
   "source": [
    "## Inspect the first table element\n",
    "\n",
    "Using Chrome, go to URL:\n",
    "\n",
    "[https://en.wikipedia.org/wiki/COVID-19_pandemic_by_country_and_territory](https://en.wikipedia.org/wiki/COVID-19_pandemic_by_country_and_territory)\n",
    "\n",
    "and then in Chrome you can go to \"View\" --> \"Developer\" --> \"View Source\"\n",
    "\n",
    "That shows you the raw HTML and what it corresponds to visually.  The next step is to use a program to extract that HTML."
   ]
  },
  {
   "cell_type": "markdown",
   "metadata": {},
   "source": [
    "## Get the raw HTML from the website"
   ]
  },
  {
   "cell_type": "code",
   "execution_count": 1,
   "metadata": {},
   "outputs": [
    {
     "name": "stdout",
     "output_type": "stream",
     "text": [
      "Requirement already satisfied: bs4 in /Users/yannetinterian/anaconda3/lib/python3.10/site-packages (0.0.1)\n",
      "Requirement already satisfied: beautifulsoup4 in /Users/yannetinterian/anaconda3/lib/python3.10/site-packages (from bs4) (4.12.2)\n",
      "Requirement already satisfied: soupsieve>1.2 in /Users/yannetinterian/anaconda3/lib/python3.10/site-packages (from beautifulsoup4->bs4) (2.4)\n",
      "Requirement already satisfied: requests in /Users/yannetinterian/anaconda3/lib/python3.10/site-packages (2.30.0)\n",
      "Requirement already satisfied: idna<4,>=2.5 in /Users/yannetinterian/anaconda3/lib/python3.10/site-packages (from requests) (2.10)\n",
      "Requirement already satisfied: certifi>=2017.4.17 in /Users/yannetinterian/anaconda3/lib/python3.10/site-packages (from requests) (2022.12.7)\n",
      "Requirement already satisfied: urllib3<3,>=1.21.1 in /Users/yannetinterian/anaconda3/lib/python3.10/site-packages (from requests) (1.26.15)\n",
      "Requirement already satisfied: charset-normalizer<4,>=2 in /Users/yannetinterian/anaconda3/lib/python3.10/site-packages (from requests) (2.0.4)\n",
      "Requirement already satisfied: lxml in /Users/yannetinterian/anaconda3/lib/python3.10/site-packages (4.9.2)\n"
     ]
    }
   ],
   "source": [
    "! pip install bs4\n",
    "! pip install requests\n",
    "! pip install lxml"
   ]
  },
  {
   "cell_type": "code",
   "execution_count": 2,
   "metadata": {},
   "outputs": [
    {
     "name": "stdout",
     "output_type": "stream",
     "text": [
      "<!DOCTYPE html>\n",
      "<html class=\"client-nojs vector-feature-language-in-header-enabled vector-feature-language-in-main-page-header-disabled vector-feature-sticky-header-disabled vector-feature-page-tools-pinned-disabled vector-feature-toc-pinned-enabled vector-feature-main-menu-pinned-disabled vector-feature-limited-width-enabled vector-feature-limited-width-content-enabled vector-feature-zebra-design-disabled\" lang=\"en\" dir=\"ltr\">\n",
      "<head>\n",
      "<meta charset=\"UTF-8\">\n",
      "<title>COVID-19 pandemic by country and territory - Wikipedia</title>\n",
      "<script>document.documentElement.className=\"client-js vector-feature-language-in-header-enabled vector-feature-language-in-main-page-header-disabled vector-feature-sticky-header-disabled vector-feature-page-tools-pinned-disabled vector-feature-toc-pinned-enabled vector-feature-main-menu-pinned-disabled vector-feature-limited-width-enabled vector-feature-limited-width-content-enabled vector-feature-zebra-design-disabled\";(function(){var cookie=document.cookie.match\n"
     ]
    }
   ],
   "source": [
    "from bs4 import BeautifulSoup\n",
    "import requests\n",
    "\n",
    "CovidURL = \"https://en.wikipedia.org/wiki/COVID-19_pandemic_by_country_and_territory\"\n",
    "response = requests.get(CovidURL)\n",
    "print(response.text[0:1000])"
   ]
  },
  {
   "cell_type": "markdown",
   "metadata": {},
   "source": [
    "## Get specific tag using BeautifulSoup\n",
    "\n",
    "Now let's treat the text as HTML not just English text.  Then we can ask for a specific tag such as the title:"
   ]
  },
  {
   "cell_type": "code",
   "execution_count": 3,
   "metadata": {},
   "outputs": [
    {
     "name": "stdout",
     "output_type": "stream",
     "text": [
      "TITLE <title>COVID-19 pandemic by country and territory - Wikipedia</title>\n"
     ]
    }
   ],
   "source": [
    "soup = BeautifulSoup(response.text, \"lxml\")\n",
    "title = soup.find('title')\n",
    "print(\"TITLE\", title)"
   ]
  },
  {
   "cell_type": "markdown",
   "metadata": {},
   "source": [
    "##  Get all text elements from all HTML tags\n",
    "\n",
    "We can also ask for all of the text elements not inside HTML tags:"
   ]
  },
  {
   "cell_type": "code",
   "execution_count": 4,
   "metadata": {},
   "outputs": [
    {
     "name": "stdout",
     "output_type": "stream",
     "text": [
      "   COVID-19 pandemic by country and territory - Wikipedia                                     Jump to content         Main menu      Main menu move to sidebar hide    \t\tNavigation \t  Main pageContentsCurrent eventsRandom articleAbout WikipediaContact usDonate     \t\tContribute \t  HelpLearn to editCommunity portalRecent changesUpload file     Languages  Language links are at the top of the page across from the title.                    Search                Create accountLog in       Personal tool\n"
     ]
    }
   ],
   "source": [
    "print(soup.text[0:500].replace('\\n', ' '))"
   ]
  },
  {
   "cell_type": "markdown",
   "metadata": {},
   "source": [
    "## Find all tables\n",
    "\n",
    "BeautifulSoup has a mechanism to find all of the tables (HTML `table` text) in an HTML document:"
   ]
  },
  {
   "cell_type": "code",
   "execution_count": 12,
   "metadata": {},
   "outputs": [],
   "source": [
    "tables = soup.findAll('table')\n",
    "t = str(tables[0])"
   ]
  },
  {
   "cell_type": "markdown",
   "metadata": {},
   "source": [
    "That is raw HTML representing the table, but we can use a Jupyter notebook trick to display that text as HTML:"
   ]
  },
  {
   "cell_type": "code",
   "execution_count": 13,
   "metadata": {},
   "outputs": [
    {
     "data": {
      "text/html": [
       "<table class=\"infobox\"><tbody><tr><th class=\"infobox-above\" colspan=\"2\" style=\"background:#FFCCCB\">COVID-19 pandemic</th></tr><tr><td class=\"infobox-image\" colspan=\"2\" style=\"border-bottom:#aaa 1px solid;\"><a class=\"image\" href=\"/wiki/File:COVID-19_Outbreak_World_Map_Total_Deaths_per_Capita.svg\"><img alt=\"COVID-19 Outbreak World Map Total Deaths per Capita.svg\" data-file-height=\"1398\" data-file-width=\"2754\" decoding=\"async\" height=\"168\" src=\"//upload.wikimedia.org/wikipedia/commons/thumb/8/88/COVID-19_Outbreak_World_Map_Total_Deaths_per_Capita.svg/330px-COVID-19_Outbreak_World_Map_Total_Deaths_per_Capita.svg.png\" srcset=\"//upload.wikimedia.org/wikipedia/commons/thumb/8/88/COVID-19_Outbreak_World_Map_Total_Deaths_per_Capita.svg/495px-COVID-19_Outbreak_World_Map_Total_Deaths_per_Capita.svg.png 1.5x, //upload.wikimedia.org/wikipedia/commons/thumb/8/88/COVID-19_Outbreak_World_Map_Total_Deaths_per_Capita.svg/660px-COVID-19_Outbreak_World_Map_Total_Deaths_per_Capita.svg.png 2x\" width=\"330\"/></a><div class=\"infobox-caption\" style=\"text-align:left;\"><div class=\"center\" style=\"width:auto; margin-left:auto; margin-right:auto;\">Confirmed deaths per 100,000 population,<sup class=\"reference\" id=\"cite_ref-deaths-per-million-map_1-0\"><a href=\"#cite_note-deaths-per-million-map-1\">[1]</a></sup><sup class=\"reference\" id=\"cite_ref-OWID-JHU_2-0\"><a href=\"#cite_note-OWID-JHU-2\">[note 1]</a></sup><br/> as of 19 May 2023</div>\n",
       "<style data-mw-deduplicate=\"TemplateStyles:r1147244281\">.mw-parser-output .div-col{margin-top:0.3em;column-width:30em}.mw-parser-output .div-col-small{font-size:90%}.mw-parser-output .div-col-rules{column-rule:1px solid #aaa}.mw-parser-output .div-col dl,.mw-parser-output .div-col ol,.mw-parser-output .div-col ul{margin-top:0}.mw-parser-output .div-col li,.mw-parser-output .div-col dd{page-break-inside:avoid;break-inside:avoid-column}.mw-parser-output .plainlist ol,.mw-parser-output .plainlist ul{line-height:inherit;list-style:none;margin:0}.mw-parser-output .plainlist ol li,.mw-parser-output .plainlist ul li{margin-bottom:0}</style><div class=\"div-col\" style=\"column-width: 8em;column-gap: 0;padding-left:3em;padding-bottom:5px;\"><link href=\"mw-data:TemplateStyles:r1126788409\" rel=\"mw-deduplicated-inline-style\"/><div class=\"plainlist\"><ul><li style=\"margin: 0;\"><style data-mw-deduplicate=\"TemplateStyles:r981673959\">.mw-parser-output .legend{page-break-inside:avoid;break-inside:avoid-column}.mw-parser-output .legend-color{display:inline-block;min-width:1.25em;height:1.25em;line-height:1.25;margin:1px 0;text-align:center;border:1px solid black;background-color:transparent;color:black}.mw-parser-output .legend-text{}</style><div class=\"legend\"><span class=\"legend-color mw-no-invert\" style=\"background-color:#080414; color:white;\"> </span> 555+</div></li><li style=\"margin: 0;\"><link href=\"mw-data:TemplateStyles:r981673959\" rel=\"mw-deduplicated-inline-style\"/><div class=\"legend\"><span class=\"legend-color mw-no-invert\" style=\"background-color:#402050; color:white;\"> </span> 100–555</div></li><li style=\"margin: 0;\"><link href=\"mw-data:TemplateStyles:r981673959\" rel=\"mw-deduplicated-inline-style\"/><div class=\"legend\"><span class=\"legend-color mw-no-invert\" style=\"background-color:#253494; color:white;\"> </span> 18–100</div></li><li style=\"margin: 0;\"><link href=\"mw-data:TemplateStyles:r981673959\" rel=\"mw-deduplicated-inline-style\"/><div class=\"legend\"><span class=\"legend-color mw-no-invert\" style=\"background-color:#2c7fb8; color:black;\"> </span> 3.3–18</div></li><li style=\"margin: 0;\"><link href=\"mw-data:TemplateStyles:r981673959\" rel=\"mw-deduplicated-inline-style\"/><div class=\"legend\"><span class=\"legend-color mw-no-invert\" style=\"background-color:#41b6c4; color:black;\"> </span> 0.6–3.3</div></li><li style=\"margin: 0;\"><link href=\"mw-data:TemplateStyles:r981673959\" rel=\"mw-deduplicated-inline-style\"/><div class=\"legend\"><span class=\"legend-color mw-no-invert\" style=\"background-color:#7fcdbb; color:black;\"> </span> 0.1–0.6</div></li><li style=\"margin: 0;\"><link href=\"mw-data:TemplateStyles:r981673959\" rel=\"mw-deduplicated-inline-style\"/><div class=\"legend\"><span class=\"legend-color mw-no-invert\" style=\"background-color:#c7e9b4; color:black;\"> </span> &lt;0.1</div></li><li style=\"margin: 0;\"><link href=\"mw-data:TemplateStyles:r981673959\" rel=\"mw-deduplicated-inline-style\"/><div class=\"legend\"><span class=\"legend-color mw-no-invert\" style=\"background-color:#e0e0e0; color:black;\"> </span> No deaths or no data</div></li></ul></div></div></div></td></tr><tr><th class=\"infobox-label\" scope=\"row\">Disease</th><td class=\"infobox-data\"><a href=\"/wiki/COVID-19\" title=\"COVID-19\">COVID-19</a></td></tr><tr><th class=\"infobox-label\" scope=\"row\">Virus strain</th><td class=\"infobox-data\"><a class=\"mw-redirect\" href=\"/wiki/Severe_acute_respiratory_syndrome_coronavirus_2\" title=\"Severe acute respiratory syndrome coronavirus 2\">SARS-CoV-2</a></td></tr><tr><th class=\"infobox-label\" scope=\"row\">Source</th><td class=\"infobox-data\">Probably <a href=\"/wiki/Bat\" title=\"Bat\">bats</a>, possibly via <a href=\"/wiki/Pangolin\" title=\"Pangolin\">pangolins</a><sup class=\"reference\" id=\"cite_ref-reuters223180_3-0\"><a href=\"#cite_note-reuters223180-3\">[2]</a></sup><sup class=\"reference\" id=\"cite_ref-4\"><a href=\"#cite_note-4\">[3]</a></sup><sup class=\"reference\" id=\"cite_ref-5\"><a href=\"#cite_note-5\">[4]</a></sup></td></tr><tr><th class=\"infobox-label\" scope=\"row\">Location</th><td class=\"infobox-data\"><a href=\"/wiki/World\" title=\"World\">Worldwide</a></td></tr><tr><th class=\"infobox-label\" scope=\"row\">First outbreak</th><td class=\"infobox-data\"><a href=\"/wiki/China\" title=\"China\">China</a><sup class=\"reference\" id=\"cite_ref-auto_6-0\"><a href=\"#cite_note-auto-6\">[5]</a></sup></td></tr><tr><th class=\"infobox-label\" scope=\"row\"><a href=\"/wiki/Index_case\" title=\"Index case\">Index case</a></th><td class=\"infobox-data\"><a href=\"/wiki/Wuhan\" title=\"Wuhan\">Wuhan</a>, <a href=\"/wiki/Hubei\" title=\"Hubei\">Hubei</a>, <a href=\"/wiki/China\" title=\"China\">China</a><br/><style data-mw-deduplicate=\"TemplateStyles:r1156832818\">.mw-parser-output .geo-default,.mw-parser-output .geo-dms,.mw-parser-output .geo-dec{display:inline}.mw-parser-output .geo-nondefault,.mw-parser-output .geo-multi-punct,.mw-parser-output .geo-inline-hidden{display:none}.mw-parser-output .longitude,.mw-parser-output .latitude{white-space:nowrap}</style><span class=\"plainlinks nourlexpansion\"><a class=\"external text\" href=\"//geohack.toolforge.org/geohack.php?pagename=COVID-19_pandemic_by_country_and_territory&amp;params=30_37_11_N_114_15_28_E_type:adm2nd_region:CN-42\"><span class=\"geo-default\"><span class=\"geo-dms\" title=\"Maps, aerial photos, and other data for this location\"><span class=\"latitude\">30°37′11″N</span> <span class=\"longitude\">114°15′28″E</span></span></span><span class=\"geo-multi-punct\">﻿ / ﻿</span><span class=\"geo-nondefault\"><span class=\"geo-dec\" title=\"Maps, aerial photos, and other data for this location\">30.61972°N 114.25778°E</span><span style=\"display:none\">﻿ / <span class=\"geo\">30.61972; 114.25778</span></span></span></a></span></td></tr><tr><th class=\"infobox-label\" scope=\"row\">Date</th><td class=\"infobox-data\">First case of <a href=\"/wiki/COVID-19\" title=\"COVID-19\">COVID-19</a>: 17 November 2019\n",
       "<hr/>\n",
       "<a href=\"/wiki/Public_health_emergency_of_international_concern\" title=\"Public health emergency of international concern\">Public health emergency of international concern</a>: 30 January 2020 – 5 May 2023 (3 years, 3 months and 5 days)</td></tr><tr><th class=\"infobox-label\" scope=\"row\"><span class=\"nowrap\">Confirmed cases</span></th><td class=\"infobox-data\">766,894,311<sup class=\"reference\" id=\"cite_ref-Template:COVID-19_data_7-0\"><a href=\"#cite_note-Template:COVID-19_data-7\">[6]</a></sup></td></tr><tr><th class=\"infobox-label\" scope=\"row\"><div style=\"display: inline-block; line-height: 1.2em; padding: .1em 0;\">Deaths</div></th><td class=\"infobox-data\">6,935,876<sup class=\"reference\" id=\"cite_ref-Template:COVID-19_data_7-1\"><a href=\"#cite_note-Template:COVID-19_data-7\">[6]</a></sup></td></tr><tr><th class=\"infobox-label\" scope=\"row\">Vaccinations</th><td class=\"infobox-data plainlist\"><link href=\"mw-data:TemplateStyles:r1126788409\" rel=\"mw-deduplicated-inline-style\"/><div class=\"plainlist\"><ul><li>5,582,386,460<sup class=\"reference\" id=\"cite_ref-Template:COVID-19_data_7-2\"><a href=\"#cite_note-Template:COVID-19_data-7\">[6]</a></sup> (total vaccinated)</li><li>5,128,212,807<sup class=\"reference\" id=\"cite_ref-Template:COVID-19_data_7-3\"><a href=\"#cite_note-Template:COVID-19_data-7\">[6]</a></sup> (fully vaccinated)</li><li>13,389,890,759<sup class=\"reference\" id=\"cite_ref-Template:COVID-19_data_7-4\"><a href=\"#cite_note-Template:COVID-19_data-7\">[6]</a></sup> (doses administered)</li></ul></div></td></tr></tbody></table>"
      ],
      "text/plain": [
       "<IPython.core.display.HTML object>"
      ]
     },
     "execution_count": 13,
     "metadata": {},
     "output_type": "execute_result"
    }
   ],
   "source": [
    "from IPython.display import HTML # IPython is the underlying Python interpreter used by this notebook\n",
    "HTML(t)                          # Render the text in t as HTML"
   ]
  },
  {
   "cell_type": "markdown",
   "metadata": {},
   "source": [
    "### Death rate table\n",
    "\n",
    "The death rate per country table is `table[9]` (found by trial-and-error) and we get a nice data frame from it too:"
   ]
  },
  {
   "cell_type": "code",
   "execution_count": 14,
   "metadata": {},
   "outputs": [
    {
     "data": {
      "text/plain": [
       "69"
      ]
     },
     "execution_count": 14,
     "metadata": {},
     "output_type": "execute_result"
    }
   ],
   "source": [
    "len(tables)"
   ]
  },
  {
   "cell_type": "code",
   "execution_count": 15,
   "metadata": {},
   "outputs": [
    {
     "name": "stdout",
     "output_type": "stream",
     "text": [
      "0 None\n",
      "1 None\n",
      "2 None\n",
      "3 None\n",
      "4 None\n",
      "5 None\n",
      "6 None\n",
      "7 None\n",
      "8 None\n",
      "9 None\n",
      "10 None\n",
      "11 None\n",
      "12 <caption><a href=\"/wiki/COVID-19\" title=\"COVID-19\">COVID-19</a> cases, deaths, and rates by <a class=\"mw-selflink selflink\">location</a><sup class=\"reference\" id=\"cite_ref-Template:COVID-19_datab_27-0\"><a href=\"#cite_note-Template:COVID-19_datab-27\">[22]</a></sup>\n",
      "</caption>\n",
      "13 <caption>2022 monthly cumulative COVID-19 deaths<sup class=\"reference\" id=\"cite_ref-WHO-csv_32-0\"><a href=\"#cite_note-WHO-csv-32\">[24]</a></sup><sup class=\"reference\" id=\"cite_ref-WHO-dashboard_33-0\"><a href=\"#cite_note-WHO-dashboard-33\">[25]</a></sup><sup class=\"reference\" id=\"cite_ref-WHO-reports_34-0\"><a href=\"#cite_note-WHO-reports-34\">[26]</a></sup>\n",
      "</caption>\n",
      "14 <caption>2021 (second-half) monthly cumulative COVID-19 deaths<sup class=\"reference\" id=\"cite_ref-WHO-csv_32-1\"><a href=\"#cite_note-WHO-csv-32\">[24]</a></sup><sup class=\"reference\" id=\"cite_ref-WHO-dashboard_33-1\"><a href=\"#cite_note-WHO-dashboard-33\">[25]</a></sup><sup class=\"reference\" id=\"cite_ref-WHO-reports_34-1\"><a href=\"#cite_note-WHO-reports-34\">[26]</a></sup>\n",
      "</caption>\n",
      "15 <caption>COVID-19 cases and deaths by region, in absolute figures and rates per million inhabitants as of 25 December 2022<sup class=\"reference\" id=\"cite_ref-37\"><a href=\"#cite_note-37\">[29]</a></sup>\n",
      "</caption>\n",
      "16 None\n",
      "17 None\n",
      "18 <caption><a href=\"/wiki/Deployment_of_COVID-19_vaccines\" title=\"Deployment of COVID-19 vaccines\">COVID-19 vaccine distribution</a> by country<sup class=\"reference\" id=\"cite_ref-Template:COVID-19_datab_27-1\"><a href=\"#cite_note-Template:COVID-19_datab-27\">[22]</a></sup>\n",
      "</caption>\n",
      "19 None\n",
      "20 None\n",
      "21 <caption>First confirmed COVID-19 cases by country or territory\n",
      "</caption>\n",
      "22 None\n",
      "23 None\n",
      "24 None\n",
      "25 None\n",
      "26 None\n",
      "27 None\n",
      "28 None\n",
      "29 None\n",
      "30 None\n",
      "31 None\n",
      "32 None\n",
      "33 None\n",
      "34 None\n",
      "35 None\n",
      "36 None\n",
      "37 None\n",
      "38 None\n",
      "39 None\n",
      "40 None\n",
      "41 None\n",
      "42 None\n",
      "43 None\n",
      "44 None\n",
      "45 None\n",
      "46 None\n",
      "47 None\n",
      "48 None\n",
      "49 None\n",
      "50 None\n",
      "51 None\n",
      "52 None\n",
      "53 None\n",
      "54 None\n",
      "55 None\n",
      "56 None\n",
      "57 None\n",
      "58 None\n",
      "59 None\n",
      "60 None\n",
      "61 None\n",
      "62 None\n",
      "63 None\n",
      "64 None\n",
      "65 None\n",
      "66 None\n",
      "67 None\n",
      "68 None\n"
     ]
    }
   ],
   "source": [
    "for i in range(69):\n",
    "    print(i, tables[i].find(\"caption\"))"
   ]
  },
  {
   "cell_type": "code",
   "execution_count": 20,
   "metadata": {},
   "outputs": [],
   "source": [
    "table = tables[12]"
   ]
  },
  {
   "cell_type": "code",
   "execution_count": 21,
   "metadata": {},
   "outputs": [],
   "source": [
    "#Look at table\n",
    "#table\n",
    "tbody = table.find(\"tbody\")"
   ]
  },
  {
   "cell_type": "code",
   "execution_count": 22,
   "metadata": {},
   "outputs": [],
   "source": [
    "#Look at tbody\n",
    "#tbody"
   ]
  },
  {
   "cell_type": "markdown",
   "metadata": {},
   "source": [
    "### Getting column names\n",
    "Note that column names have attribute scope=\"col\""
   ]
  },
  {
   "cell_type": "code",
   "execution_count": 23,
   "metadata": {},
   "outputs": [
    {
     "data": {
      "text/plain": [
       "[<th scope=\"col\" style=\"padding-bottom: 1em;\">Country\n",
       " </th>,\n",
       " <th scope=\"col\" style=\"padding-bottom: 1em;\"><abbr title=\"Deaths per million\">Deaths / million</abbr>\n",
       " </th>,\n",
       " <th scope=\"col\" style=\"padding-bottom: 1em;\">Deaths\n",
       " </th>,\n",
       " <th scope=\"col\" style=\"padding-bottom: 1em;\">Cases\n",
       " </th>]"
      ]
     },
     "execution_count": 23,
     "metadata": {},
     "output_type": "execute_result"
    }
   ],
   "source": [
    "header = tbody.find_all(\"th\", {\"scope\": \"col\"})\n",
    "header"
   ]
  },
  {
   "cell_type": "code",
   "execution_count": 24,
   "metadata": {},
   "outputs": [
    {
     "data": {
      "text/plain": [
       "['Country', 'Deaths/million', 'Deaths', 'Cases']"
      ]
     },
     "execution_count": 24,
     "metadata": {},
     "output_type": "execute_result"
    }
   ],
   "source": [
    "cols_names = [col.text.strip().replace(\" \", \"\")  for col in header]\n",
    "cols_names"
   ]
  },
  {
   "cell_type": "code",
   "execution_count": 25,
   "metadata": {},
   "outputs": [
    {
     "data": {
      "text/plain": [
       "4"
      ]
     },
     "execution_count": 25,
     "metadata": {},
     "output_type": "execute_result"
    }
   ],
   "source": [
    "len(cols_names)"
   ]
  },
  {
   "cell_type": "markdown",
   "metadata": {},
   "source": [
    "### Getting rows\n",
    "Note that rows have attribute scope=\"row\""
   ]
  },
  {
   "cell_type": "code",
   "execution_count": 26,
   "metadata": {},
   "outputs": [],
   "source": [
    "rows = tbody.find_all(\"tr\")"
   ]
  },
  {
   "cell_type": "code",
   "execution_count": 27,
   "metadata": {},
   "outputs": [
    {
     "data": {
      "text/plain": [
       "241"
      ]
     },
     "execution_count": 27,
     "metadata": {},
     "output_type": "execute_result"
    }
   ],
   "source": [
    "len(rows)"
   ]
  },
  {
   "cell_type": "code",
   "execution_count": 28,
   "metadata": {},
   "outputs": [
    {
     "data": {
      "text/plain": [
       "<tr class=\"sorttop static-row-header\">\n",
       "<td data-sort-value=\"World\" style=\"text-align: center;\"><img alt=\"\" data-file-height=\"20\" data-file-width=\"20\" decoding=\"async\" height=\"16\" src=\"//upload.wikimedia.org/wikipedia/commons/thumb/8/83/OOjs_UI_icon_globe.svg/16px-OOjs_UI_icon_globe.svg.png\" srcset=\"//upload.wikimedia.org/wikipedia/commons/thumb/8/83/OOjs_UI_icon_globe.svg/24px-OOjs_UI_icon_globe.svg.png 1.5x, //upload.wikimedia.org/wikipedia/commons/thumb/8/83/OOjs_UI_icon_globe.svg/32px-OOjs_UI_icon_globe.svg.png 2x\" width=\"16\"/>\n",
       "</td>\n",
       "<th scope=\"row\"><a href=\"/wiki/COVID-19_pandemic\" title=\"COVID-19 pandemic\">World</a><sup class=\"reference\" id=\"cite_ref-28\"><a href=\"#cite_note-28\">[a]</a></sup>\n",
       "</th>\n",
       "<td data-sort-value=\"869.691\">869\n",
       "</td>\n",
       "<td data-sort-value=\"6935876\">6,935,876\n",
       "</td>\n",
       "<td data-sort-value=\"766894311\">766,894,311\n",
       "</td></tr>"
      ]
     },
     "execution_count": 28,
     "metadata": {},
     "output_type": "execute_result"
    }
   ],
   "source": [
    "rows[1]"
   ]
  },
  {
   "cell_type": "code",
   "execution_count": 29,
   "metadata": {},
   "outputs": [
    {
     "data": {
      "text/plain": [
       "['World', '869.691', '6935876', '766894311']"
      ]
     },
     "execution_count": 29,
     "metadata": {},
     "output_type": "execute_result"
    }
   ],
   "source": [
    "[elm[\"data-sort-value\"] for elm in rows[1].find_all(\"td\")]"
   ]
  },
  {
   "cell_type": "code",
   "execution_count": 31,
   "metadata": {},
   "outputs": [],
   "source": [
    "# We need to skip this row\n",
    "#rows[240]"
   ]
  },
  {
   "cell_type": "code",
   "execution_count": 32,
   "metadata": {},
   "outputs": [],
   "source": [
    "col1 = []; col2 = []; col3 = []; col4 = [] \n",
    "for i in range(1, 240):\n",
    "    row = [elm[\"data-sort-value\"] for elm in rows[i].find_all(\"td\")]\n",
    "    col1.append(row[0])\n",
    "    col2.append(row[1])\n",
    "    col3.append(row[2])\n",
    "    col4.append(row[3])"
   ]
  },
  {
   "cell_type": "markdown",
   "metadata": {},
   "source": [
    "### Put data in a dataframe"
   ]
  },
  {
   "cell_type": "code",
   "execution_count": 33,
   "metadata": {},
   "outputs": [
    {
     "data": {
      "text/plain": [
       "['Country', 'Deaths/million', 'Deaths', 'Cases']"
      ]
     },
     "execution_count": 33,
     "metadata": {},
     "output_type": "execute_result"
    }
   ],
   "source": [
    "import pandas as pd\n",
    "import numpy as np\n",
    "cols_names"
   ]
  },
  {
   "cell_type": "code",
   "execution_count": 34,
   "metadata": {},
   "outputs": [],
   "source": [
    "col2 = np.array(col2, np.float32) \n",
    "col3 = np.array(col3, np.float32) \n",
    "col4 = np.array(col4, np.float32) "
   ]
  },
  {
   "cell_type": "code",
   "execution_count": 35,
   "metadata": {},
   "outputs": [],
   "source": [
    "df = pd.DataFrame({'Country': col1, 'Deaths/million': col2, 'Deaths': col3, 'Cases': col4})"
   ]
  },
  {
   "cell_type": "code",
   "execution_count": 36,
   "metadata": {},
   "outputs": [
    {
     "data": {
      "text/html": [
       "<div>\n",
       "<style scoped>\n",
       "    .dataframe tbody tr th:only-of-type {\n",
       "        vertical-align: middle;\n",
       "    }\n",
       "\n",
       "    .dataframe tbody tr th {\n",
       "        vertical-align: top;\n",
       "    }\n",
       "\n",
       "    .dataframe thead th {\n",
       "        text-align: right;\n",
       "    }\n",
       "</style>\n",
       "<table border=\"1\" class=\"dataframe\">\n",
       "  <thead>\n",
       "    <tr style=\"text-align: right;\">\n",
       "      <th></th>\n",
       "      <th>Country</th>\n",
       "      <th>Deaths/million</th>\n",
       "      <th>Deaths</th>\n",
       "      <th>Cases</th>\n",
       "    </tr>\n",
       "  </thead>\n",
       "  <tbody>\n",
       "    <tr>\n",
       "      <th>0</th>\n",
       "      <td>World</td>\n",
       "      <td>869.690979</td>\n",
       "      <td>6935876.0</td>\n",
       "      <td>766894336.0</td>\n",
       "    </tr>\n",
       "    <tr>\n",
       "      <th>1</th>\n",
       "      <td>Peru</td>\n",
       "      <td>6477.641113</td>\n",
       "      <td>220561.0</td>\n",
       "      <td>4505860.0</td>\n",
       "    </tr>\n",
       "    <tr>\n",
       "      <th>2</th>\n",
       "      <td>Bulgaria</td>\n",
       "      <td>5657.956055</td>\n",
       "      <td>38372.0</td>\n",
       "      <td>1306862.0</td>\n",
       "    </tr>\n",
       "    <tr>\n",
       "      <th>3</th>\n",
       "      <td>Bosnia and Herzegovina</td>\n",
       "      <td>5055.155762</td>\n",
       "      <td>16346.0</td>\n",
       "      <td>402940.0</td>\n",
       "    </tr>\n",
       "    <tr>\n",
       "      <th>4</th>\n",
       "      <td>Hungary</td>\n",
       "      <td>4894.102051</td>\n",
       "      <td>48781.0</td>\n",
       "      <td>2202491.0</td>\n",
       "    </tr>\n",
       "  </tbody>\n",
       "</table>\n",
       "</div>"
      ],
      "text/plain": [
       "                  Country  Deaths/million     Deaths        Cases\n",
       "0                   World      869.690979  6935876.0  766894336.0\n",
       "1                    Peru     6477.641113   220561.0    4505860.0\n",
       "2                Bulgaria     5657.956055    38372.0    1306862.0\n",
       "3  Bosnia and Herzegovina     5055.155762    16346.0     402940.0\n",
       "4                 Hungary     4894.102051    48781.0    2202491.0"
      ]
     },
     "execution_count": 36,
     "metadata": {},
     "output_type": "execute_result"
    }
   ],
   "source": [
    "df.head()"
   ]
  },
  {
   "cell_type": "markdown",
   "metadata": {},
   "source": [
    "As with any data frame, we can sort values and select columns of interest:"
   ]
  },
  {
   "cell_type": "code",
   "execution_count": 37,
   "metadata": {},
   "outputs": [
    {
     "data": {
      "text/html": [
       "<div>\n",
       "<style scoped>\n",
       "    .dataframe tbody tr th:only-of-type {\n",
       "        vertical-align: middle;\n",
       "    }\n",
       "\n",
       "    .dataframe tbody tr th {\n",
       "        vertical-align: top;\n",
       "    }\n",
       "\n",
       "    .dataframe thead th {\n",
       "        text-align: right;\n",
       "    }\n",
       "</style>\n",
       "<table border=\"1\" class=\"dataframe\">\n",
       "  <thead>\n",
       "    <tr style=\"text-align: right;\">\n",
       "      <th></th>\n",
       "      <th>Country</th>\n",
       "      <th>Deaths/million</th>\n",
       "    </tr>\n",
       "  </thead>\n",
       "  <tbody>\n",
       "    <tr>\n",
       "      <th>1</th>\n",
       "      <td>Peru</td>\n",
       "      <td>6477.641113</td>\n",
       "    </tr>\n",
       "    <tr>\n",
       "      <th>2</th>\n",
       "      <td>Bulgaria</td>\n",
       "      <td>5657.956055</td>\n",
       "    </tr>\n",
       "    <tr>\n",
       "      <th>3</th>\n",
       "      <td>Bosnia and Herzegovina</td>\n",
       "      <td>5055.155762</td>\n",
       "    </tr>\n",
       "    <tr>\n",
       "      <th>4</th>\n",
       "      <td>Hungary</td>\n",
       "      <td>4894.102051</td>\n",
       "    </tr>\n",
       "    <tr>\n",
       "      <th>5</th>\n",
       "      <td>North Macedonia</td>\n",
       "      <td>4622.168945</td>\n",
       "    </tr>\n",
       "    <tr>\n",
       "      <th>6</th>\n",
       "      <td>Georgia</td>\n",
       "      <td>4558.826172</td>\n",
       "    </tr>\n",
       "    <tr>\n",
       "      <th>7</th>\n",
       "      <td>Croatia</td>\n",
       "      <td>4527.138184</td>\n",
       "    </tr>\n",
       "    <tr>\n",
       "      <th>8</th>\n",
       "      <td>Montenegro</td>\n",
       "      <td>4508.182129</td>\n",
       "    </tr>\n",
       "    <tr>\n",
       "      <th>9</th>\n",
       "      <td>Slovenia</td>\n",
       "      <td>4417.308105</td>\n",
       "    </tr>\n",
       "    <tr>\n",
       "      <th>10</th>\n",
       "      <td>Czech Republic</td>\n",
       "      <td>4078.144043</td>\n",
       "    </tr>\n",
       "  </tbody>\n",
       "</table>\n",
       "</div>"
      ],
      "text/plain": [
       "                   Country  Deaths/million\n",
       "1                     Peru     6477.641113\n",
       "2                 Bulgaria     5657.956055\n",
       "3   Bosnia and Herzegovina     5055.155762\n",
       "4                  Hungary     4894.102051\n",
       "5          North Macedonia     4622.168945\n",
       "6                  Georgia     4558.826172\n",
       "7                  Croatia     4527.138184\n",
       "8               Montenegro     4508.182129\n",
       "9                 Slovenia     4417.308105\n",
       "10          Czech Republic     4078.144043"
      ]
     },
     "execution_count": 37,
     "metadata": {},
     "output_type": "execute_result"
    }
   ],
   "source": [
    "df_death_rate = df[['Country', 'Deaths/million']].sort_values('Deaths/million', ascending=False)\n",
    "df_death_rate.head(10)"
   ]
  },
  {
   "cell_type": "markdown",
   "metadata": {},
   "source": [
    "Once we have a nice data structure like a data frame, it's very easy to build a plot, which is sometimes more satisfying than what we see in some report where we got the data."
   ]
  },
  {
   "cell_type": "code",
   "execution_count": 38,
   "metadata": {},
   "outputs": [
    {
     "data": {
      "text/html": [
       "<div>\n",
       "<style scoped>\n",
       "    .dataframe tbody tr th:only-of-type {\n",
       "        vertical-align: middle;\n",
       "    }\n",
       "\n",
       "    .dataframe tbody tr th {\n",
       "        vertical-align: top;\n",
       "    }\n",
       "\n",
       "    .dataframe thead th {\n",
       "        text-align: right;\n",
       "    }\n",
       "</style>\n",
       "<table border=\"1\" class=\"dataframe\">\n",
       "  <thead>\n",
       "    <tr style=\"text-align: right;\">\n",
       "      <th></th>\n",
       "      <th>Country</th>\n",
       "      <th>Deaths/million</th>\n",
       "      <th>Deaths</th>\n",
       "      <th>Cases</th>\n",
       "    </tr>\n",
       "  </thead>\n",
       "  <tbody>\n",
       "    <tr>\n",
       "      <th>0</th>\n",
       "      <td>World</td>\n",
       "      <td>869.690979</td>\n",
       "      <td>6935876.0</td>\n",
       "      <td>766894336.0</td>\n",
       "    </tr>\n",
       "    <tr>\n",
       "      <th>1</th>\n",
       "      <td>European Union</td>\n",
       "      <td>2738.617920</td>\n",
       "      <td>1232780.0</td>\n",
       "      <td>184155520.0</td>\n",
       "    </tr>\n",
       "    <tr>\n",
       "      <th>2</th>\n",
       "      <td>United States</td>\n",
       "      <td>3331.912109</td>\n",
       "      <td>1127152.0</td>\n",
       "      <td>103436832.0</td>\n",
       "    </tr>\n",
       "    <tr>\n",
       "      <th>3</th>\n",
       "      <td>Brazil</td>\n",
       "      <td>3262.316895</td>\n",
       "      <td>702421.0</td>\n",
       "      <td>37553336.0</td>\n",
       "    </tr>\n",
       "    <tr>\n",
       "      <th>4</th>\n",
       "      <td>India</td>\n",
       "      <td>375.283997</td>\n",
       "      <td>531843.0</td>\n",
       "      <td>44987340.0</td>\n",
       "    </tr>\n",
       "    <tr>\n",
       "      <th>5</th>\n",
       "      <td>Russia</td>\n",
       "      <td>2756.615967</td>\n",
       "      <td>398919.0</td>\n",
       "      <td>22917872.0</td>\n",
       "    </tr>\n",
       "    <tr>\n",
       "      <th>6</th>\n",
       "      <td>Mexico</td>\n",
       "      <td>2620.143066</td>\n",
       "      <td>334079.0</td>\n",
       "      <td>7611736.0</td>\n",
       "    </tr>\n",
       "    <tr>\n",
       "      <th>7</th>\n",
       "      <td>United Kingdom</td>\n",
       "      <td>3345.512939</td>\n",
       "      <td>225852.0</td>\n",
       "      <td>24611066.0</td>\n",
       "    </tr>\n",
       "    <tr>\n",
       "      <th>8</th>\n",
       "      <td>Peru</td>\n",
       "      <td>6477.641113</td>\n",
       "      <td>220561.0</td>\n",
       "      <td>4505860.0</td>\n",
       "    </tr>\n",
       "    <tr>\n",
       "      <th>9</th>\n",
       "      <td>Italy</td>\n",
       "      <td>3222.394043</td>\n",
       "      <td>190242.0</td>\n",
       "      <td>25842596.0</td>\n",
       "    </tr>\n",
       "    <tr>\n",
       "      <th>10</th>\n",
       "      <td>Germany</td>\n",
       "      <td>2087.469971</td>\n",
       "      <td>174032.0</td>\n",
       "      <td>38423300.0</td>\n",
       "    </tr>\n",
       "    <tr>\n",
       "      <th>11</th>\n",
       "      <td>France</td>\n",
       "      <td>2528.941895</td>\n",
       "      <td>163437.0</td>\n",
       "      <td>39010096.0</td>\n",
       "    </tr>\n",
       "    <tr>\n",
       "      <th>12</th>\n",
       "      <td>Indonesia</td>\n",
       "      <td>586.934021</td>\n",
       "      <td>161701.0</td>\n",
       "      <td>6803504.0</td>\n",
       "    </tr>\n",
       "    <tr>\n",
       "      <th>13</th>\n",
       "      <td>Iran</td>\n",
       "      <td>1651.373047</td>\n",
       "      <td>146230.0</td>\n",
       "      <td>7611138.0</td>\n",
       "    </tr>\n",
       "    <tr>\n",
       "      <th>14</th>\n",
       "      <td>Colombia</td>\n",
       "      <td>2751.685059</td>\n",
       "      <td>142741.0</td>\n",
       "      <td>6366777.0</td>\n",
       "    </tr>\n",
       "    <tr>\n",
       "      <th>15</th>\n",
       "      <td>Argentina</td>\n",
       "      <td>2866.865967</td>\n",
       "      <td>130472.0</td>\n",
       "      <td>10044957.0</td>\n",
       "    </tr>\n",
       "    <tr>\n",
       "      <th>16</th>\n",
       "      <td>Spain</td>\n",
       "      <td>2548.707031</td>\n",
       "      <td>121213.0</td>\n",
       "      <td>13868227.0</td>\n",
       "    </tr>\n",
       "    <tr>\n",
       "      <th>17</th>\n",
       "      <td>China</td>\n",
       "      <td>84.959999</td>\n",
       "      <td>121144.0</td>\n",
       "      <td>99261808.0</td>\n",
       "    </tr>\n",
       "    <tr>\n",
       "      <th>18</th>\n",
       "      <td>Poland</td>\n",
       "      <td>3000.717041</td>\n",
       "      <td>119600.0</td>\n",
       "      <td>6516424.0</td>\n",
       "    </tr>\n",
       "    <tr>\n",
       "      <th>19</th>\n",
       "      <td>Ukraine</td>\n",
       "      <td>2828.968994</td>\n",
       "      <td>112315.0</td>\n",
       "      <td>5549708.0</td>\n",
       "    </tr>\n",
       "    <tr>\n",
       "      <th>20</th>\n",
       "      <td>South Africa</td>\n",
       "      <td>1712.946045</td>\n",
       "      <td>102595.0</td>\n",
       "      <td>4072533.0</td>\n",
       "    </tr>\n",
       "    <tr>\n",
       "      <th>21</th>\n",
       "      <td>Turkey</td>\n",
       "      <td>1188.394043</td>\n",
       "      <td>101419.0</td>\n",
       "      <td>17004676.0</td>\n",
       "    </tr>\n",
       "    <tr>\n",
       "      <th>22</th>\n",
       "      <td>Japan</td>\n",
       "      <td>602.606018</td>\n",
       "      <td>74694.0</td>\n",
       "      <td>33803572.0</td>\n",
       "    </tr>\n",
       "    <tr>\n",
       "      <th>23</th>\n",
       "      <td>Romania</td>\n",
       "      <td>3467.677002</td>\n",
       "      <td>68172.0</td>\n",
       "      <td>3402356.0</td>\n",
       "    </tr>\n",
       "    <tr>\n",
       "      <th>24</th>\n",
       "      <td>Philippines</td>\n",
       "      <td>575.169006</td>\n",
       "      <td>66466.0</td>\n",
       "      <td>4127628.0</td>\n",
       "    </tr>\n",
       "    <tr>\n",
       "      <th>25</th>\n",
       "      <td>Chile</td>\n",
       "      <td>3136.697998</td>\n",
       "      <td>61491.0</td>\n",
       "      <td>5286815.0</td>\n",
       "    </tr>\n",
       "    <tr>\n",
       "      <th>26</th>\n",
       "      <td>Canada</td>\n",
       "      <td>1360.081055</td>\n",
       "      <td>52301.0</td>\n",
       "      <td>4669364.0</td>\n",
       "    </tr>\n",
       "    <tr>\n",
       "      <th>27</th>\n",
       "      <td>Hungary</td>\n",
       "      <td>4894.102051</td>\n",
       "      <td>48781.0</td>\n",
       "      <td>2202491.0</td>\n",
       "    </tr>\n",
       "    <tr>\n",
       "      <th>28</th>\n",
       "      <td>Vietnam</td>\n",
       "      <td>440.007996</td>\n",
       "      <td>43203.0</td>\n",
       "      <td>11602738.0</td>\n",
       "    </tr>\n",
       "    <tr>\n",
       "      <th>29</th>\n",
       "      <td>Czech Republic</td>\n",
       "      <td>4078.144043</td>\n",
       "      <td>42796.0</td>\n",
       "      <td>4641759.0</td>\n",
       "    </tr>\n",
       "  </tbody>\n",
       "</table>\n",
       "</div>"
      ],
      "text/plain": [
       "           Country  Deaths/million     Deaths        Cases\n",
       "0            World      869.690979  6935876.0  766894336.0\n",
       "1   European Union     2738.617920  1232780.0  184155520.0\n",
       "2    United States     3331.912109  1127152.0  103436832.0\n",
       "3           Brazil     3262.316895   702421.0   37553336.0\n",
       "4            India      375.283997   531843.0   44987340.0\n",
       "5           Russia     2756.615967   398919.0   22917872.0\n",
       "6           Mexico     2620.143066   334079.0    7611736.0\n",
       "7   United Kingdom     3345.512939   225852.0   24611066.0\n",
       "8             Peru     6477.641113   220561.0    4505860.0\n",
       "9            Italy     3222.394043   190242.0   25842596.0\n",
       "10         Germany     2087.469971   174032.0   38423300.0\n",
       "11          France     2528.941895   163437.0   39010096.0\n",
       "12       Indonesia      586.934021   161701.0    6803504.0\n",
       "13            Iran     1651.373047   146230.0    7611138.0\n",
       "14        Colombia     2751.685059   142741.0    6366777.0\n",
       "15       Argentina     2866.865967   130472.0   10044957.0\n",
       "16           Spain     2548.707031   121213.0   13868227.0\n",
       "17           China       84.959999   121144.0   99261808.0\n",
       "18          Poland     3000.717041   119600.0    6516424.0\n",
       "19         Ukraine     2828.968994   112315.0    5549708.0\n",
       "20    South Africa     1712.946045   102595.0    4072533.0\n",
       "21          Turkey     1188.394043   101419.0   17004676.0\n",
       "22           Japan      602.606018    74694.0   33803572.0\n",
       "23         Romania     3467.677002    68172.0    3402356.0\n",
       "24     Philippines      575.169006    66466.0    4127628.0\n",
       "25           Chile     3136.697998    61491.0    5286815.0\n",
       "26          Canada     1360.081055    52301.0    4669364.0\n",
       "27         Hungary     4894.102051    48781.0    2202491.0\n",
       "28         Vietnam      440.007996    43203.0   11602738.0\n",
       "29  Czech Republic     4078.144043    42796.0    4641759.0"
      ]
     },
     "execution_count": 38,
     "metadata": {},
     "output_type": "execute_result"
    }
   ],
   "source": [
    "df = df.sort_values('Deaths', ascending=False)\n",
    "df = df.head(30).reset_index(drop=True)\n",
    "df"
   ]
  },
  {
   "cell_type": "code",
   "execution_count": 39,
   "metadata": {},
   "outputs": [],
   "source": [
    "# cut the World and the European union\n",
    "df = df.iloc[2:].copy()\n",
    "countries = df['Country'].values\n",
    "deaths = df['Deaths']"
   ]
  },
  {
   "cell_type": "markdown",
   "metadata": {},
   "source": [
    "### Plotting"
   ]
  },
  {
   "cell_type": "code",
   "execution_count": 40,
   "metadata": {},
   "outputs": [
    {
     "data": {
      "image/png": "[encoded data removed]",
      "text/plain": [
       "<Figure size 500x600 with 1 Axes>"
      ]
     },
     "metadata": {
      "image/png": {
       "height": 546,
       "width": 526
      }
     },
     "output_type": "display_data"
    }
   ],
   "source": [
    "import matplotlib.pyplot as plt\n",
    "%config InlineBackend.figure_format = 'retina'\n",
    "\n",
    "fig, ax = plt.subplots(1, 1, figsize=(5,6))\n",
    "y_pos = np.arange(len(countries))\n",
    "barcontainers = ax.barh(y_pos, deaths, color='#FEE08F')\n",
    "ax.invert_yaxis() \n",
    "ax.set_yticks(y_pos)\n",
    "ax.set_yticklabels(countries, fontsize=8, horizontalalignment=\"right\")\n",
    "\n",
    "for rect in barcontainers.patches:\n",
    "    rect.set_linewidth(.5)\n",
    "    rect.set_edgecolor('grey')\n",
    "\n",
    "ax.spines['top'].set_visible(False)\n",
    "ax.spines['right'].set_visible(False)\n",
    "ax.spines['left'].set_linewidth(.5)\n",
    "ax.spines['bottom'].set_linewidth(.5)\n",
    "\n",
    "ax.set_title(\"Total deaths per country\")\n",
    "ax.set_xlabel(\"Deaths\")\n",
    "ax.set_ylabel(\"Country\")\n",
    "\n",
    "plt.show()"
   ]
  },
  {
   "cell_type": "code",
   "execution_count": null,
   "metadata": {},
   "outputs": [],
   "source": []
  },
  {
   "cell_type": "code",
   "execution_count": null,
   "metadata": {},
   "outputs": [],
   "source": []
  }
 ],
 "metadata": {
  "kernelspec": {
   "display_name": "Python 3 (ipykernel)",
   "language": "python",
   "name": "python3"
  },
  "language_info": {
   "codemirror_mode": {
    "name": "ipython",
    "version": 3
   },
   "file_extension": ".py",
   "mimetype": "text/x-python",
   "name": "python",
   "nbconvert_exporter": "python",
   "pygments_lexer": "ipython3",
   "version": "3.10.11"
  }
 },
 "nbformat": 4,
 "nbformat_minor": 4
}
