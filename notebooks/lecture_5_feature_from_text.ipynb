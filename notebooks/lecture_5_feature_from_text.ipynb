{
 "cells": [
  {
   "cell_type": "code",
   "execution_count": 12,
   "id": "d91d87ef",
   "metadata": {
    "tags": []
   },
   "outputs": [],
   "source": [
    "from pathlib import Path\n",
    "import numpy as np\n",
    "import pandas as pd\n",
    "import pickle\n",
    "from os.path import expanduser"
   ]
  },
  {
   "cell_type": "code",
   "execution_count": 13,
   "id": "a5af7999",
   "metadata": {
    "tags": []
   },
   "outputs": [],
   "source": [
    "import re"
   ]
  },
  {
   "cell_type": "code",
   "execution_count": 5,
   "id": "9ff578ee",
   "metadata": {
    "tags": []
   },
   "outputs": [],
   "source": [
    "filename = expanduser(\"~/data/houses_for_sale.pickle\")\n",
    "with open(filename,'rb') as f:\n",
    "    data = pickle.load(f, encoding='utf-8')"
   ]
  },
  {
   "cell_type": "code",
   "execution_count": 19,
   "id": "237d093a-7f41-49cf-ae76-94dd9951a6f1",
   "metadata": {
    "tags": []
   },
   "outputs": [
    {
     "data": {
      "text/plain": [
       "913"
      ]
     },
     "execution_count": 19,
     "metadata": {},
     "output_type": "execute_result"
    }
   ],
   "source": [
    "len(data)"
   ]
  },
  {
   "cell_type": "code",
   "execution_count": 20,
   "id": "74b25c08-c75c-4636-9fc3-3cd381c0664a",
   "metadata": {
    "tags": []
   },
   "outputs": [
    {
     "data": {
      "text/plain": [
       "{'price': '320.000 €',\n",
       " 'title': 'Piso Tallers. Piso con 2 habitaciones con ascensor',\n",
       " 'loc_string': 'Barcelona - Sant Antoni',\n",
       " 'loc': None,\n",
       " 'features': ['85 m2', '2 hab.', '1 baño', '3.647 €/m2'],\n",
       " 'type': 'FLAT',\n",
       " 'subtype': 'FLAT',\n",
       " 'selltype': 'SECOND_HAND',\n",
       " 'desc': 'Piso en última planta a reformar en calle Tallers junto a plaza Universitat.\\n\\nLa propiedad ofrece muchas posibilidades para personalizarla según sus necesidades, ya que todas las paredes son tabiques.\\n\\nLa distribución actual cuenta con salón comedor amplio, cocina, dos habitaciones dobles exteriores, dos habitaciones interiores, baño y despensa/trastero. Balcones a ambos lados de la vivienda, uno a patio de manzana y los otros dos a carrer Tallers. Suelos originales.\\n\\nFinca del 1882 con ascensor.\\n\\nCalle peatonal con encanto en el centro de Barcelona, rodeada de todo tipo de comercios y servicios. Buenas comunicaciones mediante transportes publicos, metro, autobuses y FFCC.'}"
      ]
     },
     "execution_count": 20,
     "metadata": {},
     "output_type": "execute_result"
    }
   ],
   "source": [
    "data[0]"
   ]
  },
  {
   "cell_type": "markdown",
   "id": "f130461b-9348-409a-8569-0d2ee9d30388",
   "metadata": {},
   "source": [
    "This dataset was acquired by scraping a website that compiles property listings available for sale in Spain. Our objective is to leverage this data to gain insights into properties that offer a favorable value proposition for potential buyers.\n",
    "\n",
    "One approach to achieve this is by training a model that can predict the asking price based on various \"features\" associated with each property listing. We intend to employ models that take a numerical feature vector as input to estimate the price. However, there are several data quality issues that need to be addressed before we can even begin creating features for this dataset:\n",
    "\n",
    "Remove listings that advertise multiple units for sale.\n",
    "Rectify discrepancies in the reported \"number of bedrooms.\"\n",
    "Generate relevant features from textual information.\""
   ]
  },
  {
   "cell_type": "markdown",
   "id": "0c7dfd32-af28-4c94-b4ef-d9117192c3d9",
   "metadata": {},
   "source": [
    "This dataset was obatines from scrapping a website that lists properties available for sale in Spain. Our aim is to utilize this data to gain insights into homes that appear to offer a favorable value for prospective buyers.\n",
    "\n",
    "One way to do this is to train a model that given \"features\" from each house for sales predicts the asking price. We will be using models that take as imputs a vector of numerical features to predict a price. There are a number of issues with real data. Here are a set of issues we have to fixed before trying to even create features for this data:\n",
    "1. Delete adds that are selling multiple units.\n",
    "2. Fix issues with \"number of bedrooms\"\n",
    "3. Create features from text"
   ]
  },
  {
   "cell_type": "code",
   "execution_count": 6,
   "id": "fe94cedd",
   "metadata": {
    "tags": []
   },
   "outputs": [
    {
     "data": {
      "text/plain": [
       "913"
      ]
     },
     "execution_count": 6,
     "metadata": {},
     "output_type": "execute_result"
    }
   ],
   "source": [
    "len(data)"
   ]
  },
  {
   "cell_type": "code",
   "execution_count": 9,
   "id": "d8d9c623-3370-4af2-8058-188da0d90d12",
   "metadata": {
    "tags": []
   },
   "outputs": [
    {
     "data": {
      "text/plain": [
       "{'price': '320.000 €',\n",
       " 'title': 'Piso Tallers. Piso con 2 habitaciones con ascensor',\n",
       " 'loc_string': 'Barcelona - Sant Antoni',\n",
       " 'loc': None,\n",
       " 'features': ['85 m2', '2 hab.', '1 baño', '3.647 €/m2'],\n",
       " 'type': 'FLAT',\n",
       " 'subtype': 'FLAT',\n",
       " 'selltype': 'SECOND_HAND',\n",
       " 'desc': 'Piso en última planta a reformar en calle Tallers junto a plaza Universitat.\\n\\nLa propiedad ofrece muchas posibilidades para personalizarla según sus necesidades, ya que todas las paredes son tabiques.\\n\\nLa distribución actual cuenta con salón comedor amplio, cocina, dos habitaciones dobles exteriores, dos habitaciones interiores, baño y despensa/trastero. Balcones a ambos lados de la vivienda, uno a patio de manzana y los otros dos a carrer Tallers. Suelos originales.\\n\\nFinca del 1882 con ascensor.\\n\\nCalle peatonal con encanto en el centro de Barcelona, rodeada de todo tipo de comercios y servicios. Buenas comunicaciones mediante transportes publicos, metro, autobuses y FFCC.'}"
      ]
     },
     "execution_count": 9,
     "metadata": {},
     "output_type": "execute_result"
    }
   ],
   "source": [
    "# data is a list of dictionaries\n",
    "data[0]"
   ]
  },
  {
   "cell_type": "markdown",
   "id": "a5c4976f",
   "metadata": {},
   "source": [
    "## Removing ads from multiple units\n",
    "If features[0] starts with \"desde\""
   ]
  },
  {
   "cell_type": "code",
   "execution_count": 10,
   "id": "edd3ce79",
   "metadata": {
    "tags": []
   },
   "outputs": [
    {
     "data": {
      "text/plain": [
       "(None, ['desde 70 m2', '15.785,71 €/m2'])"
      ]
     },
     "execution_count": 10,
     "metadata": {},
     "output_type": "execute_result"
    }
   ],
   "source": [
    "data[10]['price'], data[10]['features']"
   ]
  },
  {
   "cell_type": "code",
   "execution_count": 14,
   "id": "6630395d",
   "metadata": {
    "tags": []
   },
   "outputs": [
    {
     "data": {
      "text/plain": [
       "(True, False)"
      ]
     },
     "execution_count": 14,
     "metadata": {},
     "output_type": "execute_result"
    }
   ],
   "source": [
    " bool(re.match(\"^desde\", 'desde 70 m2')),  bool(re.match(\"^desde\", '70 m2'))"
   ]
  },
  {
   "cell_type": "code",
   "execution_count": 15,
   "id": "db2a9c44",
   "metadata": {
    "tags": []
   },
   "outputs": [],
   "source": [
    "data_v1 = [] \n",
    "for i, d in enumerate(data):\n",
    "    features = d[\"features\"]\n",
    "    if bool(re.match(\"^desde\", features[0])) == False:\n",
    "        if bool(re.search(\"\\d+ m2\", features[0])) == True:\n",
    "            data_v1.append(d)"
   ]
  },
  {
   "cell_type": "code",
   "execution_count": 17,
   "id": "1ce8e1d3-eba4-4ef9-8c47-f4fff4b75b8c",
   "metadata": {
    "tags": []
   },
   "outputs": [],
   "source": [
    "def saving_versions(data, version):\n",
    "    filename = expanduser(\"~/data\")\n",
    "    filename +=  \"houses_for_sale_train_{}.pickle\".format(version)\n",
    "    file = open(filename, 'wb')\n",
    "    pickle.dump(data, file)\n",
    "    file.close()\n",
    "    print(filename)"
   ]
  },
  {
   "cell_type": "code",
   "execution_count": 18,
   "id": "a2020dd7",
   "metadata": {
    "tags": []
   },
   "outputs": [
    {
     "name": "stdout",
     "output_type": "stream",
     "text": [
      "/Users/yinterian/datahouses_for_sale_train_v1.pickle\n"
     ]
    },
    {
     "data": {
      "text/plain": [
       "866"
      ]
     },
     "execution_count": 18,
     "metadata": {},
     "output_type": "execute_result"
    }
   ],
   "source": [
    "saving_versions(data_v1, \"v1\")\n",
    "len(data_v1)"
   ]
  },
  {
   "cell_type": "markdown",
   "id": "c04d812b",
   "metadata": {},
   "source": [
    "### Checking number of rooms feature\n",
    "and fixing issues"
   ]
  },
  {
   "cell_type": "code",
   "execution_count": 57,
   "id": "159844d4",
   "metadata": {},
   "outputs": [
    {
     "data": {
      "text/plain": [
       "866"
      ]
     },
     "execution_count": 57,
     "metadata": {},
     "output_type": "execute_result"
    }
   ],
   "source": [
    "data_v1 = load_versions(\"v1\")\n",
    "len(data_v1)"
   ]
  },
  {
   "cell_type": "code",
   "execution_count": 44,
   "id": "70706c62",
   "metadata": {},
   "outputs": [
    {
     "data": {
      "text/plain": [
       "True"
      ]
     },
     "execution_count": 44,
     "metadata": {},
     "output_type": "execute_result"
    }
   ],
   "source": [
    "bool(re.match(\"\\d hab\", '3 hab.'))"
   ]
  },
  {
   "cell_type": "code",
   "execution_count": 59,
   "id": "0841bed2",
   "metadata": {},
   "outputs": [
    {
     "name": "stdout",
     "output_type": "stream",
     "text": [
      "137 ['45 m2', '1 baño', '5.689 €/m2']\n",
      "186 ['113 m2', '4 baños', '2.389 €/m2']\n",
      "192 ['93 m2', '1 baño', '3.215 €/m2']\n",
      "503 ['54 m2', '1 baño', '6.944 €/m2']\n",
      "537 ['93 m2', '1 baño', '2.151 €/m2']\n",
      "574 ['102 m2', '1 baño', '3.431 €/m2']\n",
      "729 ['82 m2', '22 hab.', '1 baño', '4.268 €/m2']\n",
      "766 ['52 m2', '3.442 €/m2']\n"
     ]
    }
   ],
   "source": [
    "inds = []\n",
    "for i, d in enumerate(data_v1):\n",
    "    features = d[\"features\"]\n",
    "    if not bool(re.match(\"\\d hab\", features[1])):\n",
    "        print(i, features)\n",
    "        inds.append(i)"
   ]
  },
  {
   "cell_type": "code",
   "execution_count": 62,
   "id": "3fde0f65",
   "metadata": {},
   "outputs": [
    {
     "data": {
      "text/plain": [
       "[137, 186, 192, 503, 537, 574, 729, 766]"
      ]
     },
     "execution_count": 62,
     "metadata": {},
     "output_type": "execute_result"
    }
   ],
   "source": [
    "inds"
   ]
  },
  {
   "cell_type": "code",
   "execution_count": 65,
   "id": "6b2b288a",
   "metadata": {},
   "outputs": [],
   "source": [
    "def get_new_feature(fea):\n",
    "    return [fea[0], \"0 hab.\", fea[1], fea[-1]]"
   ]
  },
  {
   "cell_type": "code",
   "execution_count": 66,
   "id": "471b82de",
   "metadata": {},
   "outputs": [
    {
     "data": {
      "text/plain": [
       "['45 m2', '0 hab.', '1 baño', '5.689 €/m2']"
      ]
     },
     "execution_count": 66,
     "metadata": {},
     "output_type": "execute_result"
    }
   ],
   "source": [
    "get_new_feature(['45 m2', '1 baño', '5.689 €/m2'])"
   ]
  },
  {
   "cell_type": "code",
   "execution_count": 69,
   "id": "7e08fe32",
   "metadata": {},
   "outputs": [],
   "source": [
    "data_v2 = []\n",
    "for i, d in enumerate(data_v1):\n",
    "    features = d[\"features\"]\n",
    "    if not bool(re.match(\"\\d hab\", features[1])):\n",
    "        if len(features) == 3:\n",
    "            features = get_new_feature(features)\n",
    "            d[\"features\"] = features\n",
    "    if len(features) == 4:\n",
    "        data_v2.append(d)"
   ]
  },
  {
   "cell_type": "code",
   "execution_count": 73,
   "id": "41b7275d",
   "metadata": {},
   "outputs": [
    {
     "name": "stdout",
     "output_type": "stream",
     "text": [
      "train_data_ml/houses_for_sale_train_v2.pickle\n"
     ]
    },
    {
     "data": {
      "text/plain": [
       "866"
      ]
     },
     "execution_count": 73,
     "metadata": {},
     "output_type": "execute_result"
    }
   ],
   "source": [
    "saving_versions(data_v2, \"v2\")\n",
    "len(data_v2)"
   ]
  },
  {
   "cell_type": "code",
   "execution_count": 75,
   "id": "bef5a292",
   "metadata": {},
   "outputs": [
    {
     "data": {
      "text/plain": [
       "True"
      ]
     },
     "execution_count": 75,
     "metadata": {},
     "output_type": "execute_result"
    }
   ],
   "source": [
    "bool(re.match(\"\\d baño\", '1 baño'))"
   ]
  },
  {
   "cell_type": "code",
   "execution_count": 79,
   "id": "5f9f1fbb",
   "metadata": {},
   "outputs": [],
   "source": [
    "for i, d in enumerate(data_v2):\n",
    "    features = d[\"features\"]\n",
    "    if not bool(re.match(\"\\d baño\", features[2])):\n",
    "        print(i, features)"
   ]
  },
  {
   "cell_type": "code",
   "execution_count": 90,
   "id": "61c0f191",
   "metadata": {},
   "outputs": [],
   "source": [
    "for i, d in enumerate(data_v2):\n",
    "    if not bool(re.match(\"\\d+\\.\\d+ €\", d[\"price\"])):\n",
    "        print(i, features)"
   ]
  },
  {
   "cell_type": "markdown",
   "id": "d4ea10d5",
   "metadata": {},
   "source": [
    "### Finding features in descriptions\n",
    "Let's tokenize the descriptions and compute in how many documents each word apeards.\n",
    "\n",
    "`pip install -U pip setuptools wheel` <br>\n",
    "`pip install -U spacy` <br>\n",
    "`python -m spacy download en_core_web_sm` <br>\n",
    "`python -m spacy download es_core_news_sm`<br>"
   ]
  },
  {
   "cell_type": "code",
   "execution_count": 93,
   "id": "3d3d5012",
   "metadata": {},
   "outputs": [],
   "source": [
    "import spacy\n",
    "nlp = spacy.load(\"es_core_news_sm\")"
   ]
  },
  {
   "cell_type": "code",
   "execution_count": 109,
   "id": "83b8926e",
   "metadata": {},
   "outputs": [
    {
     "data": {
      "text/plain": [
       "'HANNAN-PIPER Real Estate les presenta, en exclusiva esta propiedad amplia y soleada vivienda de 115 metros cuadrados,\\nTransporte y comercios variados a pocos metros de la finca.\\nEstá en un edificio construido en los años 50, con ITE favorable, en perfecto estado de conservación, con acceso habilitado para minusválidos y ascensor.\\nEs una vivienda en planta alta, completamente exterior y con sol todo el día.\\nEn muy buen estado de conservación. Baño y Cocina reformados.\\nTiene una perfecta distribución, con estancias cuadradas o rectangulares, sin metros desaprovechados, pero con muchas posibilidades para adecuarla a las necesidades de sus nuevos propietarios,\\nDispone de amplio hall de acceso, salón comedor con salida a balcón, tres dormitorios dobles, dos de ellos muy amplios, cocina con cómoda y soleada zona de lavandería y baño completo con plato de ducha. Armario empotrado en el pasillo.\\nSuelos de parquet, salvo cerámica en cocina, lavandería y baño. Cerramientos de aluminio y persianas motorizadas nuevos, en toda la vivienda, con doble acristalamiento. Equipos de AACC frío/calor en Salón y dormitorio principal. Agua sanitaria y cocina, a gas natural.\\nSin duda, una magnífica vivienda con muchas características que todos deseamos y no es fácil encontrar en la zona: toda exterior, luz natural, soleada, lista para entrar a vivir, amplias estancias, comodidad,... Les gustará!\\n\\n¡Visitalo sin compromiso!\\n\\nEn Hannan-Piper Real Estate contamos con expertos inmobiliarios con más de 25 años de experiencia en el sector y la zona, que te ayudarán, guiarán y asesorarán para que el proceso de compra sea uno agradable, rápido y sencillo. Si estás interesado en visitarlo, no dudes en contactar con nosotros, estaremos encantados de atenderte.'"
      ]
     },
     "execution_count": 109,
     "metadata": {},
     "output_type": "execute_result"
    }
   ],
   "source": [
    "text = data_v2[0][\"desc\"]\n",
    "text"
   ]
  },
  {
   "cell_type": "code",
   "execution_count": 110,
   "id": "137fb390",
   "metadata": {},
   "outputs": [
    {
     "name": "stdout",
     "output_type": "stream",
     "text": [
      "\n",
      " SPACE\n",
      "Es AUX\n",
      "una DET\n",
      "vivienda NOUN\n",
      "en ADP\n",
      "planta NOUN\n",
      "alta ADJ\n",
      ", PUNCT\n",
      "completamente ADV\n",
      "exterior ADJ\n",
      "y CCONJ\n",
      "con ADP\n",
      "sol NOUN\n",
      "todo DET\n",
      "el DET\n",
      "día NOUN\n",
      ". PUNCT\n",
      "\n",
      " SPACE\n",
      "En ADP\n",
      "muy ADV\n"
     ]
    }
   ],
   "source": [
    "doc = nlp(text)\n",
    "for token in doc[60:80]:\n",
    "    print(token.text, token.pos_)"
   ]
  },
  {
   "cell_type": "code",
   "execution_count": 126,
   "id": "5b7383b6",
   "metadata": {},
   "outputs": [],
   "source": [
    "def clean_text(text):\n",
    "    doc = nlp(text)\n",
    "    tokens = [token.text.lower() for token in doc if token.pos_ in [\"VERB\", \"NOUN\", \"ADJ\", \"ADV\"]]\n",
    "    return tokens"
   ]
  },
  {
   "cell_type": "code",
   "execution_count": 125,
   "id": "244d6583",
   "metadata": {},
   "outputs": [
    {
     "data": {
      "text/plain": [
       "['presenta',\n",
       " 'exclusiva',\n",
       " 'propiedad',\n",
       " 'amplia',\n",
       " 'soleada',\n",
       " 'vivienda',\n",
       " 'metros',\n",
       " 'cuadrados',\n",
       " 'comercios',\n",
       " 'variados']"
      ]
     },
     "execution_count": 125,
     "metadata": {},
     "output_type": "execute_result"
    }
   ],
   "source": [
    "clean_text(text)[:10]"
   ]
  },
  {
   "cell_type": "code",
   "execution_count": 127,
   "id": "6997383b",
   "metadata": {},
   "outputs": [],
   "source": [
    "### Cleaning text\n",
    "for d in data_v2:\n",
    "    main_tokens = clean_text(d[\"desc\"])\n",
    "    d[\"tokens\"] = main_tokens"
   ]
  },
  {
   "cell_type": "code",
   "execution_count": 128,
   "id": "458d098c",
   "metadata": {},
   "outputs": [
    {
     "name": "stdout",
     "output_type": "stream",
     "text": [
      "train_data_ml/houses_for_sale_train_v2.pickle\n"
     ]
    },
    {
     "data": {
      "text/plain": [
       "862"
      ]
     },
     "execution_count": 128,
     "metadata": {},
     "output_type": "execute_result"
    }
   ],
   "source": [
    "saving_versions(data_v2, \"v2\")\n",
    "len(data_v2)"
   ]
  },
  {
   "cell_type": "code",
   "execution_count": 8,
   "id": "450b5644",
   "metadata": {},
   "outputs": [
    {
     "data": {
      "text/plain": [
       "862"
      ]
     },
     "execution_count": 8,
     "metadata": {},
     "output_type": "execute_result"
    }
   ],
   "source": [
    "data_v2 = load_versions(\"v2\")\n",
    "len(data_v2)"
   ]
  },
  {
   "cell_type": "markdown",
   "id": "c07f61ac",
   "metadata": {},
   "source": [
    "### Splitting into training and testing\n",
    "Training data is used to train the model Testing data is used to measure the preformance of the model."
   ]
  },
  {
   "cell_type": "code",
   "execution_count": 9,
   "id": "3dd8735a",
   "metadata": {},
   "outputs": [
    {
     "name": "stdout",
     "output_type": "stream",
     "text": [
      "689\n"
     ]
    },
    {
     "data": {
      "text/plain": [
       "(689, 173)"
      ]
     },
     "execution_count": 9,
     "metadata": {},
     "output_type": "execute_result"
    }
   ],
   "source": [
    "import random\n",
    "random.shuffle(data_v2)\n",
    "\n",
    "N = int(len(data_v2)*.8)\n",
    "print(N)\n",
    "\n",
    "train = data_v2[:N] \n",
    "test = data_v2[N:]\n",
    "\n",
    "len(train), len(test)"
   ]
  },
  {
   "cell_type": "markdown",
   "id": "4e955ab7",
   "metadata": {},
   "source": [
    "### Features from descriptions\n",
    "Let's compute the number of documents each word appears in. We do this just with the training data."
   ]
  },
  {
   "cell_type": "code",
   "execution_count": 10,
   "id": "f0c85c89",
   "metadata": {},
   "outputs": [],
   "source": [
    "from collections import defaultdict\n",
    "\n",
    "doc_freq = defaultdict(list) \n",
    "for i, d in enumerate(train):\n",
    "    tokens = set(d[\"tokens\"])\n",
    "    for token in tokens:\n",
    "        doc_freq[token].append(i)"
   ]
  },
  {
   "cell_type": "code",
   "execution_count": 11,
   "id": "1612b923",
   "metadata": {},
   "outputs": [
    {
     "data": {
      "text/plain": [
       "['presenta', 'piso', 'finca', 'ascensor', 'vivienda']"
      ]
     },
     "execution_count": 11,
     "metadata": {},
     "output_type": "execute_result"
    }
   ],
   "source": [
    "tokens = train[0][\"tokens\"]\n",
    "tokens[:5]"
   ]
  },
  {
   "cell_type": "code",
   "execution_count": 19,
   "id": "c85e3d0d",
   "metadata": {},
   "outputs": [],
   "source": [
    "prices = [float(d[\"price\"].replace(\" €\", \"\")) for d in train]"
   ]
  },
  {
   "cell_type": "code",
   "execution_count": 20,
   "id": "d085ae74",
   "metadata": {},
   "outputs": [
    {
     "data": {
      "text/plain": [
       "[381.0, 299.0, 495.0, 345.0, 395.0, 295.0, 486.81, 349.0, 350.0, 240.0]"
      ]
     },
     "execution_count": 20,
     "metadata": {},
     "output_type": "execute_result"
    }
   ],
   "source": [
    "prices[:10]"
   ]
  },
  {
   "cell_type": "code",
   "execution_count": 22,
   "id": "5fe82a65",
   "metadata": {},
   "outputs": [
    {
     "data": {
      "text/plain": [
       "(346.00156603773587, 350.0)"
      ]
     },
     "execution_count": 22,
     "metadata": {},
     "output_type": "execute_result"
    }
   ],
   "source": [
    "np.mean(prices), np.median(prices)"
   ]
  },
  {
   "cell_type": "code",
   "execution_count": 30,
   "id": "c074e6eb",
   "metadata": {},
   "outputs": [],
   "source": [
    "median_prices = {} \n",
    "for word in doc_freq:\n",
    "    L = len(doc_freq[word])\n",
    "    if L >= 20 and L < 400:\n",
    "        price_word = [prices[i] for i in doc_freq[word]]\n",
    "        median_prices[word] = np.median(price_word)"
   ]
  },
  {
   "cell_type": "code",
   "execution_count": 33,
   "id": "974b8683",
   "metadata": {},
   "outputs": [
    {
     "name": "stdout",
     "output_type": "stream",
     "text": [
      "grandes 393.5\n",
      "permite 386.027\n",
      "paredes 394.5\n",
      "gimnasios 390.0\n",
      "empotrado 299.9\n",
      "actual 411.5\n",
      "estrenar 390.0\n",
      "ascensores 413.5\n",
      "suite 410.0\n",
      "hipotecario 299.9\n",
      "valoración 299.9\n",
      "línea 307.0\n",
      "deseas 307.495\n",
      "mediana 390.0\n",
      "parking 400.0\n",
      "baños 414.0\n",
      "listo 307.45\n",
      "interiores 410.0\n",
      "buenas 410.0\n",
      "alta 399.0\n",
      "residencial 395.0\n",
      "obra 410.0\n",
      "alto 405.0\n",
      "conductos 405.0\n",
      "carácter 388.027\n",
      "principales 386.0\n",
      "contactarnos 399.0\n",
      "proyecto 386.0\n",
      "múltiples 400.0\n",
      "puertas 386.5\n",
      "completos 419.5\n",
      "obtener 399.5\n",
      "directo 390.5\n",
      "central 399.0\n",
      "office 410.0\n",
      "registrales 304.995\n",
      "calidad 399.0\n",
      "materiales 404.5\n",
      "vez 395.0\n",
      "comunitario 310.0\n",
      "noche 410.0\n",
      "pequeño 299.9\n",
      "sur 299.9\n",
      "elementos 386.027\n",
      "cerrado 299.9\n",
      "balcones 390.0\n",
      "ventanales 406.5\n",
      "paseo 390.0\n",
      "despejadas 398.0\n",
      "parte 395.0\n",
      "cerramientos 390.0\n",
      "maravilloso 397.0\n",
      "vecinos 395.0\n",
      "comunitaria 299.9\n",
      "estilo 390.0\n",
      "cristal 395.0\n",
      "comercio 395.0\n",
      "amplios 410.0\n",
      "vista 399.0\n",
      "equipado 392.0\n",
      "privilegiada 387.5\n",
      "privado 400.0\n",
      "persianas 412.5\n",
      "farmacias 310.0\n",
      "perder 304.5\n",
      "almacenaje 386.0\n",
      "multitud 399.0\n",
      "dan 386.027\n",
      "originales 386.027\n",
      "aguas 397.0\n"
     ]
    }
   ],
   "source": [
    "keywords = []\n",
    "High = 350 + 35\n",
    "Low = 350 - 35\n",
    "\n",
    "for word in median_prices:\n",
    "    if median_prices[word] > High or median_prices[word] < Low:\n",
    "        print(word, median_prices[word])\n",
    "        keywords.append(word)"
   ]
  },
  {
   "cell_type": "markdown",
   "id": "89c0ffb3",
   "metadata": {},
   "source": [
    "### Keywords to ids"
   ]
  },
  {
   "cell_type": "code",
   "execution_count": 39,
   "id": "29c4a4ba",
   "metadata": {},
   "outputs": [
    {
     "data": {
      "text/plain": [
       "{'grandes': 0,\n",
       " 'permite': 1,\n",
       " 'paredes': 2,\n",
       " 'gimnasios': 3,\n",
       " 'empotrado': 4,\n",
       " 'actual': 5,\n",
       " 'estrenar': 6,\n",
       " 'ascensores': 7,\n",
       " 'suite': 8,\n",
       " 'hipotecario': 9,\n",
       " 'valoración': 10,\n",
       " 'línea': 11,\n",
       " 'deseas': 12,\n",
       " 'mediana': 13,\n",
       " 'parking': 14,\n",
       " 'baños': 15,\n",
       " 'listo': 16,\n",
       " 'interiores': 17,\n",
       " 'buenas': 18,\n",
       " 'alta': 19,\n",
       " 'residencial': 20,\n",
       " 'obra': 21,\n",
       " 'alto': 22,\n",
       " 'conductos': 23,\n",
       " 'carácter': 24,\n",
       " 'principales': 25,\n",
       " 'contactarnos': 26,\n",
       " 'proyecto': 27,\n",
       " 'múltiples': 28,\n",
       " 'puertas': 29,\n",
       " 'completos': 30,\n",
       " 'obtener': 31,\n",
       " 'directo': 32,\n",
       " 'central': 33,\n",
       " 'office': 34,\n",
       " 'registrales': 35,\n",
       " 'calidad': 36,\n",
       " 'materiales': 37,\n",
       " 'vez': 38,\n",
       " 'comunitario': 39,\n",
       " 'noche': 40,\n",
       " 'pequeño': 41,\n",
       " 'sur': 42,\n",
       " 'elementos': 43,\n",
       " 'cerrado': 44,\n",
       " 'balcones': 45,\n",
       " 'ventanales': 46,\n",
       " 'paseo': 47,\n",
       " 'despejadas': 48,\n",
       " 'parte': 49,\n",
       " 'cerramientos': 50,\n",
       " 'maravilloso': 51,\n",
       " 'vecinos': 52,\n",
       " 'comunitaria': 53,\n",
       " 'estilo': 54,\n",
       " 'cristal': 55,\n",
       " 'comercio': 56,\n",
       " 'amplios': 57,\n",
       " 'vista': 58,\n",
       " 'equipado': 59,\n",
       " 'privilegiada': 60,\n",
       " 'privado': 61,\n",
       " 'persianas': 62,\n",
       " 'farmacias': 63,\n",
       " 'perder': 64,\n",
       " 'almacenaje': 65,\n",
       " 'multitud': 66,\n",
       " 'dan': 67,\n",
       " 'originales': 68,\n",
       " 'aguas': 69}"
      ]
     },
     "execution_count": 39,
     "metadata": {},
     "output_type": "execute_result"
    }
   ],
   "source": [
    "key_map = {k: i for i, k in enumerate(keywords)}\n",
    "key_map"
   ]
  },
  {
   "cell_type": "markdown",
   "id": "1a6209b8",
   "metadata": {},
   "source": [
    "### Creating features"
   ]
  },
  {
   "cell_type": "code",
   "execution_count": 46,
   "id": "8c564f8d",
   "metadata": {},
   "outputs": [],
   "source": [
    "def tokens_to_features(tokens, key_map):\n",
    "    feature = np.zeros(len(key_map))\n",
    "    for k in tokens:\n",
    "        if k in key_map:\n",
    "            feature[key_map[k]] = 1\n",
    "    return feature"
   ]
  },
  {
   "cell_type": "code",
   "execution_count": null,
   "id": "b0a12de0",
   "metadata": {},
   "outputs": [],
   "source": [
    "tokens = train[1][\"tokens\"]\n",
    "\n",
    "tokens_to_features(tokens, key_map)"
   ]
  },
  {
   "cell_type": "markdown",
   "id": "819f430a",
   "metadata": {},
   "source": [
    "#### location features"
   ]
  },
  {
   "cell_type": "code",
   "execution_count": 50,
   "id": "2ddb1801",
   "metadata": {},
   "outputs": [
    {
     "data": {
      "text/plain": [
       "array(['Barcelona - Diagonal Mar i el Front Marítim del Poblenou',\n",
       "       'Barcelona - Dreta de l´Eixample',\n",
       "       'Barcelona - El Camp de l´Arpa del Clot', 'Barcelona - El Clot',\n",
       "       'Barcelona - El Parc i la Llacuna del Poblenou',\n",
       "       'Barcelona - Fort Pienc',\n",
       "       'Barcelona - La Nova Esquerra de l´Eixample',\n",
       "       'Barcelona - La Nova Esquerra de l´Eixample\\nVer mapa',\n",
       "       'Barcelona - La Vila Olímpica del Poblenou',\n",
       "       'Barcelona - L´Antiga Esquerra de l´Eixample', 'Barcelona - Navas',\n",
       "       'Barcelona - Poblenou', 'Barcelona - Poblenou\\nVer mapa',\n",
       "       'Barcelona - Provençals del Poblenou',\n",
       "       'Barcelona - Sagrada Família', 'Barcelona - Sant Antoni'],\n",
       "      dtype='<U56')"
      ]
     },
     "execution_count": 50,
     "metadata": {},
     "output_type": "execute_result"
    }
   ],
   "source": [
    "np.unique([d[\"loc_string\"] for d in train])"
   ]
  },
  {
   "cell_type": "code",
   "execution_count": 54,
   "id": "42d7e25e",
   "metadata": {},
   "outputs": [
    {
     "data": {
      "text/plain": [
       "array(['Barcelona - Diagonal Mar i el Front Marítim del Poblenou',\n",
       "       'Barcelona - Dreta de l´Eixample',\n",
       "       'Barcelona - El Camp de l´Arpa del Clot', 'Barcelona - El Clot',\n",
       "       'Barcelona - El Parc i la Llacuna del Poblenou',\n",
       "       'Barcelona - Fort Pienc',\n",
       "       'Barcelona - La Nova Esquerra de l´Eixample',\n",
       "       'Barcelona - La Vila Olímpica del Poblenou',\n",
       "       'Barcelona - L´Antiga Esquerra de l´Eixample', 'Barcelona - Navas',\n",
       "       'Barcelona - Poblenou', 'Barcelona - Provençals del Poblenou',\n",
       "       'Barcelona - Sagrada Família', 'Barcelona - Sant Antoni'],\n",
       "      dtype='<U56')"
      ]
     },
     "execution_count": 54,
     "metadata": {},
     "output_type": "execute_result"
    }
   ],
   "source": [
    "## clean loc\n",
    "locations = np.unique([d[\"loc_string\"].split(\"\\n\")[0] for d in train])\n",
    "locations"
   ]
  },
  {
   "cell_type": "code",
   "execution_count": 62,
   "id": "31ae055a",
   "metadata": {},
   "outputs": [
    {
     "data": {
      "text/plain": [
       "{'Barcelona - Diagonal Mar i el Front Marítim del Poblenou': 0,\n",
       " 'Barcelona - Dreta de l´Eixample': 1,\n",
       " 'Barcelona - El Camp de l´Arpa del Clot': 2,\n",
       " 'Barcelona - El Clot': 3,\n",
       " 'Barcelona - El Parc i la Llacuna del Poblenou': 4,\n",
       " 'Barcelona - Fort Pienc': 5,\n",
       " 'Barcelona - La Nova Esquerra de l´Eixample': 6,\n",
       " 'Barcelona - La Vila Olímpica del Poblenou': 7,\n",
       " 'Barcelona - L´Antiga Esquerra de l´Eixample': 8,\n",
       " 'Barcelona - Navas': 9,\n",
       " 'Barcelona - Poblenou': 10,\n",
       " 'Barcelona - Provençals del Poblenou': 11,\n",
       " 'Barcelona - Sagrada Família': 12,\n",
       " 'Barcelona - Sant Antoni': 13}"
      ]
     },
     "execution_count": 62,
     "metadata": {},
     "output_type": "execute_result"
    }
   ],
   "source": [
    "loc_map = {v:k for k, v in enumerate(locations)}\n",
    "loc_map"
   ]
  },
  {
   "cell_type": "code",
   "execution_count": 63,
   "id": "729ca707",
   "metadata": {},
   "outputs": [],
   "source": [
    "def loc_to_feature(loc, loc_map):\n",
    "    loc = loc.split(\"\\n\")[0]\n",
    "    return loc_map.get(loc, -1)"
   ]
  },
  {
   "cell_type": "code",
   "execution_count": 64,
   "id": "3f10aa63",
   "metadata": {},
   "outputs": [
    {
     "data": {
      "text/plain": [
       "-1"
      ]
     },
     "execution_count": 64,
     "metadata": {},
     "output_type": "execute_result"
    }
   ],
   "source": [
    "loc_to_feature(\"Other\", loc_map)"
   ]
  },
  {
   "cell_type": "code",
   "execution_count": 65,
   "id": "e142a358",
   "metadata": {},
   "outputs": [
    {
     "data": {
      "text/plain": [
       "6"
      ]
     },
     "execution_count": 65,
     "metadata": {},
     "output_type": "execute_result"
    }
   ],
   "source": [
    "loc_to_feature('Barcelona - La Nova Esquerra de l´Eixample\\nVer mapa', loc_map)"
   ]
  },
  {
   "cell_type": "code",
   "execution_count": 69,
   "id": "03704d83",
   "metadata": {},
   "outputs": [
    {
     "data": {
      "text/plain": [
       "'381.000 €'"
      ]
     },
     "execution_count": 69,
     "metadata": {},
     "output_type": "execute_result"
    }
   ],
   "source": [
    "train[0][\"price\"]"
   ]
  },
  {
   "cell_type": "code",
   "execution_count": 88,
   "id": "d2b200e7",
   "metadata": {},
   "outputs": [],
   "source": [
    "def features_to_features(features, price):\n",
    "    m2 = int(features[0].replace(\" m2\", \"\"))\n",
    "    bedrooms = int(features[1].replace(\" hab.\", \"\"))\n",
    "    bathrooms = int(features[2].replace(\" baños\", \"\").replace(\" baño\", \"\"))\n",
    "    price = float(price.replace(\" €\", \"\"))\n",
    "    return np.array([m2, bedrooms, bathrooms, price])"
   ]
  },
  {
   "cell_type": "code",
   "execution_count": 71,
   "id": "452c6ee4",
   "metadata": {},
   "outputs": [
    {
     "data": {
      "text/plain": [
       "array([ 85.,   4.,   2., 381.])"
      ]
     },
     "execution_count": 71,
     "metadata": {},
     "output_type": "execute_result"
    }
   ],
   "source": [
    "features_to_features(train[0][\"features\"], train[0][\"price\"])"
   ]
  },
  {
   "cell_type": "code",
   "execution_count": 75,
   "id": "c0d80a0c",
   "metadata": {},
   "outputs": [
    {
     "data": {
      "text/plain": [
       "Counter({'SECOND_HAND': 689})"
      ]
     },
     "execution_count": 75,
     "metadata": {},
     "output_type": "execute_result"
    }
   ],
   "source": [
    "# not very useful\n",
    "from collections import Counter\n",
    "Counter([d['selltype'] for d in train])"
   ]
  },
  {
   "cell_type": "code",
   "execution_count": 89,
   "id": "7ed49183",
   "metadata": {},
   "outputs": [],
   "source": [
    "def all_features(d, key_map, loc_map):\n",
    "    fea = []\n",
    "    fea.append(tokens_to_features(d[\"tokens\"], key_map))\n",
    "    fea.append([loc_to_feature(d[\"loc_string\"], loc_map)])\n",
    "    fea.append(features_to_features(d[\"features\"], d[\"price\"]))\n",
    "    return np.concatenate(fea)"
   ]
  },
  {
   "cell_type": "code",
   "execution_count": 90,
   "id": "6471f820",
   "metadata": {},
   "outputs": [],
   "source": [
    "header = np.array(keywords + [\"loc\", \"size\", \"bedrooms\", \"bathrooms\", \"price\"])"
   ]
  },
  {
   "cell_type": "code",
   "execution_count": 91,
   "id": "eaa3048c",
   "metadata": {},
   "outputs": [],
   "source": [
    "fea = all_features(train[0], key_map, loc_map)"
   ]
  },
  {
   "cell_type": "code",
   "execution_count": 96,
   "id": "cf11652f",
   "metadata": {},
   "outputs": [],
   "source": [
    "train_features = np.stack([all_features(d, key_map, loc_map) for d in train])"
   ]
  },
  {
   "cell_type": "code",
   "execution_count": 97,
   "id": "5e975fe3",
   "metadata": {},
   "outputs": [],
   "source": [
    "test_features = np.stack([all_features(d, key_map, loc_map) for d in test])"
   ]
  },
  {
   "cell_type": "code",
   "execution_count": 98,
   "id": "c28fae36",
   "metadata": {},
   "outputs": [
    {
     "data": {
      "text/plain": [
       "75"
      ]
     },
     "execution_count": 98,
     "metadata": {},
     "output_type": "execute_result"
    }
   ],
   "source": [
    "len(header)"
   ]
  },
  {
   "cell_type": "code",
   "execution_count": 99,
   "id": "bafb2986",
   "metadata": {},
   "outputs": [
    {
     "data": {
      "text/html": [
       "<div>\n",
       "<style scoped>\n",
       "    .dataframe tbody tr th:only-of-type {\n",
       "        vertical-align: middle;\n",
       "    }\n",
       "\n",
       "    .dataframe tbody tr th {\n",
       "        vertical-align: top;\n",
       "    }\n",
       "\n",
       "    .dataframe thead th {\n",
       "        text-align: right;\n",
       "    }\n",
       "</style>\n",
       "<table border=\"1\" class=\"dataframe\">\n",
       "  <thead>\n",
       "    <tr style=\"text-align: right;\">\n",
       "      <th></th>\n",
       "      <th>grandes</th>\n",
       "      <th>permite</th>\n",
       "      <th>paredes</th>\n",
       "      <th>gimnasios</th>\n",
       "      <th>empotrado</th>\n",
       "      <th>actual</th>\n",
       "      <th>estrenar</th>\n",
       "      <th>ascensores</th>\n",
       "      <th>suite</th>\n",
       "      <th>hipotecario</th>\n",
       "      <th>...</th>\n",
       "      <th>almacenaje</th>\n",
       "      <th>multitud</th>\n",
       "      <th>dan</th>\n",
       "      <th>originales</th>\n",
       "      <th>aguas</th>\n",
       "      <th>loc</th>\n",
       "      <th>size</th>\n",
       "      <th>bedrooms</th>\n",
       "      <th>bathrooms</th>\n",
       "      <th>price</th>\n",
       "    </tr>\n",
       "  </thead>\n",
       "  <tbody>\n",
       "    <tr>\n",
       "      <th>0</th>\n",
       "      <td>1.0</td>\n",
       "      <td>1.0</td>\n",
       "      <td>1.0</td>\n",
       "      <td>1.0</td>\n",
       "      <td>1.0</td>\n",
       "      <td>0.0</td>\n",
       "      <td>0.0</td>\n",
       "      <td>0.0</td>\n",
       "      <td>0.0</td>\n",
       "      <td>0.0</td>\n",
       "      <td>...</td>\n",
       "      <td>0.0</td>\n",
       "      <td>0.0</td>\n",
       "      <td>0.0</td>\n",
       "      <td>0.0</td>\n",
       "      <td>0.0</td>\n",
       "      <td>12.0</td>\n",
       "      <td>85.0</td>\n",
       "      <td>4.0</td>\n",
       "      <td>2.0</td>\n",
       "      <td>381.0</td>\n",
       "    </tr>\n",
       "    <tr>\n",
       "      <th>1</th>\n",
       "      <td>0.0</td>\n",
       "      <td>0.0</td>\n",
       "      <td>0.0</td>\n",
       "      <td>0.0</td>\n",
       "      <td>0.0</td>\n",
       "      <td>1.0</td>\n",
       "      <td>1.0</td>\n",
       "      <td>0.0</td>\n",
       "      <td>0.0</td>\n",
       "      <td>0.0</td>\n",
       "      <td>...</td>\n",
       "      <td>0.0</td>\n",
       "      <td>0.0</td>\n",
       "      <td>0.0</td>\n",
       "      <td>0.0</td>\n",
       "      <td>0.0</td>\n",
       "      <td>12.0</td>\n",
       "      <td>69.0</td>\n",
       "      <td>3.0</td>\n",
       "      <td>1.0</td>\n",
       "      <td>299.0</td>\n",
       "    </tr>\n",
       "    <tr>\n",
       "      <th>2</th>\n",
       "      <td>0.0</td>\n",
       "      <td>0.0</td>\n",
       "      <td>0.0</td>\n",
       "      <td>0.0</td>\n",
       "      <td>0.0</td>\n",
       "      <td>0.0</td>\n",
       "      <td>0.0</td>\n",
       "      <td>1.0</td>\n",
       "      <td>1.0</td>\n",
       "      <td>0.0</td>\n",
       "      <td>...</td>\n",
       "      <td>0.0</td>\n",
       "      <td>0.0</td>\n",
       "      <td>0.0</td>\n",
       "      <td>0.0</td>\n",
       "      <td>0.0</td>\n",
       "      <td>4.0</td>\n",
       "      <td>117.0</td>\n",
       "      <td>4.0</td>\n",
       "      <td>2.0</td>\n",
       "      <td>495.0</td>\n",
       "    </tr>\n",
       "    <tr>\n",
       "      <th>3</th>\n",
       "      <td>0.0</td>\n",
       "      <td>0.0</td>\n",
       "      <td>0.0</td>\n",
       "      <td>0.0</td>\n",
       "      <td>0.0</td>\n",
       "      <td>0.0</td>\n",
       "      <td>0.0</td>\n",
       "      <td>0.0</td>\n",
       "      <td>0.0</td>\n",
       "      <td>1.0</td>\n",
       "      <td>...</td>\n",
       "      <td>0.0</td>\n",
       "      <td>0.0</td>\n",
       "      <td>0.0</td>\n",
       "      <td>0.0</td>\n",
       "      <td>0.0</td>\n",
       "      <td>5.0</td>\n",
       "      <td>89.0</td>\n",
       "      <td>4.0</td>\n",
       "      <td>1.0</td>\n",
       "      <td>345.0</td>\n",
       "    </tr>\n",
       "    <tr>\n",
       "      <th>4</th>\n",
       "      <td>0.0</td>\n",
       "      <td>0.0</td>\n",
       "      <td>0.0</td>\n",
       "      <td>0.0</td>\n",
       "      <td>0.0</td>\n",
       "      <td>0.0</td>\n",
       "      <td>0.0</td>\n",
       "      <td>0.0</td>\n",
       "      <td>0.0</td>\n",
       "      <td>0.0</td>\n",
       "      <td>...</td>\n",
       "      <td>0.0</td>\n",
       "      <td>0.0</td>\n",
       "      <td>0.0</td>\n",
       "      <td>0.0</td>\n",
       "      <td>0.0</td>\n",
       "      <td>13.0</td>\n",
       "      <td>70.0</td>\n",
       "      <td>2.0</td>\n",
       "      <td>2.0</td>\n",
       "      <td>395.0</td>\n",
       "    </tr>\n",
       "  </tbody>\n",
       "</table>\n",
       "<p>5 rows × 75 columns</p>\n",
       "</div>"
      ],
      "text/plain": [
       "   grandes  permite  paredes  gimnasios  empotrado  actual  estrenar   \n",
       "0      1.0      1.0      1.0        1.0        1.0     0.0       0.0  \\\n",
       "1      0.0      0.0      0.0        0.0        0.0     1.0       1.0   \n",
       "2      0.0      0.0      0.0        0.0        0.0     0.0       0.0   \n",
       "3      0.0      0.0      0.0        0.0        0.0     0.0       0.0   \n",
       "4      0.0      0.0      0.0        0.0        0.0     0.0       0.0   \n",
       "\n",
       "   ascensores  suite  hipotecario  ...  almacenaje  multitud  dan  originales   \n",
       "0         0.0    0.0          0.0  ...         0.0       0.0  0.0         0.0  \\\n",
       "1         0.0    0.0          0.0  ...         0.0       0.0  0.0         0.0   \n",
       "2         1.0    1.0          0.0  ...         0.0       0.0  0.0         0.0   \n",
       "3         0.0    0.0          1.0  ...         0.0       0.0  0.0         0.0   \n",
       "4         0.0    0.0          0.0  ...         0.0       0.0  0.0         0.0   \n",
       "\n",
       "   aguas   loc   size  bedrooms  bathrooms  price  \n",
       "0    0.0  12.0   85.0       4.0        2.0  381.0  \n",
       "1    0.0  12.0   69.0       3.0        1.0  299.0  \n",
       "2    0.0   4.0  117.0       4.0        2.0  495.0  \n",
       "3    0.0   5.0   89.0       4.0        1.0  345.0  \n",
       "4    0.0  13.0   70.0       2.0        2.0  395.0  \n",
       "\n",
       "[5 rows x 75 columns]"
      ]
     },
     "execution_count": 99,
     "metadata": {},
     "output_type": "execute_result"
    }
   ],
   "source": [
    "df_train = pd.DataFrame(train_features, columns=header)\n",
    "df_train.head()"
   ]
  },
  {
   "cell_type": "code",
   "execution_count": 100,
   "id": "22c4162e",
   "metadata": {},
   "outputs": [],
   "source": [
    "df_test = pd.DataFrame(test_features, columns=header)"
   ]
  },
  {
   "cell_type": "code",
   "execution_count": 101,
   "id": "e8d4f26e",
   "metadata": {},
   "outputs": [],
   "source": [
    "df_train.to_csv(\"houses_for_sale_train.csv\",index=False)\n",
    "df_test.to_csv(\"houses_for_sale_test.csv\",index=False)"
   ]
  },
  {
   "cell_type": "code",
   "execution_count": null,
   "id": "64aad1fe",
   "metadata": {},
   "outputs": [],
   "source": []
  }
 ],
 "metadata": {
  "kernelspec": {
   "display_name": "Python 3 (ipykernel)",
   "language": "python",
   "name": "python3"
  },
  "language_info": {
   "codemirror_mode": {
    "name": "ipython",
    "version": 3
   },
   "file_extension": ".py",
   "mimetype": "text/x-python",
   "name": "python",
   "nbconvert_exporter": "python",
   "pygments_lexer": "ipython3",
   "version": "3.11.4"
  }
 },
 "nbformat": 4,
 "nbformat_minor": 5
}
