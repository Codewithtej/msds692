{
 "cells": [
  {
   "cell_type": "code",
   "execution_count": 1,
   "id": "d91d87ef",
   "metadata": {
    "tags": []
   },
   "outputs": [],
   "source": [
    "from pathlib import Path\n",
    "import numpy as np\n",
    "import pandas as pd\n",
    "import pickle\n",
    "from os.path import expanduser\n",
    "from collections import Counter"
   ]
  },
  {
   "cell_type": "code",
   "execution_count": 2,
   "id": "a5af7999",
   "metadata": {
    "tags": []
   },
   "outputs": [],
   "source": [
    "import re"
   ]
  },
  {
   "cell_type": "markdown",
   "id": "9c4a2545-1800-428d-a841-3fc7a879f5c9",
   "metadata": {},
   "source": [
    "Install the following packages: <br>\n",
    "`pip install -U pip setuptools wheel` <br>\n",
    "`pip install -U spacy` <br>\n",
    "`python -m spacy download en_core_web_sm` <br>\n",
    "`python -m spacy download es_core_news_sm`<br>"
   ]
  },
  {
   "cell_type": "code",
   "execution_count": 3,
   "id": "9ff578ee",
   "metadata": {
    "tags": []
   },
   "outputs": [],
   "source": [
    "filename = expanduser(\"~/data/houses_for_sale.pickle\")\n",
    "with open(filename,'rb') as f:\n",
    "    data = pickle.load(f, encoding='utf-8')"
   ]
  },
  {
   "cell_type": "markdown",
   "id": "f130461b-9348-409a-8569-0d2ee9d30388",
   "metadata": {},
   "source": [
    "This dataset was acquired by scraping a website that compiles property listings available for sale in Spain. Our objective is to leverage this data to gain insights into properties that offer a favorable value proposition for potential buyers.\n",
    "\n",
    "One approach to achieve this is by training a model that can predict the asking price based on various \"features\" associated with each property listing. We intend to employ models that take a numerical feature vector as input to estimate the price. However, there are several data quality issues that need to be addressed before we can even begin creating features for this dataset:\n",
    "\n",
    "1. Remove listings that advertise multiple units for sale.\n",
    "2. Fix the \"number of bedrooms\" in some listings.\n",
    "4. Fix the location feature. Encoding it as a categorical variable.\n",
    "3. Generate relevant features from textual information."
   ]
  },
  {
   "cell_type": "code",
   "execution_count": 4,
   "id": "fe94cedd",
   "metadata": {
    "tags": []
   },
   "outputs": [
    {
     "data": {
      "text/plain": [
       "913"
      ]
     },
     "execution_count": 4,
     "metadata": {},
     "output_type": "execute_result"
    }
   ],
   "source": [
    "len(data)"
   ]
  },
  {
   "cell_type": "code",
   "execution_count": 5,
   "id": "d8d9c623-3370-4af2-8058-188da0d90d12",
   "metadata": {
    "tags": []
   },
   "outputs": [
    {
     "data": {
      "text/plain": [
       "{'price': '320.000 €',\n",
       " 'title': 'Piso Tallers. Piso con 2 habitaciones con ascensor',\n",
       " 'loc_string': 'Barcelona - Sant Antoni',\n",
       " 'loc': None,\n",
       " 'features': ['85 m2', '2 hab.', '1 baño', '3.647 €/m2'],\n",
       " 'type': 'FLAT',\n",
       " 'subtype': 'FLAT',\n",
       " 'selltype': 'SECOND_HAND',\n",
       " 'desc': 'Piso en última planta a reformar en calle Tallers junto a plaza Universitat.\\n\\nLa propiedad ofrece muchas posibilidades para personalizarla según sus necesidades, ya que todas las paredes son tabiques.\\n\\nLa distribución actual cuenta con salón comedor amplio, cocina, dos habitaciones dobles exteriores, dos habitaciones interiores, baño y despensa/trastero. Balcones a ambos lados de la vivienda, uno a patio de manzana y los otros dos a carrer Tallers. Suelos originales.\\n\\nFinca del 1882 con ascensor.\\n\\nCalle peatonal con encanto en el centro de Barcelona, rodeada de todo tipo de comercios y servicios. Buenas comunicaciones mediante transportes publicos, metro, autobuses y FFCC.'}"
      ]
     },
     "execution_count": 5,
     "metadata": {},
     "output_type": "execute_result"
    }
   ],
   "source": [
    "# data is a list of dictionaries\n",
    "data[0]"
   ]
  },
  {
   "cell_type": "markdown",
   "id": "a5c4976f",
   "metadata": {},
   "source": [
    "## Removing ads from multiple units\n",
    "If features starts with \"desde\" it means that the ad is advertising multiple units. See for example this add in which the price is None and features start with \"desde\"."
   ]
  },
  {
   "cell_type": "code",
   "execution_count": 5,
   "id": "2586ddce-7ca9-4735-92a7-db5aa3dd50c3",
   "metadata": {
    "tags": []
   },
   "outputs": [],
   "source": [
    "#data[10]"
   ]
  },
  {
   "cell_type": "code",
   "execution_count": 6,
   "id": "edd3ce79",
   "metadata": {
    "tags": []
   },
   "outputs": [],
   "source": [
    "data[10]['price']"
   ]
  },
  {
   "cell_type": "code",
   "execution_count": 7,
   "id": "0d50433d-31b3-493c-a18f-66166b0f26aa",
   "metadata": {
    "tags": []
   },
   "outputs": [
    {
     "data": {
      "text/plain": [
       "['desde 70 m2', '15.785,71 €/m2']"
      ]
     },
     "execution_count": 7,
     "metadata": {},
     "output_type": "execute_result"
    }
   ],
   "source": [
    "data[10]['features']"
   ]
  },
  {
   "cell_type": "code",
   "execution_count": 9,
   "id": "6630395d",
   "metadata": {
    "tags": []
   },
   "outputs": [
    {
     "data": {
      "text/plain": [
       "(True, False)"
      ]
     },
     "execution_count": 9,
     "metadata": {},
     "output_type": "execute_result"
    }
   ],
   "source": [
    " bool(re.match(\"^desde\", 'desde 70 m2')),  bool(re.match(\"^desde\", '70 m2'))"
   ]
  },
  {
   "cell_type": "code",
   "execution_count": 10,
   "id": "db2a9c44",
   "metadata": {
    "tags": []
   },
   "outputs": [],
   "source": [
    "data_v1 = [] \n",
    "for i, d in enumerate(data):\n",
    "    features = d[\"features\"]\n",
    "    if bool(re.match(\"^desde\", features[0])) == False:\n",
    "        if bool(re.search(\"\\d+ m2\", features[0])) == True:\n",
    "            data_v1.append(d)"
   ]
  },
  {
   "cell_type": "code",
   "execution_count": 56,
   "id": "1ce8e1d3-eba4-4ef9-8c47-f4fff4b75b8c",
   "metadata": {
    "tags": []
   },
   "outputs": [],
   "source": [
    "def saving_versions(data, version):\n",
    "    filename = expanduser(\"~/data\")\n",
    "    filename +=  \"/houses_for_sale_train_{}.pickle\".format(version)\n",
    "    file = open(filename, 'wb')\n",
    "    pickle.dump(data, file)\n",
    "    file.close()\n",
    "    print(filename)\n",
    "    \n",
    "def load_versions(version):\n",
    "    filename = expanduser(\"~/data\")\n",
    "    filename += \"/houses_for_sale_train_{}.pickle\".format(version)\n",
    "    with open(filename,'rb') as f:\n",
    "        data = pickle.load(f, encoding='utf-8')\n",
    "    return data"
   ]
  },
  {
   "cell_type": "code",
   "execution_count": 12,
   "id": "a2020dd7",
   "metadata": {
    "tags": []
   },
   "outputs": [
    {
     "name": "stdout",
     "output_type": "stream",
     "text": [
      "/Users/yinterian/datahouses_for_sale_train_v1.pickle\n"
     ]
    },
    {
     "data": {
      "text/plain": [
       "866"
      ]
     },
     "execution_count": 12,
     "metadata": {},
     "output_type": "execute_result"
    }
   ],
   "source": [
    "# saving the new version of the data\n",
    "saving_versions(data_v1, \"v1\")\n",
    "len(data_v1)"
   ]
  },
  {
   "cell_type": "markdown",
   "id": "c04d812b",
   "metadata": {},
   "source": [
    "### Checking number of rooms feature\n",
    "and fixing issues"
   ]
  },
  {
   "cell_type": "code",
   "execution_count": 13,
   "id": "159844d4",
   "metadata": {
    "tags": []
   },
   "outputs": [
    {
     "data": {
      "text/plain": [
       "866"
      ]
     },
     "execution_count": 13,
     "metadata": {},
     "output_type": "execute_result"
    }
   ],
   "source": [
    "data_v1 = load_versions(\"v1\")\n",
    "len(data_v1)"
   ]
  },
  {
   "cell_type": "code",
   "execution_count": 14,
   "id": "bf4c5a5f-64b1-4837-8261-8cf61e1ba3ea",
   "metadata": {
    "tags": []
   },
   "outputs": [
    {
     "data": {
      "text/plain": [
       "[['85 m2', '2 hab.', '1 baño', '3.647 €/m2'],\n",
       " ['65 m2', '2 hab.', '1 baño', '5.000 €/m2'],\n",
       " ['77 m2', '2 hab.', '1 baño', '4.286 €/m2'],\n",
       " ['96 m2', '3 hab.', '2 baños', '4.531 €/m2'],\n",
       " ['84 m2', '2 hab.', '1 baño', '4.881 €/m2'],\n",
       " ['91 m2', '4 hab.', '2 baños', '4.780 €/m2'],\n",
       " ['96 m2', '2 hab.', '2 baños', '4.271 €/m2'],\n",
       " ['76 m2', '2 hab.', '1 baño', '4.605 €/m2'],\n",
       " ['103 m2', '3 hab.', '2 baños', '4.223 €/m2'],\n",
       " ['82 m2', '3 hab.', '1 baño', '2.988 €/m2']]"
      ]
     },
     "execution_count": 14,
     "metadata": {},
     "output_type": "execute_result"
    }
   ],
   "source": [
    "[d[\"features\"] for d in data_v1[:10]]"
   ]
  },
  {
   "cell_type": "code",
   "execution_count": 15,
   "id": "70706c62",
   "metadata": {
    "tags": []
   },
   "outputs": [
    {
     "data": {
      "text/plain": [
       "True"
      ]
     },
     "execution_count": 15,
     "metadata": {},
     "output_type": "execute_result"
    }
   ],
   "source": [
    "bool(re.match(\"\\d hab\", '3 hab.'))"
   ]
  },
  {
   "cell_type": "code",
   "execution_count": 16,
   "id": "0841bed2",
   "metadata": {
    "tags": []
   },
   "outputs": [
    {
     "name": "stdout",
     "output_type": "stream",
     "text": [
      "137 ['45 m2', '1 baño', '5.689 €/m2']\n",
      "186 ['113 m2', '4 baños', '2.389 €/m2']\n",
      "192 ['93 m2', '1 baño', '3.215 €/m2']\n",
      "503 ['54 m2', '1 baño', '6.944 €/m2']\n",
      "537 ['93 m2', '1 baño', '2.151 €/m2']\n",
      "574 ['102 m2', '1 baño', '3.431 €/m2']\n",
      "729 ['82 m2', '22 hab.', '1 baño', '4.268 €/m2']\n",
      "766 ['52 m2', '3.442 €/m2']\n"
     ]
    }
   ],
   "source": [
    "# listing without number of rooms\n",
    "inds = []\n",
    "for i, d in enumerate(data_v1):\n",
    "    features = d[\"features\"]\n",
    "    if not bool(re.match(\"\\d hab\", features[1])):\n",
    "        print(i, features)\n",
    "        inds.append(i)"
   ]
  },
  {
   "cell_type": "code",
   "execution_count": 26,
   "id": "3fde0f65",
   "metadata": {
    "tags": []
   },
   "outputs": [
    {
     "data": {
      "text/plain": [
       "[137, 186, 192, 503, 537, 574, 729, 766]"
      ]
     },
     "execution_count": 26,
     "metadata": {},
     "output_type": "execute_result"
    }
   ],
   "source": [
    "inds"
   ]
  },
  {
   "cell_type": "code",
   "execution_count": 17,
   "id": "6b2b288a",
   "metadata": {
    "tags": []
   },
   "outputs": [],
   "source": [
    "def get_new_feature(fea):\n",
    "    return [fea[0], \"0 hab.\", fea[1], fea[-1]]"
   ]
  },
  {
   "cell_type": "code",
   "execution_count": 18,
   "id": "471b82de",
   "metadata": {
    "tags": []
   },
   "outputs": [
    {
     "data": {
      "text/plain": [
       "['45 m2', '0 hab.', '1 baño', '5.689 €/m2']"
      ]
     },
     "execution_count": 18,
     "metadata": {},
     "output_type": "execute_result"
    }
   ],
   "source": [
    "# let's add \"0 hab.\" This is most likely a studio\n",
    "get_new_feature(['45 m2', '1 baño', '5.689 €/m2'])"
   ]
  },
  {
   "cell_type": "code",
   "execution_count": 19,
   "id": "7e08fe32",
   "metadata": {
    "tags": []
   },
   "outputs": [],
   "source": [
    "data_v2 = []\n",
    "for i, d in enumerate(data_v1):\n",
    "    features = d[\"features\"]\n",
    "    if not bool(re.match(\"\\d hab\", features[1])):\n",
    "        if len(features) == 3:\n",
    "            features = get_new_feature(features)\n",
    "            d[\"features\"] = features\n",
    "    if len(features) == 4:\n",
    "        data_v2.append(d)"
   ]
  },
  {
   "cell_type": "code",
   "execution_count": 20,
   "id": "41b7275d",
   "metadata": {
    "tags": []
   },
   "outputs": [
    {
     "name": "stdout",
     "output_type": "stream",
     "text": [
      "/Users/yinterian/datahouses_for_sale_train_v2.pickle\n"
     ]
    },
    {
     "data": {
      "text/plain": [
       "862"
      ]
     },
     "execution_count": 20,
     "metadata": {},
     "output_type": "execute_result"
    }
   ],
   "source": [
    "saving_versions(data_v2, \"v2\")\n",
    "len(data_v2)"
   ]
  },
  {
   "cell_type": "code",
   "execution_count": 19,
   "id": "bef5a292",
   "metadata": {
    "tags": []
   },
   "outputs": [
    {
     "data": {
      "text/plain": [
       "True"
      ]
     },
     "execution_count": 19,
     "metadata": {},
     "output_type": "execute_result"
    }
   ],
   "source": [
    "bool(re.match(\"\\d baño\", '1 baño'))"
   ]
  },
  {
   "cell_type": "code",
   "execution_count": 20,
   "id": "5f9f1fbb",
   "metadata": {
    "tags": []
   },
   "outputs": [],
   "source": [
    "# checking for bathrooms\n",
    "for i, d in enumerate(data_v2):\n",
    "    features = d[\"features\"]\n",
    "    if not bool(re.match(\"\\d baño\", features[2])):\n",
    "        print(i, features)"
   ]
  },
  {
   "cell_type": "code",
   "execution_count": 21,
   "id": "61c0f191",
   "metadata": {
    "tags": []
   },
   "outputs": [],
   "source": [
    "# checking the price\n",
    "for i, d in enumerate(data_v2):\n",
    "    if not bool(re.match(\"\\d+\\.\\d+ €\", d[\"price\"])):\n",
    "        print(i, features)"
   ]
  },
  {
   "cell_type": "markdown",
   "id": "d5d4e7d9-ac04-412d-9cd1-93ea84fbbc12",
   "metadata": {},
   "source": [
    "### Exercise: \n",
    "Explore features, 'subtype', 'selltype'. Do you think they would be usedful to our model?  "
   ]
  },
  {
   "cell_type": "markdown",
   "id": "d4ea10d5",
   "metadata": {},
   "source": [
    "### Finding features in descriptions\n",
    "Let's tokenize the descriptions and compute in how many documents each word apeards."
   ]
  },
  {
   "cell_type": "code",
   "execution_count": 21,
   "id": "3d3d5012",
   "metadata": {
    "tags": []
   },
   "outputs": [],
   "source": [
    "import spacy\n",
    "nlp = spacy.load(\"es_core_news_sm\")"
   ]
  },
  {
   "cell_type": "code",
   "execution_count": 22,
   "id": "83b8926e",
   "metadata": {
    "tags": []
   },
   "outputs": [
    {
     "data": {
      "text/plain": [
       "'Piso en última planta a reformar en calle Tallers junto a plaza Universitat.\\n\\nLa propiedad ofrece muchas posibilidades para personalizarla según sus necesidades, ya que todas las paredes son tabiques.\\n\\nLa distribución actual cuenta con salón comedor amplio, cocina, dos habitaciones dobles exteriores, dos habitaciones interiores, baño y despensa/trastero. Balcones a ambos lados de la vivienda, uno a patio de manzana y los otros dos a carrer Tallers. Suelos originales.\\n\\nFinca del 1882 con ascensor.\\n\\nCalle peatonal con encanto en el centro de Barcelona, rodeada de todo tipo de comercios y servicios. Buenas comunicaciones mediante transportes publicos, metro, autobuses y FFCC.'"
      ]
     },
     "execution_count": 22,
     "metadata": {},
     "output_type": "execute_result"
    }
   ],
   "source": [
    "text = data_v2[0][\"desc\"]\n",
    "text"
   ]
  },
  {
   "cell_type": "code",
   "execution_count": 23,
   "id": "137fb390",
   "metadata": {
    "tags": []
   },
   "outputs": [
    {
     "name": "stdout",
     "output_type": "stream",
     "text": [
      ". PUNCT\n",
      "Balcones NOUN\n",
      "a ADP\n",
      "ambos NUM\n",
      "lados NOUN\n",
      "de ADP\n",
      "la DET\n",
      "vivienda NOUN\n",
      ", PUNCT\n",
      "uno PRON\n",
      "a ADP\n",
      "patio NOUN\n",
      "de ADP\n",
      "manzana NOUN\n",
      "y CCONJ\n",
      "los DET\n",
      "otros DET\n",
      "dos NUM\n",
      "a ADP\n",
      "carrer VERB\n"
     ]
    }
   ],
   "source": [
    "# tokenizing with spacy, you get part of speech (POS) for free\n",
    "doc = nlp(text)\n",
    "for token in doc[60:80]:\n",
    "    print(token.text, token.pos_)"
   ]
  },
  {
   "cell_type": "code",
   "execution_count": 24,
   "id": "5b7383b6",
   "metadata": {
    "tags": []
   },
   "outputs": [],
   "source": [
    "# you can filter using POS\n",
    "pos_list = [\"VERB\", \"NOUN\", \"ADJ\", \"ADV\"]\n",
    "def clean_text(text):\n",
    "    doc = nlp(text)\n",
    "    tokens = [token.text.lower() for token in doc if token.pos_ in pos_list]\n",
    "    return tokens"
   ]
  },
  {
   "cell_type": "code",
   "execution_count": 25,
   "id": "244d6583",
   "metadata": {
    "tags": []
   },
   "outputs": [
    {
     "data": {
      "text/plain": [
       "['piso',\n",
       " 'última',\n",
       " 'planta',\n",
       " 'reformar',\n",
       " 'calle',\n",
       " 'junto',\n",
       " 'propiedad',\n",
       " 'ofrece',\n",
       " 'posibilidades',\n",
       " 'personalizarla']"
      ]
     },
     "execution_count": 25,
     "metadata": {},
     "output_type": "execute_result"
    }
   ],
   "source": [
    "clean_text(text)[:10]"
   ]
  },
  {
   "cell_type": "code",
   "execution_count": 26,
   "id": "6997383b",
   "metadata": {
    "tags": []
   },
   "outputs": [],
   "source": [
    "### Cleaning text\n",
    "for d in data_v2:\n",
    "    main_tokens = clean_text(d[\"desc\"])\n",
    "    d[\"tokens\"] = main_tokens"
   ]
  },
  {
   "cell_type": "code",
   "execution_count": 27,
   "id": "458d098c",
   "metadata": {
    "tags": []
   },
   "outputs": [
    {
     "name": "stdout",
     "output_type": "stream",
     "text": [
      "/Users/yinterian/datahouses_for_sale_train_v2.pickle\n"
     ]
    },
    {
     "data": {
      "text/plain": [
       "862"
      ]
     },
     "execution_count": 27,
     "metadata": {},
     "output_type": "execute_result"
    }
   ],
   "source": [
    "saving_versions(data_v2, \"v2\")\n",
    "len(data_v2)"
   ]
  },
  {
   "cell_type": "code",
   "execution_count": 28,
   "id": "450b5644",
   "metadata": {
    "tags": []
   },
   "outputs": [
    {
     "data": {
      "text/plain": [
       "862"
      ]
     },
     "execution_count": 28,
     "metadata": {},
     "output_type": "execute_result"
    }
   ],
   "source": [
    "data_v2 = load_versions(\"v2\")\n",
    "len(data_v2)"
   ]
  },
  {
   "cell_type": "markdown",
   "id": "c07f61ac",
   "metadata": {},
   "source": [
    "### Splitting into training and testing\n",
    "Training data is used to train the model Testing data is used to measure the preformance of the model."
   ]
  },
  {
   "cell_type": "code",
   "execution_count": 29,
   "id": "3dd8735a",
   "metadata": {
    "tags": []
   },
   "outputs": [
    {
     "name": "stdout",
     "output_type": "stream",
     "text": [
      "689\n"
     ]
    },
    {
     "data": {
      "text/plain": [
       "(689, 173)"
      ]
     },
     "execution_count": 29,
     "metadata": {},
     "output_type": "execute_result"
    }
   ],
   "source": [
    "import random\n",
    "random.seed(4)\n",
    "random.shuffle(data_v2)\n",
    "\n",
    "N = int(len(data_v2)*.8)\n",
    "print(N)\n",
    "\n",
    "train = data_v2[:N] \n",
    "test = data_v2[N:]\n",
    "\n",
    "len(train), len(test)"
   ]
  },
  {
   "cell_type": "markdown",
   "id": "4e955ab7",
   "metadata": {},
   "source": [
    "### Features from descriptions\n",
    "Let's compute the number of documents each word appears in. We do this just with the training data."
   ]
  },
  {
   "cell_type": "code",
   "execution_count": 30,
   "id": "f0c85c89",
   "metadata": {
    "tags": []
   },
   "outputs": [],
   "source": [
    "from collections import defaultdict\n",
    "\n",
    "doc_freq = defaultdict(list) \n",
    "for i, d in enumerate(train):\n",
    "    tokens = set(d[\"tokens\"])\n",
    "    for token in tokens:\n",
    "        doc_freq[token].append(i)"
   ]
  },
  {
   "cell_type": "code",
   "execution_count": 31,
   "id": "1612b923",
   "metadata": {
    "tags": []
   },
   "outputs": [
    {
     "data": {
      "text/plain": [
       "['nfo', 'presenta', 'precioso', 'piso', 'muy']"
      ]
     },
     "execution_count": 31,
     "metadata": {},
     "output_type": "execute_result"
    }
   ],
   "source": [
    "tokens = train[0][\"tokens\"]\n",
    "tokens[:5]"
   ]
  },
  {
   "cell_type": "code",
   "execution_count": 32,
   "id": "c85e3d0d",
   "metadata": {
    "tags": []
   },
   "outputs": [],
   "source": [
    "prices = [float(d[\"price\"].replace(\" €\", \"\")) for d in train]"
   ]
  },
  {
   "cell_type": "code",
   "execution_count": 33,
   "id": "d085ae74",
   "metadata": {
    "tags": []
   },
   "outputs": [
    {
     "data": {
      "text/plain": [
       "[450.0, 230.0, 340.0, 213.0, 420.0, 299.0, 460.0, 340.0, 280.0, 399.0]"
      ]
     },
     "execution_count": 33,
     "metadata": {},
     "output_type": "execute_result"
    }
   ],
   "source": [
    "prices[:10]"
   ]
  },
  {
   "cell_type": "code",
   "execution_count": 34,
   "id": "5fe82a65",
   "metadata": {
    "tags": []
   },
   "outputs": [
    {
     "data": {
      "text/plain": [
       "(343.678388969521, 349.0)"
      ]
     },
     "execution_count": 34,
     "metadata": {},
     "output_type": "execute_result"
    }
   ],
   "source": [
    "np.mean(prices), np.median(prices)"
   ]
  },
  {
   "cell_type": "code",
   "execution_count": 34,
   "id": "c074e6eb",
   "metadata": {
    "tags": []
   },
   "outputs": [],
   "source": [
    "median_prices = {} \n",
    "for word in doc_freq:\n",
    "    L = len(doc_freq[word])\n",
    "    if L >= 20 and L < 400:\n",
    "        price_word = [prices[i] for i in doc_freq[word]]\n",
    "        median_prices[word] = np.median(price_word)"
   ]
  },
  {
   "cell_type": "code",
   "execution_count": 35,
   "id": "974b8683",
   "metadata": {
    "tags": []
   },
   "outputs": [
    {
     "name": "stdout",
     "output_type": "stream",
     "text": [
      "profesional 299.9\n",
      "central 399.5\n",
      "parking 395.0\n",
      "precioso 398.0\n",
      "gratuita 299.9\n",
      "baños 415.0\n",
      "departamento 299.9\n",
      "deseas 299.9\n",
      "hipotecario 299.9\n",
      "directo 392.0\n",
      "completos 417.0\n",
      "mediana 386.0\n",
      "línea 305.0\n",
      "empotrados 392.5\n",
      "bañera 312.5\n",
      "empotrado 310.0\n",
      "valoración 299.9\n",
      "desea 299.9\n",
      "estrenar 395.0\n",
      "suite 425.0\n",
      "abierta 390.0\n",
      "así 399.0\n",
      "grandes 388.5\n",
      "trastero 390.0\n",
      "vistas 387.5\n",
      "ascensores 409.95\n",
      "pequeño 299.9\n",
      "comunitaria 299.9\n",
      "puertas 389.0\n",
      "armarios 399.0\n",
      "office 399.0\n",
      "grava 299.9\n",
      "materiales 392.5\n",
      "hipotecaria 309.95\n",
      "registrales 299.99\n",
      "notariales 312.5\n",
      "calidad 400.0\n",
      "tampoco 299.9\n",
      "estar 390.0\n",
      "segundo 390.0\n",
      "perder 305.0\n",
      "barrios 395.0\n",
      "estancias 392.0\n",
      "gas 390.0\n",
      "construido 299.945\n",
      "presentamos 300.0\n",
      "cristal 395.0\n",
      "obtener 399.5\n",
      "actual 424.0\n",
      "€ 305.0\n",
      "radiadores 390.0\n",
      "bonito 394.5\n",
      "fachada 390.0\n",
      "estilo 390.0\n",
      "portero 398.0\n",
      "variedad 390.0\n",
      "espacios 395.0\n",
      "nuevo 395.0\n",
      "maravilloso 399.99\n",
      "alto 405.0\n",
      "múltiples 395.0\n",
      "amplitud 399.5\n",
      "noche 412.0\n",
      "ventanales 410.0\n",
      "proyecto 397.0\n",
      "amplios 415.0\n",
      "privado 412.0\n",
      "alta 399.0\n",
      "acabados 390.0\n",
      "accede 395.0\n",
      "conductos 408.5\n",
      "mano 395.0\n",
      "sur 307.45\n",
      "buenas 404.5\n",
      "oro 299.9\n",
      "elementos 390.0\n",
      "obra 410.0\n",
      "residencial 390.0\n",
      "cerrado 299.9\n",
      "paredes 399.5\n",
      "llamarnos 299.945\n",
      "balcones 397.0\n",
      "equipado 386.5\n",
      "despejadas 398.5\n",
      "interiores 405.0\n",
      "parte 395.0\n",
      "vista 400.0\n",
      "llave 299.9\n",
      "blanco 387.0\n",
      "comercio 395.0\n",
      "vas 282.5\n",
      "dan 397.0\n"
     ]
    }
   ],
   "source": [
    "keywords = []\n",
    "High = 350 + 35\n",
    "Low = 350 - 35\n",
    "\n",
    "for word in median_prices:\n",
    "    if median_prices[word] > High or median_prices[word] < Low:\n",
    "        print(word, median_prices[word])\n",
    "        keywords.append(word)"
   ]
  },
  {
   "cell_type": "markdown",
   "id": "89c0ffb3",
   "metadata": {},
   "source": [
    "### Keywords to ids"
   ]
  },
  {
   "cell_type": "code",
   "execution_count": 36,
   "id": "29c4a4ba",
   "metadata": {
    "tags": []
   },
   "outputs": [
    {
     "data": {
      "text/plain": [
       "{'profesional': 0,\n",
       " 'central': 1,\n",
       " 'parking': 2,\n",
       " 'precioso': 3,\n",
       " 'gratuita': 4,\n",
       " 'baños': 5,\n",
       " 'departamento': 6,\n",
       " 'deseas': 7,\n",
       " 'hipotecario': 8,\n",
       " 'directo': 9,\n",
       " 'completos': 10,\n",
       " 'mediana': 11,\n",
       " 'línea': 12,\n",
       " 'empotrados': 13,\n",
       " 'bañera': 14,\n",
       " 'empotrado': 15,\n",
       " 'valoración': 16,\n",
       " 'desea': 17,\n",
       " 'estrenar': 18,\n",
       " 'suite': 19,\n",
       " 'abierta': 20,\n",
       " 'así': 21,\n",
       " 'grandes': 22,\n",
       " 'trastero': 23,\n",
       " 'vistas': 24,\n",
       " 'ascensores': 25,\n",
       " 'pequeño': 26,\n",
       " 'comunitaria': 27,\n",
       " 'puertas': 28,\n",
       " 'armarios': 29,\n",
       " 'office': 30,\n",
       " 'grava': 31,\n",
       " 'materiales': 32,\n",
       " 'hipotecaria': 33,\n",
       " 'registrales': 34,\n",
       " 'notariales': 35,\n",
       " 'calidad': 36,\n",
       " 'tampoco': 37,\n",
       " 'estar': 38,\n",
       " 'segundo': 39,\n",
       " 'perder': 40,\n",
       " 'barrios': 41,\n",
       " 'estancias': 42,\n",
       " 'gas': 43,\n",
       " 'construido': 44,\n",
       " 'presentamos': 45,\n",
       " 'cristal': 46,\n",
       " 'obtener': 47,\n",
       " 'actual': 48,\n",
       " '€': 49,\n",
       " 'radiadores': 50,\n",
       " 'bonito': 51,\n",
       " 'fachada': 52,\n",
       " 'estilo': 53,\n",
       " 'portero': 54,\n",
       " 'variedad': 55,\n",
       " 'espacios': 56,\n",
       " 'nuevo': 57,\n",
       " 'maravilloso': 58,\n",
       " 'alto': 59,\n",
       " 'múltiples': 60,\n",
       " 'amplitud': 61,\n",
       " 'noche': 62,\n",
       " 'ventanales': 63,\n",
       " 'proyecto': 64,\n",
       " 'amplios': 65,\n",
       " 'privado': 66,\n",
       " 'alta': 67,\n",
       " 'acabados': 68,\n",
       " 'accede': 69,\n",
       " 'conductos': 70,\n",
       " 'mano': 71,\n",
       " 'sur': 72,\n",
       " 'buenas': 73,\n",
       " 'oro': 74,\n",
       " 'elementos': 75,\n",
       " 'obra': 76,\n",
       " 'residencial': 77,\n",
       " 'cerrado': 78,\n",
       " 'paredes': 79,\n",
       " 'llamarnos': 80,\n",
       " 'balcones': 81,\n",
       " 'equipado': 82,\n",
       " 'despejadas': 83,\n",
       " 'interiores': 84,\n",
       " 'parte': 85,\n",
       " 'vista': 86,\n",
       " 'llave': 87,\n",
       " 'blanco': 88,\n",
       " 'comercio': 89,\n",
       " 'vas': 90,\n",
       " 'dan': 91}"
      ]
     },
     "execution_count": 36,
     "metadata": {},
     "output_type": "execute_result"
    }
   ],
   "source": [
    "key_map = {k: i for i, k in enumerate(keywords)}\n",
    "key_map"
   ]
  },
  {
   "cell_type": "markdown",
   "id": "1a6209b8",
   "metadata": {},
   "source": [
    "### Creating features"
   ]
  },
  {
   "cell_type": "code",
   "execution_count": 37,
   "id": "8c564f8d",
   "metadata": {
    "tags": []
   },
   "outputs": [],
   "source": [
    "def tokens_to_features(tokens, key_map):\n",
    "    feature = np.zeros(len(key_map))\n",
    "    for k in tokens:\n",
    "        if k in key_map:\n",
    "            feature[key_map[k]] = 1\n",
    "    return feature"
   ]
  },
  {
   "cell_type": "code",
   "execution_count": 38,
   "id": "b0a12de0",
   "metadata": {
    "tags": []
   },
   "outputs": [
    {
     "data": {
      "text/plain": [
       "array([0., 0., 0., 0., 0., 0., 0., 0., 0., 0., 0., 0., 1., 0., 0., 0., 0.,\n",
       "       0., 0., 0., 0., 0., 0., 0., 0., 0., 0., 0., 0., 0., 0., 0., 0., 0.,\n",
       "       0., 0., 0., 0., 0., 0., 0., 0., 0., 0., 0., 0., 0., 0., 0., 0., 0.,\n",
       "       0., 0., 0., 0., 0., 0., 0., 0., 0., 0., 0., 0., 0., 0., 0., 0., 0.,\n",
       "       0., 0., 0., 0., 0., 0., 0., 0., 0., 0., 0., 0., 0., 0., 0., 0., 0.,\n",
       "       0., 0., 0., 0., 0., 0., 0.])"
      ]
     },
     "execution_count": 38,
     "metadata": {},
     "output_type": "execute_result"
    }
   ],
   "source": [
    "tokens = train[1][\"tokens\"]\n",
    "\n",
    "tokens_to_features(tokens, key_map)"
   ]
  },
  {
   "cell_type": "markdown",
   "id": "819f430a",
   "metadata": {},
   "source": [
    "### location features\n",
    "Note that some of the location strings have issues."
   ]
  },
  {
   "cell_type": "code",
   "execution_count": 39,
   "id": "2ddb1801",
   "metadata": {
    "tags": []
   },
   "outputs": [
    {
     "data": {
      "text/plain": [
       "array(['Barcelona - Besòs - Maresme',\n",
       "       'Barcelona - Diagonal Mar i el Front Marítim del Poblenou',\n",
       "       'Barcelona - Dreta de l´Eixample',\n",
       "       'Barcelona - Dreta de l´Eixample\\nVer mapa',\n",
       "       'Barcelona - El Camp de l´Arpa del Clot', 'Barcelona - El Clot',\n",
       "       'Barcelona - El Parc i la Llacuna del Poblenou',\n",
       "       'Barcelona - Fort Pienc',\n",
       "       'Barcelona - La Nova Esquerra de l´Eixample',\n",
       "       'Barcelona - La Nova Esquerra de l´Eixample\\nVer mapa',\n",
       "       'Barcelona - La Vila Olímpica del Poblenou',\n",
       "       'Barcelona - L´Antiga Esquerra de l´Eixample', 'Barcelona - Navas',\n",
       "       'Barcelona - Poblenou', 'Barcelona - Poblenou\\nVer mapa',\n",
       "       'Barcelona - Provençals del Poblenou',\n",
       "       'Barcelona - Sagrada Família', 'Barcelona - Sant Antoni'],\n",
       "      dtype='<U56')"
      ]
     },
     "execution_count": 39,
     "metadata": {},
     "output_type": "execute_result"
    }
   ],
   "source": [
    "np.unique([d[\"loc_string\"] for d in train])"
   ]
  },
  {
   "cell_type": "code",
   "execution_count": 40,
   "id": "42d7e25e",
   "metadata": {
    "tags": []
   },
   "outputs": [
    {
     "data": {
      "text/plain": [
       "array(['Barcelona - Besòs - Maresme',\n",
       "       'Barcelona - Diagonal Mar i el Front Marítim del Poblenou',\n",
       "       'Barcelona - Dreta de l´Eixample',\n",
       "       'Barcelona - El Camp de l´Arpa del Clot', 'Barcelona - El Clot',\n",
       "       'Barcelona - El Parc i la Llacuna del Poblenou',\n",
       "       'Barcelona - Fort Pienc',\n",
       "       'Barcelona - La Nova Esquerra de l´Eixample',\n",
       "       'Barcelona - La Vila Olímpica del Poblenou',\n",
       "       'Barcelona - L´Antiga Esquerra de l´Eixample', 'Barcelona - Navas',\n",
       "       'Barcelona - Poblenou', 'Barcelona - Provençals del Poblenou',\n",
       "       'Barcelona - Sagrada Família', 'Barcelona - Sant Antoni'],\n",
       "      dtype='<U56')"
      ]
     },
     "execution_count": 40,
     "metadata": {},
     "output_type": "execute_result"
    }
   ],
   "source": [
    "## clean loc\n",
    "locations = np.unique([d[\"loc_string\"].split(\"\\n\")[0] for d in train])\n",
    "locations"
   ]
  },
  {
   "cell_type": "code",
   "execution_count": 41,
   "id": "31ae055a",
   "metadata": {
    "tags": []
   },
   "outputs": [
    {
     "data": {
      "text/plain": [
       "{'Barcelona - Besòs - Maresme': 0,\n",
       " 'Barcelona - Diagonal Mar i el Front Marítim del Poblenou': 1,\n",
       " 'Barcelona - Dreta de l´Eixample': 2,\n",
       " 'Barcelona - El Camp de l´Arpa del Clot': 3,\n",
       " 'Barcelona - El Clot': 4,\n",
       " 'Barcelona - El Parc i la Llacuna del Poblenou': 5,\n",
       " 'Barcelona - Fort Pienc': 6,\n",
       " 'Barcelona - La Nova Esquerra de l´Eixample': 7,\n",
       " 'Barcelona - La Vila Olímpica del Poblenou': 8,\n",
       " 'Barcelona - L´Antiga Esquerra de l´Eixample': 9,\n",
       " 'Barcelona - Navas': 10,\n",
       " 'Barcelona - Poblenou': 11,\n",
       " 'Barcelona - Provençals del Poblenou': 12,\n",
       " 'Barcelona - Sagrada Família': 13,\n",
       " 'Barcelona - Sant Antoni': 14}"
      ]
     },
     "execution_count": 41,
     "metadata": {},
     "output_type": "execute_result"
    }
   ],
   "source": [
    "loc_map = {v:k for k, v in enumerate(locations)}\n",
    "loc_map"
   ]
  },
  {
   "cell_type": "code",
   "execution_count": 42,
   "id": "729ca707",
   "metadata": {
    "tags": []
   },
   "outputs": [],
   "source": [
    "def loc_to_feature(loc, loc_map):\n",
    "    loc = loc.split(\"\\n\")[0]\n",
    "    return loc_map.get(loc, -1)"
   ]
  },
  {
   "cell_type": "code",
   "execution_count": 44,
   "id": "3f10aa63",
   "metadata": {
    "tags": []
   },
   "outputs": [
    {
     "data": {
      "text/plain": [
       "-1"
      ]
     },
     "execution_count": 44,
     "metadata": {},
     "output_type": "execute_result"
    }
   ],
   "source": [
    "loc_to_feature(\"Other\", loc_map)"
   ]
  },
  {
   "cell_type": "code",
   "execution_count": 43,
   "id": "e142a358",
   "metadata": {
    "tags": []
   },
   "outputs": [
    {
     "data": {
      "text/plain": [
       "7"
      ]
     },
     "execution_count": 43,
     "metadata": {},
     "output_type": "execute_result"
    }
   ],
   "source": [
    "loc_to_feature('Barcelona - La Nova Esquerra de l´Eixample\\nVer mapa', loc_map)"
   ]
  },
  {
   "cell_type": "code",
   "execution_count": 44,
   "id": "03704d83",
   "metadata": {
    "tags": []
   },
   "outputs": [
    {
     "data": {
      "text/plain": [
       "'450.000 €'"
      ]
     },
     "execution_count": 44,
     "metadata": {},
     "output_type": "execute_result"
    }
   ],
   "source": [
    "train[0][\"price\"]"
   ]
  },
  {
   "cell_type": "code",
   "execution_count": 45,
   "id": "d2b200e7",
   "metadata": {
    "tags": []
   },
   "outputs": [],
   "source": [
    "def features_to_features(features, price):\n",
    "    m2 = int(features[0].replace(\" m2\", \"\"))\n",
    "    bedrooms = int(features[1].replace(\" hab.\", \"\"))\n",
    "    bathrooms = int(features[2].replace(\" baños\", \"\").replace(\" baño\", \"\"))\n",
    "    price = float(price.replace(\" €\", \"\"))\n",
    "    return np.array([m2, bedrooms, bathrooms, price])"
   ]
  },
  {
   "cell_type": "code",
   "execution_count": 46,
   "id": "452c6ee4",
   "metadata": {
    "tags": []
   },
   "outputs": [
    {
     "data": {
      "text/plain": [
       "array([106.,   4.,   2., 450.])"
      ]
     },
     "execution_count": 46,
     "metadata": {},
     "output_type": "execute_result"
    }
   ],
   "source": [
    "features_to_features(train[0][\"features\"], train[0][\"price\"])"
   ]
  },
  {
   "cell_type": "code",
   "execution_count": 47,
   "id": "c0d80a0c",
   "metadata": {
    "tags": []
   },
   "outputs": [
    {
     "data": {
      "text/plain": [
       "Counter({'SECOND_HAND': 689})"
      ]
     },
     "execution_count": 47,
     "metadata": {},
     "output_type": "execute_result"
    }
   ],
   "source": [
    "# not very useful\n",
    "from collections import Counter\n",
    "Counter([d['selltype'] for d in train])"
   ]
  },
  {
   "cell_type": "code",
   "execution_count": 48,
   "id": "7ed49183",
   "metadata": {
    "tags": []
   },
   "outputs": [],
   "source": [
    "def all_features(d, key_map, loc_map):\n",
    "    fea = []\n",
    "    fea.append(tokens_to_features(d[\"tokens\"], key_map))\n",
    "    fea.append([loc_to_feature(d[\"loc_string\"], loc_map)])\n",
    "    fea.append(features_to_features(d[\"features\"], d[\"price\"]))\n",
    "    return np.concatenate(fea)"
   ]
  },
  {
   "cell_type": "code",
   "execution_count": 49,
   "id": "6471f820",
   "metadata": {
    "tags": []
   },
   "outputs": [],
   "source": [
    "header = np.array(keywords + [\"loc\", \"size\", \"bedrooms\", \"bathrooms\", \"price\"])"
   ]
  },
  {
   "cell_type": "code",
   "execution_count": 50,
   "id": "eaa3048c",
   "metadata": {
    "tags": []
   },
   "outputs": [],
   "source": [
    "fea = all_features(train[0], key_map, loc_map)"
   ]
  },
  {
   "cell_type": "code",
   "execution_count": 51,
   "id": "cf11652f",
   "metadata": {
    "tags": []
   },
   "outputs": [],
   "source": [
    "train_features = np.stack([all_features(d, key_map, loc_map) for d in train])"
   ]
  },
  {
   "cell_type": "code",
   "execution_count": 52,
   "id": "5e975fe3",
   "metadata": {
    "tags": []
   },
   "outputs": [],
   "source": [
    "test_features = np.stack([all_features(d, key_map, loc_map) for d in test])"
   ]
  },
  {
   "cell_type": "code",
   "execution_count": 53,
   "id": "c28fae36",
   "metadata": {
    "tags": []
   },
   "outputs": [
    {
     "data": {
      "text/plain": [
       "97"
      ]
     },
     "execution_count": 53,
     "metadata": {},
     "output_type": "execute_result"
    }
   ],
   "source": [
    "len(header)"
   ]
  },
  {
   "cell_type": "code",
   "execution_count": 54,
   "id": "bafb2986",
   "metadata": {
    "tags": []
   },
   "outputs": [
    {
     "data": {
      "text/html": [
       "<div>\n",
       "<style scoped>\n",
       "    .dataframe tbody tr th:only-of-type {\n",
       "        vertical-align: middle;\n",
       "    }\n",
       "\n",
       "    .dataframe tbody tr th {\n",
       "        vertical-align: top;\n",
       "    }\n",
       "\n",
       "    .dataframe thead th {\n",
       "        text-align: right;\n",
       "    }\n",
       "</style>\n",
       "<table border=\"1\" class=\"dataframe\">\n",
       "  <thead>\n",
       "    <tr style=\"text-align: right;\">\n",
       "      <th></th>\n",
       "      <th>profesional</th>\n",
       "      <th>central</th>\n",
       "      <th>parking</th>\n",
       "      <th>precioso</th>\n",
       "      <th>gratuita</th>\n",
       "      <th>baños</th>\n",
       "      <th>departamento</th>\n",
       "      <th>deseas</th>\n",
       "      <th>hipotecario</th>\n",
       "      <th>directo</th>\n",
       "      <th>...</th>\n",
       "      <th>llave</th>\n",
       "      <th>blanco</th>\n",
       "      <th>comercio</th>\n",
       "      <th>vas</th>\n",
       "      <th>dan</th>\n",
       "      <th>loc</th>\n",
       "      <th>size</th>\n",
       "      <th>bedrooms</th>\n",
       "      <th>bathrooms</th>\n",
       "      <th>price</th>\n",
       "    </tr>\n",
       "  </thead>\n",
       "  <tbody>\n",
       "    <tr>\n",
       "      <th>0</th>\n",
       "      <td>1.0</td>\n",
       "      <td>1.0</td>\n",
       "      <td>1.0</td>\n",
       "      <td>1.0</td>\n",
       "      <td>1.0</td>\n",
       "      <td>1.0</td>\n",
       "      <td>1.0</td>\n",
       "      <td>1.0</td>\n",
       "      <td>1.0</td>\n",
       "      <td>1.0</td>\n",
       "      <td>...</td>\n",
       "      <td>0.0</td>\n",
       "      <td>0.0</td>\n",
       "      <td>0.0</td>\n",
       "      <td>0.0</td>\n",
       "      <td>0.0</td>\n",
       "      <td>10.0</td>\n",
       "      <td>106.0</td>\n",
       "      <td>4.0</td>\n",
       "      <td>2.0</td>\n",
       "      <td>450.0</td>\n",
       "    </tr>\n",
       "    <tr>\n",
       "      <th>1</th>\n",
       "      <td>0.0</td>\n",
       "      <td>0.0</td>\n",
       "      <td>0.0</td>\n",
       "      <td>0.0</td>\n",
       "      <td>0.0</td>\n",
       "      <td>0.0</td>\n",
       "      <td>0.0</td>\n",
       "      <td>0.0</td>\n",
       "      <td>0.0</td>\n",
       "      <td>0.0</td>\n",
       "      <td>...</td>\n",
       "      <td>0.0</td>\n",
       "      <td>0.0</td>\n",
       "      <td>0.0</td>\n",
       "      <td>0.0</td>\n",
       "      <td>0.0</td>\n",
       "      <td>13.0</td>\n",
       "      <td>75.0</td>\n",
       "      <td>2.0</td>\n",
       "      <td>2.0</td>\n",
       "      <td>230.0</td>\n",
       "    </tr>\n",
       "    <tr>\n",
       "      <th>2</th>\n",
       "      <td>0.0</td>\n",
       "      <td>0.0</td>\n",
       "      <td>0.0</td>\n",
       "      <td>0.0</td>\n",
       "      <td>0.0</td>\n",
       "      <td>0.0</td>\n",
       "      <td>0.0</td>\n",
       "      <td>0.0</td>\n",
       "      <td>0.0</td>\n",
       "      <td>0.0</td>\n",
       "      <td>...</td>\n",
       "      <td>0.0</td>\n",
       "      <td>0.0</td>\n",
       "      <td>0.0</td>\n",
       "      <td>0.0</td>\n",
       "      <td>0.0</td>\n",
       "      <td>9.0</td>\n",
       "      <td>52.0</td>\n",
       "      <td>2.0</td>\n",
       "      <td>1.0</td>\n",
       "      <td>340.0</td>\n",
       "    </tr>\n",
       "    <tr>\n",
       "      <th>3</th>\n",
       "      <td>1.0</td>\n",
       "      <td>0.0</td>\n",
       "      <td>0.0</td>\n",
       "      <td>0.0</td>\n",
       "      <td>1.0</td>\n",
       "      <td>0.0</td>\n",
       "      <td>1.0</td>\n",
       "      <td>1.0</td>\n",
       "      <td>1.0</td>\n",
       "      <td>0.0</td>\n",
       "      <td>...</td>\n",
       "      <td>0.0</td>\n",
       "      <td>0.0</td>\n",
       "      <td>0.0</td>\n",
       "      <td>0.0</td>\n",
       "      <td>0.0</td>\n",
       "      <td>2.0</td>\n",
       "      <td>60.0</td>\n",
       "      <td>1.0</td>\n",
       "      <td>1.0</td>\n",
       "      <td>213.0</td>\n",
       "    </tr>\n",
       "    <tr>\n",
       "      <th>4</th>\n",
       "      <td>0.0</td>\n",
       "      <td>0.0</td>\n",
       "      <td>0.0</td>\n",
       "      <td>0.0</td>\n",
       "      <td>0.0</td>\n",
       "      <td>1.0</td>\n",
       "      <td>0.0</td>\n",
       "      <td>0.0</td>\n",
       "      <td>0.0</td>\n",
       "      <td>0.0</td>\n",
       "      <td>...</td>\n",
       "      <td>0.0</td>\n",
       "      <td>0.0</td>\n",
       "      <td>0.0</td>\n",
       "      <td>0.0</td>\n",
       "      <td>0.0</td>\n",
       "      <td>7.0</td>\n",
       "      <td>75.0</td>\n",
       "      <td>2.0</td>\n",
       "      <td>2.0</td>\n",
       "      <td>420.0</td>\n",
       "    </tr>\n",
       "  </tbody>\n",
       "</table>\n",
       "<p>5 rows × 97 columns</p>\n",
       "</div>"
      ],
      "text/plain": [
       "   profesional  central  parking  precioso  gratuita  baños  departamento  \\\n",
       "0          1.0      1.0      1.0       1.0       1.0    1.0           1.0   \n",
       "1          0.0      0.0      0.0       0.0       0.0    0.0           0.0   \n",
       "2          0.0      0.0      0.0       0.0       0.0    0.0           0.0   \n",
       "3          1.0      0.0      0.0       0.0       1.0    0.0           1.0   \n",
       "4          0.0      0.0      0.0       0.0       0.0    1.0           0.0   \n",
       "\n",
       "   deseas  hipotecario  directo  ...  llave  blanco  comercio  vas  dan   loc  \\\n",
       "0     1.0          1.0      1.0  ...    0.0     0.0       0.0  0.0  0.0  10.0   \n",
       "1     0.0          0.0      0.0  ...    0.0     0.0       0.0  0.0  0.0  13.0   \n",
       "2     0.0          0.0      0.0  ...    0.0     0.0       0.0  0.0  0.0   9.0   \n",
       "3     1.0          1.0      0.0  ...    0.0     0.0       0.0  0.0  0.0   2.0   \n",
       "4     0.0          0.0      0.0  ...    0.0     0.0       0.0  0.0  0.0   7.0   \n",
       "\n",
       "    size  bedrooms  bathrooms  price  \n",
       "0  106.0       4.0        2.0  450.0  \n",
       "1   75.0       2.0        2.0  230.0  \n",
       "2   52.0       2.0        1.0  340.0  \n",
       "3   60.0       1.0        1.0  213.0  \n",
       "4   75.0       2.0        2.0  420.0  \n",
       "\n",
       "[5 rows x 97 columns]"
      ]
     },
     "execution_count": 54,
     "metadata": {},
     "output_type": "execute_result"
    }
   ],
   "source": [
    "df_train = pd.DataFrame(train_features, columns=header)\n",
    "df_train.head()"
   ]
  },
  {
   "cell_type": "code",
   "execution_count": 82,
   "id": "22c4162e",
   "metadata": {
    "tags": []
   },
   "outputs": [],
   "source": [
    "df_test = pd.DataFrame(test_features, columns=header)"
   ]
  },
  {
   "cell_type": "code",
   "execution_count": 83,
   "id": "e8d4f26e",
   "metadata": {
    "tags": []
   },
   "outputs": [],
   "source": [
    "df_train.to_csv(\"houses_for_sale_train.csv\",index=False)\n",
    "df_test.to_csv(\"houses_for_sale_test.csv\",index=False)"
   ]
  },
  {
   "cell_type": "markdown",
   "id": "028d2252-c2fd-423e-9dde-e6a36f6f29d0",
   "metadata": {},
   "source": [
    "### Exercise: \n",
    "There are many ways to do selecting the words to include in you model (feature selection). Implement the following strategies. Create new data frame based on these new text features.\n",
    "1. Term Frequency (TF): Calculate the frequency of each word in the corpus and select the top-N words with the highest TF values. This can be a simple way to start feature selection.\n",
    "2. Inverse Document Frequency (IDF): Calculate the IDF for each word to measure how unique and informative it is across the entire corpus. Select words with high IDF scores.\n",
    "3. Correlation Coefficient: Compute the correlation coefficient between the presence/absence of each word and the continuous labels. Words with high absolute correlation values may be good features.\n",
    "\n",
    "If you have time, you can use the tfidf score instead of 0,1 for each feature."
   ]
  },
  {
   "cell_type": "code",
   "execution_count": 88,
   "id": "3def1c76-29c4-4af9-a918-a33599b31cde",
   "metadata": {
    "tags": []
   },
   "outputs": [
    {
     "data": {
      "text/plain": [
       "array(['oportunidad', 'piso', 'situado', 'muy', 'cercano', 'tipo',\n",
       "       'comercios', 'hospital', 'colegios', 'muy', 'bien', 'comunicado',\n",
       "       'línea', 'línea', 'parada', 'líneas', 'autobuses', 'vivienda',\n",
       "       'consta', 'distribuidos', 'baño', 'ducha', 'cocina',\n",
       "       'independiente', 'comedor', 'piso', 'perfecto', 'actualizar',\n",
       "       'suelos', 'gres', 'finca', 'dispone', 'ascensor', 'tercero',\n",
       "       'real', 'altura', 'año', 'gastos', 'honorarios', 'agencia', 'no',\n",
       "       'incluidos', 'precio'], dtype='<U13')"
      ]
     },
     "execution_count": 88,
     "metadata": {},
     "output_type": "execute_result"
    }
   ],
   "source": [
    "# use the train set to compute your list of features\n",
    "np.array(train[0][\"tokens\"])"
   ]
  },
  {
   "cell_type": "code",
   "execution_count": null,
   "id": "2bd32aac-46b2-40bb-b799-f67ec8271ae8",
   "metadata": {},
   "outputs": [],
   "source": []
  }
 ],
 "metadata": {
  "kernelspec": {
   "display_name": "Python 3 (ipykernel)",
   "language": "python",
   "name": "python3"
  },
  "language_info": {
   "codemirror_mode": {
    "name": "ipython",
    "version": 3
   },
   "file_extension": ".py",
   "mimetype": "text/x-python",
   "name": "python",
   "nbconvert_exporter": "python",
   "pygments_lexer": "ipython3",
   "version": "3.11.4"
  }
 },
 "nbformat": 4,
 "nbformat_minor": 5
}
