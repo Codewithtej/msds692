{
 "cells": [
  {
   "cell_type": "code",
   "execution_count": 38,
   "id": "d91d87ef",
   "metadata": {
    "tags": []
   },
   "outputs": [],
   "source": [
    "from pathlib import Path\n",
    "import numpy as np\n",
    "import pandas as pd\n",
    "import pickle\n",
    "from os.path import expanduser\n",
    "from collections import Counter"
   ]
  },
  {
   "cell_type": "code",
   "execution_count": 2,
   "id": "a5af7999",
   "metadata": {
    "tags": []
   },
   "outputs": [],
   "source": [
    "import re"
   ]
  },
  {
   "cell_type": "code",
   "execution_count": 3,
   "id": "9ff578ee",
   "metadata": {
    "tags": []
   },
   "outputs": [],
   "source": [
    "filename = expanduser(\"~/data/houses_for_sale.pickle\")\n",
    "with open(filename,'rb') as f:\n",
    "    data = pickle.load(f, encoding='utf-8')"
   ]
  },
  {
   "cell_type": "markdown",
   "id": "f130461b-9348-409a-8569-0d2ee9d30388",
   "metadata": {},
   "source": [
    "This dataset was acquired by scraping a website that compiles property listings available for sale in Spain. Our objective is to leverage this data to gain insights into properties that offer a favorable value proposition for potential buyers.\n",
    "\n",
    "One approach to achieve this is by training a model that can predict the asking price based on various \"features\" associated with each property listing. We intend to employ models that take a numerical feature vector as input to estimate the price. However, there are several data quality issues that need to be addressed before we can even begin creating features for this dataset:\n",
    "\n",
    "1. Remove listings that advertise multiple units for sale.\n",
    "2. Fix the \"number of bedrooms\" in some listings.\n",
    "3. Generate relevant features from textual information."
   ]
  },
  {
   "cell_type": "code",
   "execution_count": 6,
   "id": "fe94cedd",
   "metadata": {
    "tags": []
   },
   "outputs": [
    {
     "data": {
      "text/plain": [
       "913"
      ]
     },
     "execution_count": 6,
     "metadata": {},
     "output_type": "execute_result"
    }
   ],
   "source": [
    "len(data)"
   ]
  },
  {
   "cell_type": "code",
   "execution_count": 7,
   "id": "d8d9c623-3370-4af2-8058-188da0d90d12",
   "metadata": {
    "tags": []
   },
   "outputs": [
    {
     "data": {
      "text/plain": [
       "{'price': '320.000 €',\n",
       " 'title': 'Piso Tallers. Piso con 2 habitaciones con ascensor',\n",
       " 'loc_string': 'Barcelona - Sant Antoni',\n",
       " 'loc': None,\n",
       " 'features': ['85 m2', '2 hab.', '1 baño', '3.647 €/m2'],\n",
       " 'type': 'FLAT',\n",
       " 'subtype': 'FLAT',\n",
       " 'selltype': 'SECOND_HAND',\n",
       " 'desc': 'Piso en última planta a reformar en calle Tallers junto a plaza Universitat.\\n\\nLa propiedad ofrece muchas posibilidades para personalizarla según sus necesidades, ya que todas las paredes son tabiques.\\n\\nLa distribución actual cuenta con salón comedor amplio, cocina, dos habitaciones dobles exteriores, dos habitaciones interiores, baño y despensa/trastero. Balcones a ambos lados de la vivienda, uno a patio de manzana y los otros dos a carrer Tallers. Suelos originales.\\n\\nFinca del 1882 con ascensor.\\n\\nCalle peatonal con encanto en el centro de Barcelona, rodeada de todo tipo de comercios y servicios. Buenas comunicaciones mediante transportes publicos, metro, autobuses y FFCC.'}"
      ]
     },
     "execution_count": 7,
     "metadata": {},
     "output_type": "execute_result"
    }
   ],
   "source": [
    "# data is a list of dictionaries\n",
    "data[0]"
   ]
  },
  {
   "cell_type": "markdown",
   "id": "a5c4976f",
   "metadata": {},
   "source": [
    "## Removing ads from multiple units\n",
    "If features[0] starts with \"desde\" it means that the ad is advertising multiple units. See for example this add in which the price is None and features start with \"desde\"."
   ]
  },
  {
   "cell_type": "code",
   "execution_count": 12,
   "id": "2586ddce-7ca9-4735-92a7-db5aa3dd50c3",
   "metadata": {
    "tags": []
   },
   "outputs": [],
   "source": [
    "#data[10]"
   ]
  },
  {
   "cell_type": "code",
   "execution_count": 13,
   "id": "edd3ce79",
   "metadata": {
    "tags": []
   },
   "outputs": [],
   "source": [
    "data[10]['price']"
   ]
  },
  {
   "cell_type": "code",
   "execution_count": 14,
   "id": "0d50433d-31b3-493c-a18f-66166b0f26aa",
   "metadata": {
    "tags": []
   },
   "outputs": [
    {
     "data": {
      "text/plain": [
       "['desde 70 m2', '15.785,71 €/m2']"
      ]
     },
     "execution_count": 14,
     "metadata": {},
     "output_type": "execute_result"
    }
   ],
   "source": [
    "data[10]['features']"
   ]
  },
  {
   "cell_type": "code",
   "execution_count": 15,
   "id": "6630395d",
   "metadata": {
    "tags": []
   },
   "outputs": [
    {
     "data": {
      "text/plain": [
       "(True, False)"
      ]
     },
     "execution_count": 15,
     "metadata": {},
     "output_type": "execute_result"
    }
   ],
   "source": [
    " bool(re.match(\"^desde\", 'desde 70 m2')),  bool(re.match(\"^desde\", '70 m2'))"
   ]
  },
  {
   "cell_type": "code",
   "execution_count": 16,
   "id": "db2a9c44",
   "metadata": {
    "tags": []
   },
   "outputs": [],
   "source": [
    "data_v1 = [] \n",
    "for i, d in enumerate(data):\n",
    "    features = d[\"features\"]\n",
    "    if bool(re.match(\"^desde\", features[0])) == False:\n",
    "        if bool(re.search(\"\\d+ m2\", features[0])) == True:\n",
    "            data_v1.append(d)"
   ]
  },
  {
   "cell_type": "code",
   "execution_count": 21,
   "id": "1ce8e1d3-eba4-4ef9-8c47-f4fff4b75b8c",
   "metadata": {
    "tags": []
   },
   "outputs": [],
   "source": [
    "def saving_versions(data, version):\n",
    "    filename = expanduser(\"~/data\")\n",
    "    filename +=  \"houses_for_sale_train_{}.pickle\".format(version)\n",
    "    file = open(filename, 'wb')\n",
    "    pickle.dump(data, file)\n",
    "    file.close()\n",
    "    print(filename)\n",
    "    \n",
    "def load_versions(version):\n",
    "    filename = expanduser(\"~/data\")\n",
    "    filename += \"houses_for_sale_train_{}.pickle\".format(version)\n",
    "    with open(filename,'rb') as f:\n",
    "        data = pickle.load(f, encoding='utf-8')\n",
    "    return data"
   ]
  },
  {
   "cell_type": "code",
   "execution_count": 19,
   "id": "a2020dd7",
   "metadata": {
    "tags": []
   },
   "outputs": [
    {
     "name": "stdout",
     "output_type": "stream",
     "text": [
      "/Users/yinterian/datahouses_for_sale_train_v1.pickle\n"
     ]
    },
    {
     "data": {
      "text/plain": [
       "866"
      ]
     },
     "execution_count": 19,
     "metadata": {},
     "output_type": "execute_result"
    }
   ],
   "source": [
    "# saving the new version of the data\n",
    "saving_versions(data_v1, \"v1\")\n",
    "len(data_v1)"
   ]
  },
  {
   "cell_type": "markdown",
   "id": "c04d812b",
   "metadata": {},
   "source": [
    "### Checking number of rooms feature\n",
    "and fixing issues"
   ]
  },
  {
   "cell_type": "code",
   "execution_count": 22,
   "id": "159844d4",
   "metadata": {
    "tags": []
   },
   "outputs": [
    {
     "data": {
      "text/plain": [
       "866"
      ]
     },
     "execution_count": 22,
     "metadata": {},
     "output_type": "execute_result"
    }
   ],
   "source": [
    "data_v1 = load_versions(\"v1\")\n",
    "len(data_v1)"
   ]
  },
  {
   "cell_type": "code",
   "execution_count": 24,
   "id": "bf4c5a5f-64b1-4837-8261-8cf61e1ba3ea",
   "metadata": {
    "tags": []
   },
   "outputs": [
    {
     "data": {
      "text/plain": [
       "[['85 m2', '2 hab.', '1 baño', '3.647 €/m2'],\n",
       " ['65 m2', '2 hab.', '1 baño', '5.000 €/m2'],\n",
       " ['77 m2', '2 hab.', '1 baño', '4.286 €/m2'],\n",
       " ['96 m2', '3 hab.', '2 baños', '4.531 €/m2'],\n",
       " ['84 m2', '2 hab.', '1 baño', '4.881 €/m2'],\n",
       " ['91 m2', '4 hab.', '2 baños', '4.780 €/m2'],\n",
       " ['96 m2', '2 hab.', '2 baños', '4.271 €/m2'],\n",
       " ['76 m2', '2 hab.', '1 baño', '4.605 €/m2'],\n",
       " ['103 m2', '3 hab.', '2 baños', '4.223 €/m2'],\n",
       " ['82 m2', '3 hab.', '1 baño', '2.988 €/m2']]"
      ]
     },
     "execution_count": 24,
     "metadata": {},
     "output_type": "execute_result"
    }
   ],
   "source": [
    "[d[\"features\"] for d in data_v1[:10]]"
   ]
  },
  {
   "cell_type": "code",
   "execution_count": 23,
   "id": "70706c62",
   "metadata": {
    "tags": []
   },
   "outputs": [
    {
     "data": {
      "text/plain": [
       "True"
      ]
     },
     "execution_count": 23,
     "metadata": {},
     "output_type": "execute_result"
    }
   ],
   "source": [
    "bool(re.match(\"\\d hab\", '3 hab.'))"
   ]
  },
  {
   "cell_type": "code",
   "execution_count": 25,
   "id": "0841bed2",
   "metadata": {
    "tags": []
   },
   "outputs": [
    {
     "name": "stdout",
     "output_type": "stream",
     "text": [
      "137 ['45 m2', '1 baño', '5.689 €/m2']\n",
      "186 ['113 m2', '4 baños', '2.389 €/m2']\n",
      "192 ['93 m2', '1 baño', '3.215 €/m2']\n",
      "503 ['54 m2', '1 baño', '6.944 €/m2']\n",
      "537 ['93 m2', '1 baño', '2.151 €/m2']\n",
      "574 ['102 m2', '1 baño', '3.431 €/m2']\n",
      "729 ['82 m2', '22 hab.', '1 baño', '4.268 €/m2']\n",
      "766 ['52 m2', '3.442 €/m2']\n"
     ]
    }
   ],
   "source": [
    "# listing without number of rooms\n",
    "inds = []\n",
    "for i, d in enumerate(data_v1):\n",
    "    features = d[\"features\"]\n",
    "    if not bool(re.match(\"\\d hab\", features[1])):\n",
    "        print(i, features)\n",
    "        inds.append(i)"
   ]
  },
  {
   "cell_type": "code",
   "execution_count": 26,
   "id": "3fde0f65",
   "metadata": {
    "tags": []
   },
   "outputs": [
    {
     "data": {
      "text/plain": [
       "[137, 186, 192, 503, 537, 574, 729, 766]"
      ]
     },
     "execution_count": 26,
     "metadata": {},
     "output_type": "execute_result"
    }
   ],
   "source": [
    "inds"
   ]
  },
  {
   "cell_type": "code",
   "execution_count": 27,
   "id": "6b2b288a",
   "metadata": {
    "tags": []
   },
   "outputs": [],
   "source": [
    "def get_new_feature(fea):\n",
    "    return [fea[0], \"0 hab.\", fea[1], fea[-1]]"
   ]
  },
  {
   "cell_type": "code",
   "execution_count": 29,
   "id": "471b82de",
   "metadata": {
    "tags": []
   },
   "outputs": [
    {
     "data": {
      "text/plain": [
       "['45 m2', '0 hab.', '1 baño', '5.689 €/m2']"
      ]
     },
     "execution_count": 29,
     "metadata": {},
     "output_type": "execute_result"
    }
   ],
   "source": [
    "# let's add \"0 hab.\" This is most likely a studio\n",
    "get_new_feature(['45 m2', '1 baño', '5.689 €/m2'])"
   ]
  },
  {
   "cell_type": "code",
   "execution_count": 30,
   "id": "7e08fe32",
   "metadata": {
    "tags": []
   },
   "outputs": [],
   "source": [
    "data_v2 = []\n",
    "for i, d in enumerate(data_v1):\n",
    "    features = d[\"features\"]\n",
    "    if not bool(re.match(\"\\d hab\", features[1])):\n",
    "        if len(features) == 3:\n",
    "            features = get_new_feature(features)\n",
    "            d[\"features\"] = features\n",
    "    if len(features) == 4:\n",
    "        data_v2.append(d)"
   ]
  },
  {
   "cell_type": "code",
   "execution_count": 31,
   "id": "41b7275d",
   "metadata": {
    "tags": []
   },
   "outputs": [
    {
     "name": "stdout",
     "output_type": "stream",
     "text": [
      "/Users/yinterian/datahouses_for_sale_train_v2.pickle\n"
     ]
    },
    {
     "data": {
      "text/plain": [
       "862"
      ]
     },
     "execution_count": 31,
     "metadata": {},
     "output_type": "execute_result"
    }
   ],
   "source": [
    "saving_versions(data_v2, \"v2\")\n",
    "len(data_v2)"
   ]
  },
  {
   "cell_type": "code",
   "execution_count": 32,
   "id": "bef5a292",
   "metadata": {
    "tags": []
   },
   "outputs": [
    {
     "data": {
      "text/plain": [
       "True"
      ]
     },
     "execution_count": 32,
     "metadata": {},
     "output_type": "execute_result"
    }
   ],
   "source": [
    "bool(re.match(\"\\d baño\", '1 baño'))"
   ]
  },
  {
   "cell_type": "code",
   "execution_count": 35,
   "id": "5f9f1fbb",
   "metadata": {
    "tags": []
   },
   "outputs": [],
   "source": [
    "# checking for bathrooms\n",
    "for i, d in enumerate(data_v2):\n",
    "    features = d[\"features\"]\n",
    "    if not bool(re.match(\"\\d baño\", features[2])):\n",
    "        print(i, features)"
   ]
  },
  {
   "cell_type": "code",
   "execution_count": 36,
   "id": "61c0f191",
   "metadata": {
    "tags": []
   },
   "outputs": [],
   "source": [
    "# checking the price\n",
    "for i, d in enumerate(data_v2):\n",
    "    if not bool(re.match(\"\\d+\\.\\d+ €\", d[\"price\"])):\n",
    "        print(i, features)"
   ]
  },
  {
   "cell_type": "markdown",
   "id": "d5d4e7d9-ac04-412d-9cd1-93ea84fbbc12",
   "metadata": {},
   "source": [
    "### Exercise: \n",
    "Explore features, 'subtype', 'selltype'. Do you think they would be usedful to our model?  "
   ]
  },
  {
   "cell_type": "markdown",
   "id": "d4ea10d5",
   "metadata": {},
   "source": [
    "### Finding features in descriptions\n",
    "Let's tokenize the descriptions and compute in how many documents each word apeards.\n",
    "\n",
    "`pip install -U pip setuptools wheel` <br>\n",
    "`pip install -U spacy` <br>\n",
    "`python -m spacy download en_core_web_sm` <br>\n",
    "`python -m spacy download es_core_news_sm`<br>"
   ]
  },
  {
   "cell_type": "code",
   "execution_count": 42,
   "id": "3d3d5012",
   "metadata": {
    "tags": []
   },
   "outputs": [],
   "source": [
    "import spacy\n",
    "nlp = spacy.load(\"es_core_news_sm\")"
   ]
  },
  {
   "cell_type": "code",
   "execution_count": 43,
   "id": "83b8926e",
   "metadata": {
    "tags": []
   },
   "outputs": [
    {
     "data": {
      "text/plain": [
       "'Piso en última planta a reformar en calle Tallers junto a plaza Universitat.\\n\\nLa propiedad ofrece muchas posibilidades para personalizarla según sus necesidades, ya que todas las paredes son tabiques.\\n\\nLa distribución actual cuenta con salón comedor amplio, cocina, dos habitaciones dobles exteriores, dos habitaciones interiores, baño y despensa/trastero. Balcones a ambos lados de la vivienda, uno a patio de manzana y los otros dos a carrer Tallers. Suelos originales.\\n\\nFinca del 1882 con ascensor.\\n\\nCalle peatonal con encanto en el centro de Barcelona, rodeada de todo tipo de comercios y servicios. Buenas comunicaciones mediante transportes publicos, metro, autobuses y FFCC.'"
      ]
     },
     "execution_count": 43,
     "metadata": {},
     "output_type": "execute_result"
    }
   ],
   "source": [
    "text = data_v2[0][\"desc\"]\n",
    "text"
   ]
  },
  {
   "cell_type": "code",
   "execution_count": 45,
   "id": "137fb390",
   "metadata": {
    "tags": []
   },
   "outputs": [
    {
     "name": "stdout",
     "output_type": "stream",
     "text": [
      ". PUNCT\n",
      "Balcones NOUN\n",
      "a ADP\n",
      "ambos NUM\n",
      "lados NOUN\n",
      "de ADP\n",
      "la DET\n",
      "vivienda NOUN\n",
      ", PUNCT\n",
      "uno PRON\n",
      "a ADP\n",
      "patio NOUN\n",
      "de ADP\n",
      "manzana NOUN\n",
      "y CCONJ\n",
      "los DET\n",
      "otros DET\n",
      "dos NUM\n",
      "a ADP\n",
      "carrer VERB\n"
     ]
    }
   ],
   "source": [
    "# tokenizing with spacy, you get part of speech (POS) for free\n",
    "doc = nlp(text)\n",
    "for token in doc[60:80]:\n",
    "    print(token.text, token.pos_)"
   ]
  },
  {
   "cell_type": "code",
   "execution_count": 47,
   "id": "5b7383b6",
   "metadata": {
    "tags": []
   },
   "outputs": [],
   "source": [
    "# you can filter using POS\n",
    "def clean_text(text):\n",
    "    doc = nlp(text)\n",
    "    tokens = [token.text.lower() for token in doc if token.pos_ in [\"VERB\", \"NOUN\", \"ADJ\", \"ADV\"]]\n",
    "    return tokens"
   ]
  },
  {
   "cell_type": "code",
   "execution_count": 48,
   "id": "244d6583",
   "metadata": {
    "tags": []
   },
   "outputs": [
    {
     "data": {
      "text/plain": [
       "['piso',\n",
       " 'última',\n",
       " 'planta',\n",
       " 'reformar',\n",
       " 'calle',\n",
       " 'junto',\n",
       " 'propiedad',\n",
       " 'ofrece',\n",
       " 'posibilidades',\n",
       " 'personalizarla']"
      ]
     },
     "execution_count": 48,
     "metadata": {},
     "output_type": "execute_result"
    }
   ],
   "source": [
    "clean_text(text)[:10]"
   ]
  },
  {
   "cell_type": "code",
   "execution_count": 49,
   "id": "6997383b",
   "metadata": {
    "tags": []
   },
   "outputs": [],
   "source": [
    "### Cleaning text\n",
    "for d in data_v2:\n",
    "    main_tokens = clean_text(d[\"desc\"])\n",
    "    d[\"tokens\"] = main_tokens"
   ]
  },
  {
   "cell_type": "code",
   "execution_count": 50,
   "id": "458d098c",
   "metadata": {
    "tags": []
   },
   "outputs": [
    {
     "name": "stdout",
     "output_type": "stream",
     "text": [
      "/Users/yinterian/datahouses_for_sale_train_v2.pickle\n"
     ]
    },
    {
     "data": {
      "text/plain": [
       "862"
      ]
     },
     "execution_count": 50,
     "metadata": {},
     "output_type": "execute_result"
    }
   ],
   "source": [
    "saving_versions(data_v2, \"v2\")\n",
    "len(data_v2)"
   ]
  },
  {
   "cell_type": "code",
   "execution_count": 51,
   "id": "450b5644",
   "metadata": {
    "tags": []
   },
   "outputs": [
    {
     "data": {
      "text/plain": [
       "862"
      ]
     },
     "execution_count": 51,
     "metadata": {},
     "output_type": "execute_result"
    }
   ],
   "source": [
    "data_v2 = load_versions(\"v2\")\n",
    "len(data_v2)"
   ]
  },
  {
   "cell_type": "markdown",
   "id": "c07f61ac",
   "metadata": {},
   "source": [
    "### Splitting into training and testing\n",
    "Training data is used to train the model Testing data is used to measure the preformance of the model."
   ]
  },
  {
   "cell_type": "code",
   "execution_count": 52,
   "id": "3dd8735a",
   "metadata": {
    "tags": []
   },
   "outputs": [
    {
     "name": "stdout",
     "output_type": "stream",
     "text": [
      "689\n"
     ]
    },
    {
     "data": {
      "text/plain": [
       "(689, 173)"
      ]
     },
     "execution_count": 52,
     "metadata": {},
     "output_type": "execute_result"
    }
   ],
   "source": [
    "import random\n",
    "random.shuffle(data_v2)\n",
    "\n",
    "N = int(len(data_v2)*.8)\n",
    "print(N)\n",
    "\n",
    "train = data_v2[:N] \n",
    "test = data_v2[N:]\n",
    "\n",
    "len(train), len(test)"
   ]
  },
  {
   "cell_type": "markdown",
   "id": "4e955ab7",
   "metadata": {},
   "source": [
    "### Features from descriptions\n",
    "Let's compute the number of documents each word appears in. We do this just with the training data."
   ]
  },
  {
   "cell_type": "code",
   "execution_count": 53,
   "id": "f0c85c89",
   "metadata": {
    "tags": []
   },
   "outputs": [],
   "source": [
    "from collections import defaultdict\n",
    "\n",
    "doc_freq = defaultdict(list) \n",
    "for i, d in enumerate(train):\n",
    "    tokens = set(d[\"tokens\"])\n",
    "    for token in tokens:\n",
    "        doc_freq[token].append(i)"
   ]
  },
  {
   "cell_type": "code",
   "execution_count": 54,
   "id": "1612b923",
   "metadata": {
    "tags": []
   },
   "outputs": [
    {
     "data": {
      "text/plain": [
       "['oportunidad', 'piso', 'situado', 'muy', 'cercano']"
      ]
     },
     "execution_count": 54,
     "metadata": {},
     "output_type": "execute_result"
    }
   ],
   "source": [
    "tokens = train[0][\"tokens\"]\n",
    "tokens[:5]"
   ]
  },
  {
   "cell_type": "code",
   "execution_count": 55,
   "id": "c85e3d0d",
   "metadata": {
    "tags": []
   },
   "outputs": [],
   "source": [
    "prices = [float(d[\"price\"].replace(\" €\", \"\")) for d in train]"
   ]
  },
  {
   "cell_type": "code",
   "execution_count": 56,
   "id": "d085ae74",
   "metadata": {
    "tags": []
   },
   "outputs": [
    {
     "data": {
      "text/plain": [
       "[259.0, 445.0, 250.0, 330.0, 255.0, 400.0, 350.0, 330.0, 480.0, 300.735]"
      ]
     },
     "execution_count": 56,
     "metadata": {},
     "output_type": "execute_result"
    }
   ],
   "source": [
    "prices[:10]"
   ]
  },
  {
   "cell_type": "code",
   "execution_count": 57,
   "id": "5fe82a65",
   "metadata": {
    "tags": []
   },
   "outputs": [
    {
     "data": {
      "text/plain": [
       "(343.760793904209, 349.0)"
      ]
     },
     "execution_count": 57,
     "metadata": {},
     "output_type": "execute_result"
    }
   ],
   "source": [
    "np.mean(prices), np.median(prices)"
   ]
  },
  {
   "cell_type": "code",
   "execution_count": 58,
   "id": "c074e6eb",
   "metadata": {
    "tags": []
   },
   "outputs": [],
   "source": [
    "median_prices = {} \n",
    "for word in doc_freq:\n",
    "    L = len(doc_freq[word])\n",
    "    if L >= 20 and L < 400:\n",
    "        price_word = [prices[i] for i in doc_freq[word]]\n",
    "        median_prices[word] = np.median(price_word)"
   ]
  },
  {
   "cell_type": "code",
   "execution_count": 59,
   "id": "974b8683",
   "metadata": {
    "tags": []
   },
   "outputs": [
    {
     "name": "stdout",
     "output_type": "stream",
     "text": [
      "línea 299.0\n",
      "mano 395.0\n",
      "suite 409.0\n",
      "obra 410.0\n",
      "altos 400.0\n",
      "interiores 412.0\n",
      "materiales 385.5\n",
      "comunitaria 299.9\n",
      "alta 399.0\n",
      "principales 386.0\n",
      "pequeño 299.9\n",
      "portero 398.0\n",
      "noche 412.0\n",
      "privado 405.0\n",
      "perder 304.5\n",
      "inmobiliario 284.0\n",
      "amplitud 399.5\n",
      "vas 275.0\n",
      "hipotecario 299.9\n",
      "gratuita 299.9\n",
      "valoración 299.9\n",
      "deseas 299.9\n",
      "departamento 307.45\n",
      "grandes 397.0\n",
      "así 397.0\n",
      "parte 395.0\n",
      "ventanales 406.5\n",
      "paredes 404.5\n",
      "conductos 405.0\n",
      "suelo 390.5\n",
      "buenas 409.0\n",
      "parking 405.0\n",
      "frío 388.0\n",
      "regia 391.0\n",
      "elementos 395.0\n",
      "vista 397.0\n",
      "cristal 398.0\n",
      "amplios 410.0\n",
      "espaciosa 400.0\n",
      "puertas 389.0\n",
      "sur 299.9\n",
      "estilo 390.0\n",
      "balcones 390.0\n",
      "despejadas 398.0\n",
      "baños 400.0\n",
      "completos 405.0\n",
      "office 410.0\n",
      "alto 404.5\n",
      "directo 392.0\n",
      "calidades 386.027\n",
      "central 399.5\n",
      "ascensores 398.0\n",
      "actual 424.5\n",
      "almacenaje 411.0\n",
      "originales 386.054\n",
      "construido 314.5\n",
      "oro 299.9\n",
      "cerrado 299.9\n",
      "carácter 386.027\n",
      "registrales 310.0\n",
      "grava 299.9\n"
     ]
    }
   ],
   "source": [
    "keywords = []\n",
    "High = 350 + 35\n",
    "Low = 350 - 35\n",
    "\n",
    "for word in median_prices:\n",
    "    if median_prices[word] > High or median_prices[word] < Low:\n",
    "        print(word, median_prices[word])\n",
    "        keywords.append(word)"
   ]
  },
  {
   "cell_type": "markdown",
   "id": "89c0ffb3",
   "metadata": {},
   "source": [
    "### Keywords to ids"
   ]
  },
  {
   "cell_type": "code",
   "execution_count": 60,
   "id": "29c4a4ba",
   "metadata": {
    "tags": []
   },
   "outputs": [
    {
     "data": {
      "text/plain": [
       "{'línea': 0,\n",
       " 'mano': 1,\n",
       " 'suite': 2,\n",
       " 'obra': 3,\n",
       " 'altos': 4,\n",
       " 'interiores': 5,\n",
       " 'materiales': 6,\n",
       " 'comunitaria': 7,\n",
       " 'alta': 8,\n",
       " 'principales': 9,\n",
       " 'pequeño': 10,\n",
       " 'portero': 11,\n",
       " 'noche': 12,\n",
       " 'privado': 13,\n",
       " 'perder': 14,\n",
       " 'inmobiliario': 15,\n",
       " 'amplitud': 16,\n",
       " 'vas': 17,\n",
       " 'hipotecario': 18,\n",
       " 'gratuita': 19,\n",
       " 'valoración': 20,\n",
       " 'deseas': 21,\n",
       " 'departamento': 22,\n",
       " 'grandes': 23,\n",
       " 'así': 24,\n",
       " 'parte': 25,\n",
       " 'ventanales': 26,\n",
       " 'paredes': 27,\n",
       " 'conductos': 28,\n",
       " 'suelo': 29,\n",
       " 'buenas': 30,\n",
       " 'parking': 31,\n",
       " 'frío': 32,\n",
       " 'regia': 33,\n",
       " 'elementos': 34,\n",
       " 'vista': 35,\n",
       " 'cristal': 36,\n",
       " 'amplios': 37,\n",
       " 'espaciosa': 38,\n",
       " 'puertas': 39,\n",
       " 'sur': 40,\n",
       " 'estilo': 41,\n",
       " 'balcones': 42,\n",
       " 'despejadas': 43,\n",
       " 'baños': 44,\n",
       " 'completos': 45,\n",
       " 'office': 46,\n",
       " 'alto': 47,\n",
       " 'directo': 48,\n",
       " 'calidades': 49,\n",
       " 'central': 50,\n",
       " 'ascensores': 51,\n",
       " 'actual': 52,\n",
       " 'almacenaje': 53,\n",
       " 'originales': 54,\n",
       " 'construido': 55,\n",
       " 'oro': 56,\n",
       " 'cerrado': 57,\n",
       " 'carácter': 58,\n",
       " 'registrales': 59,\n",
       " 'grava': 60}"
      ]
     },
     "execution_count": 60,
     "metadata": {},
     "output_type": "execute_result"
    }
   ],
   "source": [
    "key_map = {k: i for i, k in enumerate(keywords)}\n",
    "key_map"
   ]
  },
  {
   "cell_type": "markdown",
   "id": "1a6209b8",
   "metadata": {},
   "source": [
    "### Creating features"
   ]
  },
  {
   "cell_type": "code",
   "execution_count": 61,
   "id": "8c564f8d",
   "metadata": {
    "tags": []
   },
   "outputs": [],
   "source": [
    "def tokens_to_features(tokens, key_map):\n",
    "    feature = np.zeros(len(key_map))\n",
    "    for k in tokens:\n",
    "        if k in key_map:\n",
    "            feature[key_map[k]] = 1\n",
    "    return feature"
   ]
  },
  {
   "cell_type": "code",
   "execution_count": 62,
   "id": "b0a12de0",
   "metadata": {
    "tags": []
   },
   "outputs": [
    {
     "data": {
      "text/plain": [
       "array([0., 1., 1., 1., 1., 1., 1., 1., 0., 0., 0., 0., 0., 0., 0., 0., 0.,\n",
       "       0., 0., 0., 0., 0., 0., 0., 0., 0., 0., 0., 0., 0., 0., 0., 0., 0.,\n",
       "       0., 0., 0., 0., 0., 0., 0., 0., 0., 0., 0., 0., 0., 0., 0., 0., 0.,\n",
       "       0., 0., 0., 0., 0., 0., 0., 0., 0., 0.])"
      ]
     },
     "execution_count": 62,
     "metadata": {},
     "output_type": "execute_result"
    }
   ],
   "source": [
    "tokens = train[1][\"tokens\"]\n",
    "\n",
    "tokens_to_features(tokens, key_map)"
   ]
  },
  {
   "cell_type": "markdown",
   "id": "819f430a",
   "metadata": {},
   "source": [
    "#### location features"
   ]
  },
  {
   "cell_type": "code",
   "execution_count": 63,
   "id": "2ddb1801",
   "metadata": {
    "tags": []
   },
   "outputs": [
    {
     "data": {
      "text/plain": [
       "array(['Barcelona - Besòs - Maresme',\n",
       "       'Barcelona - Diagonal Mar i el Front Marítim del Poblenou',\n",
       "       'Barcelona - Dreta de l´Eixample',\n",
       "       'Barcelona - Dreta de l´Eixample\\nVer mapa',\n",
       "       'Barcelona - El Camp de l´Arpa del Clot',\n",
       "       'Barcelona - El Parc i la Llacuna del Poblenou',\n",
       "       'Barcelona - Fort Pienc',\n",
       "       'Barcelona - La Nova Esquerra de l´Eixample',\n",
       "       'Barcelona - La Nova Esquerra de l´Eixample\\nVer mapa',\n",
       "       'Barcelona - La Vila Olímpica del Poblenou',\n",
       "       'Barcelona - L´Antiga Esquerra de l´Eixample', 'Barcelona - Navas',\n",
       "       'Barcelona - Poblenou', 'Barcelona - Poblenou\\nVer mapa',\n",
       "       'Barcelona - Provençals del Poblenou',\n",
       "       'Barcelona - Sagrada Família', 'Barcelona - Sant Antoni'],\n",
       "      dtype='<U56')"
      ]
     },
     "execution_count": 63,
     "metadata": {},
     "output_type": "execute_result"
    }
   ],
   "source": [
    "np.unique([d[\"loc_string\"] for d in train])"
   ]
  },
  {
   "cell_type": "code",
   "execution_count": 64,
   "id": "42d7e25e",
   "metadata": {
    "tags": []
   },
   "outputs": [
    {
     "data": {
      "text/plain": [
       "array(['Barcelona - Besòs - Maresme',\n",
       "       'Barcelona - Diagonal Mar i el Front Marítim del Poblenou',\n",
       "       'Barcelona - Dreta de l´Eixample',\n",
       "       'Barcelona - El Camp de l´Arpa del Clot',\n",
       "       'Barcelona - El Parc i la Llacuna del Poblenou',\n",
       "       'Barcelona - Fort Pienc',\n",
       "       'Barcelona - La Nova Esquerra de l´Eixample',\n",
       "       'Barcelona - La Vila Olímpica del Poblenou',\n",
       "       'Barcelona - L´Antiga Esquerra de l´Eixample', 'Barcelona - Navas',\n",
       "       'Barcelona - Poblenou', 'Barcelona - Provençals del Poblenou',\n",
       "       'Barcelona - Sagrada Família', 'Barcelona - Sant Antoni'],\n",
       "      dtype='<U56')"
      ]
     },
     "execution_count": 64,
     "metadata": {},
     "output_type": "execute_result"
    }
   ],
   "source": [
    "## clean loc\n",
    "locations = np.unique([d[\"loc_string\"].split(\"\\n\")[0] for d in train])\n",
    "locations"
   ]
  },
  {
   "cell_type": "code",
   "execution_count": 65,
   "id": "31ae055a",
   "metadata": {
    "tags": []
   },
   "outputs": [
    {
     "data": {
      "text/plain": [
       "{'Barcelona - Besòs - Maresme': 0,\n",
       " 'Barcelona - Diagonal Mar i el Front Marítim del Poblenou': 1,\n",
       " 'Barcelona - Dreta de l´Eixample': 2,\n",
       " 'Barcelona - El Camp de l´Arpa del Clot': 3,\n",
       " 'Barcelona - El Parc i la Llacuna del Poblenou': 4,\n",
       " 'Barcelona - Fort Pienc': 5,\n",
       " 'Barcelona - La Nova Esquerra de l´Eixample': 6,\n",
       " 'Barcelona - La Vila Olímpica del Poblenou': 7,\n",
       " 'Barcelona - L´Antiga Esquerra de l´Eixample': 8,\n",
       " 'Barcelona - Navas': 9,\n",
       " 'Barcelona - Poblenou': 10,\n",
       " 'Barcelona - Provençals del Poblenou': 11,\n",
       " 'Barcelona - Sagrada Família': 12,\n",
       " 'Barcelona - Sant Antoni': 13}"
      ]
     },
     "execution_count": 65,
     "metadata": {},
     "output_type": "execute_result"
    }
   ],
   "source": [
    "loc_map = {v:k for k, v in enumerate(locations)}\n",
    "loc_map"
   ]
  },
  {
   "cell_type": "code",
   "execution_count": 66,
   "id": "729ca707",
   "metadata": {
    "tags": []
   },
   "outputs": [],
   "source": [
    "def loc_to_feature(loc, loc_map):\n",
    "    loc = loc.split(\"\\n\")[0]\n",
    "    return loc_map.get(loc, -1)"
   ]
  },
  {
   "cell_type": "code",
   "execution_count": 67,
   "id": "3f10aa63",
   "metadata": {
    "tags": []
   },
   "outputs": [
    {
     "data": {
      "text/plain": [
       "-1"
      ]
     },
     "execution_count": 67,
     "metadata": {},
     "output_type": "execute_result"
    }
   ],
   "source": [
    "loc_to_feature(\"Other\", loc_map)"
   ]
  },
  {
   "cell_type": "code",
   "execution_count": 68,
   "id": "e142a358",
   "metadata": {
    "tags": []
   },
   "outputs": [
    {
     "data": {
      "text/plain": [
       "6"
      ]
     },
     "execution_count": 68,
     "metadata": {},
     "output_type": "execute_result"
    }
   ],
   "source": [
    "loc_to_feature('Barcelona - La Nova Esquerra de l´Eixample\\nVer mapa', loc_map)"
   ]
  },
  {
   "cell_type": "code",
   "execution_count": 69,
   "id": "03704d83",
   "metadata": {
    "tags": []
   },
   "outputs": [
    {
     "data": {
      "text/plain": [
       "'259.000 €'"
      ]
     },
     "execution_count": 69,
     "metadata": {},
     "output_type": "execute_result"
    }
   ],
   "source": [
    "train[0][\"price\"]"
   ]
  },
  {
   "cell_type": "code",
   "execution_count": 70,
   "id": "d2b200e7",
   "metadata": {
    "tags": []
   },
   "outputs": [],
   "source": [
    "def features_to_features(features, price):\n",
    "    m2 = int(features[0].replace(\" m2\", \"\"))\n",
    "    bedrooms = int(features[1].replace(\" hab.\", \"\"))\n",
    "    bathrooms = int(features[2].replace(\" baños\", \"\").replace(\" baño\", \"\"))\n",
    "    price = float(price.replace(\" €\", \"\"))\n",
    "    return np.array([m2, bedrooms, bathrooms, price])"
   ]
  },
  {
   "cell_type": "code",
   "execution_count": 71,
   "id": "452c6ee4",
   "metadata": {
    "tags": []
   },
   "outputs": [
    {
     "data": {
      "text/plain": [
       "array([ 82.,   3.,   1., 259.])"
      ]
     },
     "execution_count": 71,
     "metadata": {},
     "output_type": "execute_result"
    }
   ],
   "source": [
    "features_to_features(train[0][\"features\"], train[0][\"price\"])"
   ]
  },
  {
   "cell_type": "code",
   "execution_count": 72,
   "id": "c0d80a0c",
   "metadata": {
    "tags": []
   },
   "outputs": [
    {
     "data": {
      "text/plain": [
       "Counter({'SECOND_HAND': 689})"
      ]
     },
     "execution_count": 72,
     "metadata": {},
     "output_type": "execute_result"
    }
   ],
   "source": [
    "# not very useful\n",
    "from collections import Counter\n",
    "Counter([d['selltype'] for d in train])"
   ]
  },
  {
   "cell_type": "code",
   "execution_count": 73,
   "id": "7ed49183",
   "metadata": {
    "tags": []
   },
   "outputs": [],
   "source": [
    "def all_features(d, key_map, loc_map):\n",
    "    fea = []\n",
    "    fea.append(tokens_to_features(d[\"tokens\"], key_map))\n",
    "    fea.append([loc_to_feature(d[\"loc_string\"], loc_map)])\n",
    "    fea.append(features_to_features(d[\"features\"], d[\"price\"]))\n",
    "    return np.concatenate(fea)"
   ]
  },
  {
   "cell_type": "code",
   "execution_count": 74,
   "id": "6471f820",
   "metadata": {
    "tags": []
   },
   "outputs": [],
   "source": [
    "header = np.array(keywords + [\"loc\", \"size\", \"bedrooms\", \"bathrooms\", \"price\"])"
   ]
  },
  {
   "cell_type": "code",
   "execution_count": 75,
   "id": "eaa3048c",
   "metadata": {
    "tags": []
   },
   "outputs": [],
   "source": [
    "fea = all_features(train[0], key_map, loc_map)"
   ]
  },
  {
   "cell_type": "code",
   "execution_count": 76,
   "id": "cf11652f",
   "metadata": {
    "tags": []
   },
   "outputs": [],
   "source": [
    "train_features = np.stack([all_features(d, key_map, loc_map) for d in train])"
   ]
  },
  {
   "cell_type": "code",
   "execution_count": 77,
   "id": "5e975fe3",
   "metadata": {
    "tags": []
   },
   "outputs": [],
   "source": [
    "test_features = np.stack([all_features(d, key_map, loc_map) for d in test])"
   ]
  },
  {
   "cell_type": "code",
   "execution_count": 78,
   "id": "c28fae36",
   "metadata": {
    "tags": []
   },
   "outputs": [
    {
     "data": {
      "text/plain": [
       "66"
      ]
     },
     "execution_count": 78,
     "metadata": {},
     "output_type": "execute_result"
    }
   ],
   "source": [
    "len(header)"
   ]
  },
  {
   "cell_type": "code",
   "execution_count": 81,
   "id": "bafb2986",
   "metadata": {
    "tags": []
   },
   "outputs": [
    {
     "data": {
      "text/html": [
       "<div>\n",
       "<style scoped>\n",
       "    .dataframe tbody tr th:only-of-type {\n",
       "        vertical-align: middle;\n",
       "    }\n",
       "\n",
       "    .dataframe tbody tr th {\n",
       "        vertical-align: top;\n",
       "    }\n",
       "\n",
       "    .dataframe thead th {\n",
       "        text-align: right;\n",
       "    }\n",
       "</style>\n",
       "<table border=\"1\" class=\"dataframe\">\n",
       "  <thead>\n",
       "    <tr style=\"text-align: right;\">\n",
       "      <th></th>\n",
       "      <th>línea</th>\n",
       "      <th>mano</th>\n",
       "      <th>suite</th>\n",
       "      <th>obra</th>\n",
       "      <th>altos</th>\n",
       "      <th>interiores</th>\n",
       "      <th>materiales</th>\n",
       "      <th>comunitaria</th>\n",
       "      <th>alta</th>\n",
       "      <th>principales</th>\n",
       "      <th>...</th>\n",
       "      <th>oro</th>\n",
       "      <th>cerrado</th>\n",
       "      <th>carácter</th>\n",
       "      <th>registrales</th>\n",
       "      <th>grava</th>\n",
       "      <th>loc</th>\n",
       "      <th>size</th>\n",
       "      <th>bedrooms</th>\n",
       "      <th>bathrooms</th>\n",
       "      <th>price</th>\n",
       "    </tr>\n",
       "  </thead>\n",
       "  <tbody>\n",
       "    <tr>\n",
       "      <th>0</th>\n",
       "      <td>1.0</td>\n",
       "      <td>0.0</td>\n",
       "      <td>0.0</td>\n",
       "      <td>0.0</td>\n",
       "      <td>0.0</td>\n",
       "      <td>0.0</td>\n",
       "      <td>0.0</td>\n",
       "      <td>0.0</td>\n",
       "      <td>0.0</td>\n",
       "      <td>0.0</td>\n",
       "      <td>...</td>\n",
       "      <td>0.0</td>\n",
       "      <td>0.0</td>\n",
       "      <td>0.0</td>\n",
       "      <td>0.0</td>\n",
       "      <td>0.0</td>\n",
       "      <td>2.0</td>\n",
       "      <td>82.0</td>\n",
       "      <td>3.0</td>\n",
       "      <td>1.0</td>\n",
       "      <td>259.0</td>\n",
       "    </tr>\n",
       "    <tr>\n",
       "      <th>1</th>\n",
       "      <td>0.0</td>\n",
       "      <td>1.0</td>\n",
       "      <td>1.0</td>\n",
       "      <td>1.0</td>\n",
       "      <td>1.0</td>\n",
       "      <td>1.0</td>\n",
       "      <td>1.0</td>\n",
       "      <td>1.0</td>\n",
       "      <td>0.0</td>\n",
       "      <td>0.0</td>\n",
       "      <td>...</td>\n",
       "      <td>0.0</td>\n",
       "      <td>0.0</td>\n",
       "      <td>0.0</td>\n",
       "      <td>0.0</td>\n",
       "      <td>0.0</td>\n",
       "      <td>4.0</td>\n",
       "      <td>63.0</td>\n",
       "      <td>1.0</td>\n",
       "      <td>1.0</td>\n",
       "      <td>445.0</td>\n",
       "    </tr>\n",
       "    <tr>\n",
       "      <th>2</th>\n",
       "      <td>0.0</td>\n",
       "      <td>0.0</td>\n",
       "      <td>0.0</td>\n",
       "      <td>0.0</td>\n",
       "      <td>0.0</td>\n",
       "      <td>0.0</td>\n",
       "      <td>0.0</td>\n",
       "      <td>0.0</td>\n",
       "      <td>1.0</td>\n",
       "      <td>1.0</td>\n",
       "      <td>...</td>\n",
       "      <td>0.0</td>\n",
       "      <td>0.0</td>\n",
       "      <td>0.0</td>\n",
       "      <td>0.0</td>\n",
       "      <td>0.0</td>\n",
       "      <td>6.0</td>\n",
       "      <td>81.0</td>\n",
       "      <td>1.0</td>\n",
       "      <td>1.0</td>\n",
       "      <td>250.0</td>\n",
       "    </tr>\n",
       "    <tr>\n",
       "      <th>3</th>\n",
       "      <td>0.0</td>\n",
       "      <td>0.0</td>\n",
       "      <td>0.0</td>\n",
       "      <td>0.0</td>\n",
       "      <td>0.0</td>\n",
       "      <td>0.0</td>\n",
       "      <td>0.0</td>\n",
       "      <td>0.0</td>\n",
       "      <td>0.0</td>\n",
       "      <td>0.0</td>\n",
       "      <td>...</td>\n",
       "      <td>0.0</td>\n",
       "      <td>0.0</td>\n",
       "      <td>0.0</td>\n",
       "      <td>0.0</td>\n",
       "      <td>0.0</td>\n",
       "      <td>4.0</td>\n",
       "      <td>74.0</td>\n",
       "      <td>3.0</td>\n",
       "      <td>2.0</td>\n",
       "      <td>330.0</td>\n",
       "    </tr>\n",
       "    <tr>\n",
       "      <th>4</th>\n",
       "      <td>0.0</td>\n",
       "      <td>0.0</td>\n",
       "      <td>0.0</td>\n",
       "      <td>0.0</td>\n",
       "      <td>0.0</td>\n",
       "      <td>0.0</td>\n",
       "      <td>0.0</td>\n",
       "      <td>0.0</td>\n",
       "      <td>0.0</td>\n",
       "      <td>0.0</td>\n",
       "      <td>...</td>\n",
       "      <td>0.0</td>\n",
       "      <td>0.0</td>\n",
       "      <td>0.0</td>\n",
       "      <td>0.0</td>\n",
       "      <td>0.0</td>\n",
       "      <td>9.0</td>\n",
       "      <td>79.0</td>\n",
       "      <td>4.0</td>\n",
       "      <td>2.0</td>\n",
       "      <td>255.0</td>\n",
       "    </tr>\n",
       "  </tbody>\n",
       "</table>\n",
       "<p>5 rows × 66 columns</p>\n",
       "</div>"
      ],
      "text/plain": [
       "   línea  mano  suite  obra  altos  interiores  materiales  comunitaria  alta  \\\n",
       "0    1.0   0.0    0.0   0.0    0.0         0.0         0.0          0.0   0.0   \n",
       "1    0.0   1.0    1.0   1.0    1.0         1.0         1.0          1.0   0.0   \n",
       "2    0.0   0.0    0.0   0.0    0.0         0.0         0.0          0.0   1.0   \n",
       "3    0.0   0.0    0.0   0.0    0.0         0.0         0.0          0.0   0.0   \n",
       "4    0.0   0.0    0.0   0.0    0.0         0.0         0.0          0.0   0.0   \n",
       "\n",
       "   principales  ...  oro  cerrado  carácter  registrales  grava  loc  size  \\\n",
       "0          0.0  ...  0.0      0.0       0.0          0.0    0.0  2.0  82.0   \n",
       "1          0.0  ...  0.0      0.0       0.0          0.0    0.0  4.0  63.0   \n",
       "2          1.0  ...  0.0      0.0       0.0          0.0    0.0  6.0  81.0   \n",
       "3          0.0  ...  0.0      0.0       0.0          0.0    0.0  4.0  74.0   \n",
       "4          0.0  ...  0.0      0.0       0.0          0.0    0.0  9.0  79.0   \n",
       "\n",
       "   bedrooms  bathrooms  price  \n",
       "0       3.0        1.0  259.0  \n",
       "1       1.0        1.0  445.0  \n",
       "2       1.0        1.0  250.0  \n",
       "3       3.0        2.0  330.0  \n",
       "4       4.0        2.0  255.0  \n",
       "\n",
       "[5 rows x 66 columns]"
      ]
     },
     "execution_count": 81,
     "metadata": {},
     "output_type": "execute_result"
    }
   ],
   "source": [
    "df_train = pd.DataFrame(train_features, columns=header)\n",
    "df_train.head()"
   ]
  },
  {
   "cell_type": "code",
   "execution_count": 82,
   "id": "22c4162e",
   "metadata": {
    "tags": []
   },
   "outputs": [],
   "source": [
    "df_test = pd.DataFrame(test_features, columns=header)"
   ]
  },
  {
   "cell_type": "code",
   "execution_count": 83,
   "id": "e8d4f26e",
   "metadata": {
    "tags": []
   },
   "outputs": [],
   "source": [
    "df_train.to_csv(\"houses_for_sale_train.csv\",index=False)\n",
    "df_test.to_csv(\"houses_for_sale_test.csv\",index=False)"
   ]
  },
  {
   "cell_type": "markdown",
   "id": "028d2252-c2fd-423e-9dde-e6a36f6f29d0",
   "metadata": {},
   "source": [
    "### Exercise: \n",
    "There are many ways to do selecting the words to include in you model (feature selection). Implement the following strategies. Create new data frame based on these new text features.\n",
    "1. Term Frequency (TF): Calculate the frequency of each word in the corpus and select the top-N words with the highest TF values. This can be a simple way to start feature selection.\n",
    "2. Inverse Document Frequency (IDF): Calculate the IDF for each word to measure how unique and informative it is across the entire corpus. Select words with high IDF scores.\n",
    "3. Correlation Coefficient: Compute the correlation coefficient between the presence/absence of each word and the continuous labels. Words with high absolute correlation values may be good features."
   ]
  },
  {
   "cell_type": "code",
   "execution_count": 85,
   "id": "3def1c76-29c4-4af9-a918-a33599b31cde",
   "metadata": {
    "tags": []
   },
   "outputs": [
    {
     "ename": "AttributeError",
     "evalue": "'dict' object has no attribute 'tokens'",
     "output_type": "error",
     "traceback": [
      "\u001b[0;31m---------------------------------------------------------------------------\u001b[0m",
      "\u001b[0;31mAttributeError\u001b[0m                            Traceback (most recent call last)",
      "Cell \u001b[0;32mIn[85], line 2\u001b[0m\n\u001b[1;32m      1\u001b[0m \u001b[38;5;66;03m# use the train set to compute your list of features\u001b[39;00m\n\u001b[0;32m----> 2\u001b[0m train[\u001b[38;5;241m0\u001b[39m]\u001b[38;5;241m.\u001b[39mtokens\n",
      "\u001b[0;31mAttributeError\u001b[0m: 'dict' object has no attribute 'tokens'"
     ]
    }
   ],
   "source": [
    "# use the train set to compute your list of features\n",
    "train[0].token"
   ]
  },
  {
   "cell_type": "code",
   "execution_count": null,
   "id": "2bd32aac-46b2-40bb-b799-f67ec8271ae8",
   "metadata": {},
   "outputs": [],
   "source": []
  }
 ],
 "metadata": {
  "kernelspec": {
   "display_name": "Python 3 (ipykernel)",
   "language": "python",
   "name": "python3"
  },
  "language_info": {
   "codemirror_mode": {
    "name": "ipython",
    "version": 3
   },
   "file_extension": ".py",
   "mimetype": "text/x-python",
   "name": "python",
   "nbconvert_exporter": "python",
   "pygments_lexer": "ipython3",
   "version": "3.11.4"
  }
 },
 "nbformat": 4,
 "nbformat_minor": 5
}
