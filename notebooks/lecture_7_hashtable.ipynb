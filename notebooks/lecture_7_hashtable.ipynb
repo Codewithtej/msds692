{
 "cells": [
  {
   "cell_type": "markdown",
   "id": "55f67ecd-0935-4a29-b421-60c2804d8100",
   "metadata": {},
   "source": [
    "# Hashtable implementations of sets and dictionaries"
   ]
  },
  {
   "cell_type": "markdown",
   "id": "6501ed24-47e7-4060-8300-45a685964f4a",
   "metadata": {},
   "source": [
    "## Search set of integers"
   ]
  },
  {
   "cell_type": "code",
   "execution_count": 32,
   "id": "b559b610-596a-4245-b6d0-78c008df6dbf",
   "metadata": {
    "tags": []
   },
   "outputs": [
    {
     "data": {
      "text/plain": [
       "[546095, 679370, 42198, 408919, 899402, 885382, 88902, 384034, 618440, 726667]"
      ]
     },
     "execution_count": 32,
     "metadata": {},
     "output_type": "execute_result"
    }
   ],
   "source": [
    "import numpy as np\n",
    "n = 5_000_000\n",
    "A = list(np.random.randint(low=0,high=1_000_000,size=n))\n",
    "A[0:10]"
   ]
  },
  {
   "cell_type": "code",
   "execution_count": 33,
   "id": "89223a97-fa1a-4219-a8a3-8cca138153e3",
   "metadata": {
    "tags": []
   },
   "outputs": [],
   "source": [
    "def lsearch(A, x):\n",
    "    for a in A:\n",
    "        if a==x:\n",
    "            return True\n",
    "    return False"
   ]
  },
  {
   "cell_type": "code",
   "execution_count": 34,
   "id": "d9b6f450-0f0b-4bed-b945-c0ae9411e00b",
   "metadata": {
    "tags": []
   },
   "outputs": [
    {
     "name": "stdout",
     "output_type": "stream",
     "text": [
      "CPU times: user 49.4 ms, sys: 3.93 ms, total: 53.3 ms\n",
      "Wall time: 51.5 ms\n"
     ]
    },
    {
     "data": {
      "text/plain": [
       "True"
      ]
     },
     "execution_count": 34,
     "metadata": {},
     "output_type": "execute_result"
    }
   ],
   "source": [
    "%time lsearch(A, 999)"
   ]
  },
  {
   "cell_type": "code",
   "execution_count": 35,
   "id": "693133da-0a95-415d-ba9f-ed7f2b9985da",
   "metadata": {
    "tags": []
   },
   "outputs": [
    {
     "name": "stdout",
     "output_type": "stream",
     "text": [
      "CPU times: user 798 ms, sys: 15.7 ms, total: 814 ms\n",
      "Wall time: 812 ms\n"
     ]
    }
   ],
   "source": [
    "%time for a in range(50): lsearch(A, a)"
   ]
  },
  {
   "cell_type": "markdown",
   "id": "c16f0f26-8e66-4fe4-b3ff-43bebc97d223",
   "metadata": {},
   "source": [
    "The goal is to reduce the search space. Let's say we want to cut the search space on average by 10. The idea is to use something about the value itself to tell us something about the location. A function that tells us something about the location of a value is called a hash function. We can think about it as giving us the postal code of a person in the United States. It means we have to organize the search space in the regions, and then the hash function gives us the region based upon the value we are searching for.\n",
    "\n",
    "Heere's one possible hash function. Use remainder / modulo operator to convert all numbers into a value between [0,9]"
   ]
  },
  {
   "cell_type": "code",
   "execution_count": 36,
   "id": "c49928e4-a6a6-4f24-a3b3-bf697e54cd16",
   "metadata": {
    "tags": []
   },
   "outputs": [
    {
     "data": {
      "text/plain": [
       "[(546095, 5),\n",
       " (679370, 0),\n",
       " (42198, 8),\n",
       " (408919, 9),\n",
       " (899402, 2),\n",
       " (885382, 2),\n",
       " (88902, 2),\n",
       " (384034, 4),\n",
       " (618440, 0),\n",
       " (726667, 7)]"
      ]
     },
     "execution_count": 36,
     "metadata": {},
     "output_type": "execute_result"
    }
   ],
   "source": [
    "def hash(x):\n",
    "    return x % 10\n",
    "\n",
    "[(a,hash(a)) for a in A[0:10]]"
   ]
  },
  {
   "cell_type": "markdown",
   "id": "5dd10eeb-514a-47f4-8d04-f93dba0e1745",
   "metadata": {},
   "source": [
    "But now we need a different data structure than just a list of integers. Let's make buckets and put all the integers with the same hash into the same pocket."
   ]
  },
  {
   "cell_type": "code",
   "execution_count": 37,
   "id": "33ec7ec9-5f05-4a0e-93b8-34d8cf8c0ff3",
   "metadata": {
    "tags": []
   },
   "outputs": [],
   "source": [
    "buckets = [[] for i in range(10)] # make sure each bucket is a separate list"
   ]
  },
  {
   "cell_type": "code",
   "execution_count": 38,
   "id": "6e1512a8-5917-4c79-bbb0-daa333fa92b2",
   "metadata": {
    "tags": []
   },
   "outputs": [
    {
     "data": {
      "text/plain": [
       "[[679370, 618440],\n",
       " [],\n",
       " [899402, 885382, 88902],\n",
       " [],\n",
       " [384034],\n",
       " [546095],\n",
       " [],\n",
       " [726667],\n",
       " [42198],\n",
       " [408919]]"
      ]
     },
     "execution_count": 38,
     "metadata": {},
     "output_type": "execute_result"
    }
   ],
   "source": [
    "for a in A[0:10]:\n",
    "    buckets[hash(a)].append(a)\n",
    "buckets"
   ]
  },
  {
   "cell_type": "code",
   "execution_count": 39,
   "id": "39599ec7-8800-4b04-b522-0920f76c8702",
   "metadata": {
    "tags": []
   },
   "outputs": [],
   "source": [
    "def hash(x):\n",
    "    return x % 10\n",
    "\n",
    "def htable(A):\n",
    "    \"Build hashtable for integer values\"\n",
    "    buckets = [[] for i in range(10)]\n",
    "    for a in A:\n",
    "        buckets[hash(a)].append(a)\n",
    "    return buckets"
   ]
  },
  {
   "cell_type": "code",
   "execution_count": 40,
   "id": "7a9694d7-b61d-4922-bd89-a39d2c3c2782",
   "metadata": {
    "tags": []
   },
   "outputs": [],
   "source": [
    "def hsearch(buckets, x):\n",
    "    i = hash(x)\n",
    "    for a in buckets[i]:\n",
    "        if a==x:\n",
    "            return True\n",
    "    return False"
   ]
  },
  {
   "cell_type": "code",
   "execution_count": 41,
   "id": "2856316e-2164-4d79-b89d-1122151b7a29",
   "metadata": {
    "tags": []
   },
   "outputs": [
    {
     "name": "stdout",
     "output_type": "stream",
     "text": [
      "CPU times: user 2.76 ms, sys: 65 µs, total: 2.83 ms\n",
      "Wall time: 2.83 ms\n"
     ]
    },
    {
     "data": {
      "text/plain": [
       "True"
      ]
     },
     "execution_count": 41,
     "metadata": {},
     "output_type": "execute_result"
    }
   ],
   "source": [
    "buckets = htable(A)\n",
    "%time hsearch(buckets, 999)"
   ]
  },
  {
   "cell_type": "code",
   "execution_count": 42,
   "id": "5c774dff-7469-40e6-bd98-ac3e9db90b32",
   "metadata": {
    "tags": []
   },
   "outputs": [
    {
     "name": "stdout",
     "output_type": "stream",
     "text": [
      "CPU times: user 118 ms, sys: 5.47 ms, total: 123 ms\n",
      "Wall time: 120 ms\n"
     ]
    }
   ],
   "source": [
    "%time for a in range(50): hsearch(buckets, a)"
   ]
  },
  {
   "cell_type": "code",
   "execution_count": 43,
   "id": "d01d524b-e2d1-4938-9e9a-0e006d318833",
   "metadata": {
    "tags": []
   },
   "outputs": [
    {
     "name": "stdout",
     "output_type": "stream",
     "text": [
      "CPU times: user 797 ms, sys: 11.3 ms, total: 808 ms\n",
      "Wall time: 807 ms\n"
     ]
    }
   ],
   "source": [
    "%time for a in range(50): lsearch(A, a)"
   ]
  },
  {
   "cell_type": "markdown",
   "id": "c619a67d-20d3-4086-b40c-7896c9c16b58",
   "metadata": {},
   "source": [
    "### Set of strings"
   ]
  },
  {
   "cell_type": "code",
   "execution_count": 44,
   "id": "e4bf19b0-006e-4c26-b66c-242f191af706",
   "metadata": {
    "tags": []
   },
   "outputs": [],
   "source": [
    "cities = ['elgin', 'tyler', 'austin', 'hillsboro', 'greeley',\n",
    "          'davie', 'rockford', 'orange', 'sandy springs', 'garden grove',\n",
    "          'paterson', 'clarksville', 'fairfield', 'victorville', 'fresno',\n",
    "          'palmdale', 'frisco', 'corona', 'austin', 'cape coral']"
   ]
  },
  {
   "cell_type": "code",
   "execution_count": 45,
   "id": "fe84049e-7777-473b-9de5-aaf63bf89c51",
   "metadata": {
    "tags": []
   },
   "outputs": [
    {
     "data": {
      "text/plain": [
       "[('elgin', 4),\n",
       " ('tyler', 19),\n",
       " ('austin', 0),\n",
       " ('hillsboro', 7),\n",
       " ('greeley', 6),\n",
       " ('davie', 3),\n",
       " ('rockford', 17),\n",
       " ('orange', 14),\n",
       " ('sandy springs', 18),\n",
       " ('garden grove', 6)]"
      ]
     },
     "execution_count": 45,
     "metadata": {},
     "output_type": "execute_result"
    }
   ],
   "source": [
    "def hash(s):\n",
    "    # convert first char to int in [0,25]\n",
    "    return ord(s[0]) - ord('a')\n",
    "\n",
    "[(c,hash(c)) for c in cities[0:10]]"
   ]
  },
  {
   "cell_type": "code",
   "execution_count": 46,
   "id": "49fb51f0-3c34-493d-81d9-1981a580da76",
   "metadata": {
    "tags": []
   },
   "outputs": [],
   "source": [
    "def htable(A):\n",
    "    buckets = [[] for i in range(26)]\n",
    "    for a in A:\n",
    "        buckets[hash(a)].append(a)\n",
    "    return buckets"
   ]
  },
  {
   "cell_type": "code",
   "execution_count": 47,
   "id": "e906858c-8556-4bd0-a499-1d43c459365f",
   "metadata": {
    "tags": []
   },
   "outputs": [],
   "source": [
    "def hsearch(buckets,x):\n",
    "    i = hash(x)\n",
    "    for a in buckets[i]:\n",
    "        if a==x:\n",
    "            return True\n",
    "    return False"
   ]
  },
  {
   "cell_type": "code",
   "execution_count": 48,
   "id": "b13af9ef-2be7-4a29-80dc-fdac33680875",
   "metadata": {
    "tags": []
   },
   "outputs": [
    {
     "name": "stdout",
     "output_type": "stream",
     "text": [
      "CPU times: user 4 µs, sys: 0 ns, total: 4 µs\n",
      "Wall time: 5.96 µs\n"
     ]
    },
    {
     "data": {
      "text/plain": [
       "True"
      ]
     },
     "execution_count": 48,
     "metadata": {},
     "output_type": "execute_result"
    }
   ],
   "source": [
    "buckets = htable(cities)\n",
    "%time hsearch(buckets, \"austin\")"
   ]
  },
  {
   "cell_type": "code",
   "execution_count": 49,
   "id": "9980b6d8-990a-4a74-ac1b-b0a04392397e",
   "metadata": {
    "tags": []
   },
   "outputs": [
    {
     "name": "stdout",
     "output_type": "stream",
     "text": [
      "CPU times: user 8 µs, sys: 0 ns, total: 8 µs\n",
      "Wall time: 11.2 µs\n"
     ]
    },
    {
     "data": {
      "text/plain": [
       "False"
      ]
     },
     "execution_count": 49,
     "metadata": {},
     "output_type": "execute_result"
    }
   ],
   "source": [
    "%time hsearch(buckets, \"denver\")"
   ]
  },
  {
   "cell_type": "markdown",
   "id": "98bfc844-21cf-4e1d-8ab2-462d75e08d9f",
   "metadata": {},
   "source": [
    "Redefine so that we have 10 buckets again"
   ]
  },
  {
   "cell_type": "code",
   "execution_count": 50,
   "id": "7b4c9720-d514-43f6-ab7d-6bd0d404d2ef",
   "metadata": {
    "tags": []
   },
   "outputs": [],
   "source": [
    "def hash(s):\n",
    "    return ord(s[0])\n",
    "\n",
    "def htable(A):\n",
    "    buckets = [[] for i in range(10)]\n",
    "    for a in A:\n",
    "        # fit in 10 buckets\n",
    "        b = hash(a) % 10\n",
    "        buckets[b].append(a)\n",
    "    return buckets"
   ]
  },
  {
   "cell_type": "code",
   "execution_count": 51,
   "id": "bd230be0-e748-4da9-8bb7-42278dedb9da",
   "metadata": {
    "tags": []
   },
   "outputs": [
    {
     "data": {
      "text/plain": [
       "[['davie'],\n",
       " ['elgin', 'orange'],\n",
       " ['paterson', 'fairfield', 'fresno', 'palmdale', 'frisco'],\n",
       " ['greeley', 'garden grove'],\n",
       " ['hillsboro', 'rockford'],\n",
       " ['sandy springs'],\n",
       " ['tyler'],\n",
       " ['austin', 'austin'],\n",
       " ['victorville'],\n",
       " ['clarksville', 'corona', 'cape coral']]"
      ]
     },
     "execution_count": 51,
     "metadata": {},
     "output_type": "execute_result"
    }
   ],
   "source": [
    "buckets = htable(cities)\n",
    "buckets "
   ]
  },
  {
   "cell_type": "markdown",
   "id": "b078654c-afa2-466d-96aa-3bdbb88e2a89",
   "metadata": {},
   "source": [
    "## Dictionaries"
   ]
  },
  {
   "cell_type": "markdown",
   "id": "b3561ccc-bc56-4db8-815b-e6ff66d75528",
   "metadata": {},
   "source": [
    "### List of tuples"
   ]
  },
  {
   "cell_type": "code",
   "execution_count": 52,
   "id": "9b172248-0072-47ad-b36a-c2748e346c05",
   "metadata": {
    "tags": []
   },
   "outputs": [],
   "source": [
    "pop = [\n",
    "    ('Roanoke', 100011),\n",
    "    ('Nampa', 100200),\n",
    "    ('Edinburg', 100243),\n",
    "    ('Clinton', 100513),\n",
    "    ('Houston', 2304580)\n",
    "]"
   ]
  },
  {
   "cell_type": "code",
   "execution_count": 53,
   "id": "19560eac-84e8-4189-9c5a-938bc682a651",
   "metadata": {
    "tags": []
   },
   "outputs": [],
   "source": [
    "def llookup(A, x):\n",
    "    for k,v in A:\n",
    "        if k==x:\n",
    "            return v\n",
    "    return None"
   ]
  },
  {
   "cell_type": "code",
   "execution_count": 54,
   "id": "341e625a-9c48-4149-9999-27ece7935022",
   "metadata": {
    "tags": []
   },
   "outputs": [
    {
     "data": {
      "text/plain": [
       "100513"
      ]
     },
     "execution_count": 54,
     "metadata": {},
     "output_type": "execute_result"
    }
   ],
   "source": [
    "llookup(pop, 'Clinton')"
   ]
  },
  {
   "cell_type": "code",
   "execution_count": 55,
   "id": "3ab5e272-993e-4d60-b722-743dbb1814bb",
   "metadata": {
    "tags": []
   },
   "outputs": [],
   "source": [
    "llookup(pop, 'SF')"
   ]
  },
  {
   "cell_type": "markdown",
   "id": "1dca4133-5162-4d9d-b0af-5835a84aae3c",
   "metadata": {},
   "source": [
    "### Hashtable"
   ]
  },
  {
   "cell_type": "code",
   "execution_count": 56,
   "id": "bd9c0b04-b652-433f-9f3b-0cb76d6eaae2",
   "metadata": {
    "tags": []
   },
   "outputs": [],
   "source": [
    "def hash(s):\n",
    "    return ord(s[0])\n",
    "\n",
    "def htable_dict(A,nbuckets):\n",
    "    buckets = [[] for i in range(nbuckets)]\n",
    "    for k,v in A:\n",
    "        b = hash(k) % nbuckets\n",
    "        buckets[b].append((k,v))\n",
    "    return buckets"
   ]
  },
  {
   "cell_type": "code",
   "execution_count": 57,
   "id": "4a324307-f144-4b4f-98f1-6e96f1aa5c93",
   "metadata": {
    "tags": []
   },
   "outputs": [],
   "source": [
    "buckets = htable_dict(pop, 5)"
   ]
  },
  {
   "cell_type": "code",
   "execution_count": 58,
   "id": "2d3ae034-c1be-49f6-91fe-22f2abe08b62",
   "metadata": {
    "tags": []
   },
   "outputs": [
    {
     "data": {
      "text/plain": [
       "[[],\n",
       " [],\n",
       " [('Roanoke', 100011), ('Clinton', 100513), ('Houston', 2304580)],\n",
       " [('Nampa', 100200)],\n",
       " [('Edinburg', 100243)]]"
      ]
     },
     "execution_count": 58,
     "metadata": {},
     "output_type": "execute_result"
    }
   ],
   "source": [
    "buckets "
   ]
  },
  {
   "cell_type": "code",
   "execution_count": 59,
   "id": "3d9aeb7b-e4d8-492a-a9d5-ba2359c9fb8f",
   "metadata": {
    "tags": []
   },
   "outputs": [],
   "source": [
    "def hlookup(buckets, x, nbuckets):\n",
    "    i = hash(x) % nbuckets\n",
    "    for k,v in buckets[i]:\n",
    "        if k == x:\n",
    "            return v\n",
    "    return None"
   ]
  },
  {
   "cell_type": "code",
   "execution_count": 60,
   "id": "9dba468c-8fad-4eda-ab85-7f3f2fa91804",
   "metadata": {
    "tags": []
   },
   "outputs": [],
   "source": [
    "buckets = htable_dict(pop, 3)"
   ]
  },
  {
   "cell_type": "code",
   "execution_count": 61,
   "id": "53effe30-8b0b-4387-96b1-ecb3d0128466",
   "metadata": {
    "tags": []
   },
   "outputs": [
    {
     "data": {
      "text/plain": [
       "100513"
      ]
     },
     "execution_count": 61,
     "metadata": {},
     "output_type": "execute_result"
    }
   ],
   "source": [
    "hlookup(buckets, 'Clinton', nbuckets=3)"
   ]
  },
  {
   "cell_type": "code",
   "execution_count": 62,
   "id": "d10c4aeb-063f-4f9a-ad34-452377a3f94f",
   "metadata": {
    "tags": []
   },
   "outputs": [],
   "source": [
    "hlookup(buckets, 'SF', nbuckets=3)"
   ]
  },
  {
   "cell_type": "markdown",
   "id": "06e51e73-55fc-41e4-9360-5a474ea4ffe0",
   "metadata": {},
   "source": [
    "### degenerate case"
   ]
  },
  {
   "cell_type": "code",
   "execution_count": 31,
   "id": "6c6b34eb-1801-46de-9684-514d53758914",
   "metadata": {
    "tags": []
   },
   "outputs": [],
   "source": [
    "buckets = htable_dict(pop, 1)"
   ]
  },
  {
   "cell_type": "code",
   "execution_count": 32,
   "id": "3f2f885f-acc6-4210-895b-1a0a629719ca",
   "metadata": {
    "tags": []
   },
   "outputs": [
    {
     "data": {
      "text/plain": [
       "[[('Roanoke', 100011),\n",
       "  ('Nampa', 100200),\n",
       "  ('Edinburg', 100243),\n",
       "  ('Clinton', 100513),\n",
       "  ('Houston', 2304580)]]"
      ]
     },
     "execution_count": 32,
     "metadata": {},
     "output_type": "execute_result"
    }
   ],
   "source": [
    "buckets "
   ]
  },
  {
   "cell_type": "markdown",
   "id": "8aea5f71-c438-42a3-8b65-38ee3e175b74",
   "metadata": {},
   "source": [
    "### Mapping keys to sets"
   ]
  },
  {
   "cell_type": "code",
   "execution_count": 33,
   "id": "57c72414-24bb-4272-8f37-62aae79123e0",
   "metadata": {
    "tags": []
   },
   "outputs": [
    {
     "name": "stdout",
     "output_type": "stream",
     "text": [
      "4665724256\n"
     ]
    }
   ],
   "source": [
    "x = {3,1,5}\n",
    "print(id(x)) # print address of object x\n",
    "words = [('the', x), ('cat',{9}), ('sat',{4,9})]"
   ]
  },
  {
   "cell_type": "code",
   "execution_count": 34,
   "id": "e1b6ff47-ce19-4ce8-b147-570dba711ccf",
   "metadata": {
    "tags": []
   },
   "outputs": [
    {
     "data": {
      "text/plain": [
       "[('the', {1, 3, 5}), ('cat', {9}), ('sat', {4, 9})]"
      ]
     },
     "execution_count": 34,
     "metadata": {},
     "output_type": "execute_result"
    }
   ],
   "source": [
    "words"
   ]
  },
  {
   "cell_type": "code",
   "execution_count": 35,
   "id": "9ce033e2-4069-44fd-b02d-4de14816b76b",
   "metadata": {
    "tags": []
   },
   "outputs": [
    {
     "name": "stdout",
     "output_type": "stream",
     "text": [
      "4665724256\n"
     ]
    },
    {
     "data": {
      "text/plain": [
       "{1, 3, 5}"
      ]
     },
     "execution_count": 35,
     "metadata": {},
     "output_type": "execute_result"
    }
   ],
   "source": [
    "the = llookup(words, 'the')\n",
    "print(id(the))\n",
    "the"
   ]
  },
  {
   "cell_type": "code",
   "execution_count": 36,
   "id": "01763b39-13a7-42da-8d33-2ebffb4e0e1e",
   "metadata": {
    "tags": []
   },
   "outputs": [],
   "source": [
    "the.add(1000)"
   ]
  },
  {
   "cell_type": "code",
   "execution_count": 37,
   "id": "3e8b2acb-7c27-4c73-a855-ad223acfa309",
   "metadata": {
    "tags": []
   },
   "outputs": [
    {
     "data": {
      "text/plain": [
       "4665724256"
      ]
     },
     "execution_count": 37,
     "metadata": {},
     "output_type": "execute_result"
    }
   ],
   "source": [
    "id(the)"
   ]
  },
  {
   "cell_type": "code",
   "execution_count": 38,
   "id": "f815649e-9258-4f3d-9434-7320f4970ff2",
   "metadata": {
    "tags": []
   },
   "outputs": [
    {
     "data": {
      "text/plain": [
       "[('the', {1, 3, 5, 1000}), ('cat', {9}), ('sat', {4, 9})]"
      ]
     },
     "execution_count": 38,
     "metadata": {},
     "output_type": "execute_result"
    }
   ],
   "source": [
    "words"
   ]
  },
  {
   "cell_type": "code",
   "execution_count": 39,
   "id": "9b851a77-f49e-43a7-8b6d-95dc8ab7baab",
   "metadata": {
    "tags": []
   },
   "outputs": [
    {
     "name": "stdout",
     "output_type": "stream",
     "text": [
      "{1000, 1, 3, 5} 4665724256\n"
     ]
    }
   ],
   "source": [
    "the2 = llookup(words, 'the')\n",
    "print(the2, id(the2))"
   ]
  },
  {
   "cell_type": "code",
   "execution_count": 40,
   "id": "60e9ddec-fc24-4436-b768-13d0fccff62e",
   "metadata": {
    "tags": []
   },
   "outputs": [
    {
     "data": {
      "text/plain": [
       "{'the': {1, 3, 5, 1000}, 'cat': {9}, 'sat': {4, 9}}"
      ]
     },
     "execution_count": 40,
     "metadata": {},
     "output_type": "execute_result"
    }
   ],
   "source": [
    "# what doesn't look like as a map from word to set?\n",
    "dict(words)"
   ]
  },
  {
   "cell_type": "code",
   "execution_count": 41,
   "id": "212e572b",
   "metadata": {
    "tags": []
   },
   "outputs": [
    {
     "data": {
      "text/plain": [
       "\"{'cat': 99, 'dog': 200}\""
      ]
     },
     "execution_count": 41,
     "metadata": {},
     "output_type": "execute_result"
    }
   ],
   "source": [
    "d = {\"cat\": 99, \"dog\": 200}\n",
    "str(d)"
   ]
  }
 ],
 "metadata": {
  "kernelspec": {
   "display_name": "Python 3 (ipykernel)",
   "language": "python",
   "name": "python3"
  },
  "language_info": {
   "codemirror_mode": {
    "name": "ipython",
    "version": 3
   },
   "file_extension": ".py",
   "mimetype": "text/x-python",
   "name": "python",
   "nbconvert_exporter": "python",
   "pygments_lexer": "ipython3",
   "version": "3.11.4"
  }
 },
 "nbformat": 4,
 "nbformat_minor": 5
}
