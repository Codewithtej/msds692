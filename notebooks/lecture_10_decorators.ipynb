{
 "cells": [
  {
   "cell_type": "markdown",
   "id": "d1db12f4-699a-4dcc-8042-9cdbcda0bb88",
   "metadata": {},
   "source": [
    "## Useful ideas before flask"
   ]
  },
  {
   "cell_type": "markdown",
   "id": "9c0388c1-8b02-4ec2-a365-2a65692da5ca",
   "metadata": {},
   "source": [
    "### Functions with funcions as inputs "
   ]
  },
  {
   "cell_type": "code",
   "execution_count": 6,
   "id": "80aaf710-f406-47e0-9e64-846dc7ccee7a",
   "metadata": {
    "tags": []
   },
   "outputs": [],
   "source": [
    "# Define a higher-order function called 'apply_function' that takes \n",
    "# a function 'func' as input.\n",
    "def apply_function(func, x):\n",
    "    result = func(x)\n",
    "    return result\n",
    "\n",
    "# Define a couple of functions that can be used as input to 'apply_function'.\n",
    "def square(n):\n",
    "    return n * n\n",
    "\n",
    "def cube(n):\n",
    "    return n * n * n"
   ]
  },
  {
   "cell_type": "code",
   "execution_count": 5,
   "id": "88018ef6-b1ea-435e-a0ee-6e705fbe610b",
   "metadata": {
    "tags": []
   },
   "outputs": [
    {
     "name": "stdout",
     "output_type": "stream",
     "text": [
      "Square of 5 is 25\n",
      "Cube of 5 is 125\n"
     ]
    }
   ],
   "source": [
    "# Use the 'apply_function' with 'square' and 'cube' functions as input.\n",
    "number = 5\n",
    "\n",
    "square_result = apply_function(square, number)\n",
    "cube_result = apply_function(cube, number)\n",
    "\n",
    "print(f\"Square of {number} is {square_result}\")\n",
    "print(f\"Cube of {number} is {cube_result}\")"
   ]
  },
  {
   "cell_type": "markdown",
   "id": "ba135197-9188-420b-9299-631d64256c2f",
   "metadata": {},
   "source": [
    "### `*args` and `**kwargs`\n",
    "`*args` and `**kwargs` are used to handle a variable number of arguments in functions. <br>\n",
    "\n",
    "`*args` is used to pass a variable number of non-keyword arguments (i.e., positional arguments) <br>\n",
    "`**kwargs` is used to pass a variable number of keyword arguments (i.e., named arguments)."
   ]
  },
  {
   "cell_type": "code",
   "execution_count": 6,
   "id": "faeb429e-3a92-456d-8732-4ea9ee642b65",
   "metadata": {
    "tags": []
   },
   "outputs": [],
   "source": [
    "# Function that accepts a variable number of positional arguments (*args).\n",
    "def print_args(*args):\n",
    "    for arg in args:\n",
    "        print(arg)"
   ]
  },
  {
   "cell_type": "code",
   "execution_count": 7,
   "id": "08da9ffd-8393-4ce5-9fb0-8b434ee5d70a",
   "metadata": {
    "tags": []
   },
   "outputs": [
    {
     "name": "stdout",
     "output_type": "stream",
     "text": [
      "Hello\n",
      "world\n",
      "42\n",
      "[1, 2, 3]\n"
     ]
    }
   ],
   "source": [
    "print_args(\"Hello\", \"world\", 42, [1, 2, 3])"
   ]
  },
  {
   "cell_type": "code",
   "execution_count": 8,
   "id": "ae1f486f-1f86-4e9d-9a76-55b22a3285d5",
   "metadata": {
    "tags": []
   },
   "outputs": [],
   "source": [
    "# Function that accepts a variable number of keyword arguments (**kwargs).\n",
    "def print_kwargs(**kwargs):\n",
    "    for key, value in kwargs.items():\n",
    "        print(f\"{key}: {value}\")"
   ]
  },
  {
   "cell_type": "code",
   "execution_count": 9,
   "id": "fb45b1ee-ca84-4364-af66-134c3a24246e",
   "metadata": {
    "tags": []
   },
   "outputs": [
    {
     "name": "stdout",
     "output_type": "stream",
     "text": [
      "name: Alice\n",
      "age: 30\n",
      "city: New York\n"
     ]
    }
   ],
   "source": [
    "print_kwargs(name=\"Alice\", age=30, city=\"New York\")"
   ]
  },
  {
   "cell_type": "code",
   "execution_count": 10,
   "id": "dbc66969-4591-409d-a192-0b6e92f1c178",
   "metadata": {
    "tags": []
   },
   "outputs": [],
   "source": [
    "def print_args_and_kwargs(*args, **kwargs):\n",
    "    print(\"Positional arguments:\")\n",
    "    for arg in args:\n",
    "        print(arg)\n",
    "    \n",
    "    print(\"Keyword arguments:\")\n",
    "    for key, value in kwargs.items():\n",
    "        print(f\"{key}: {value}\")"
   ]
  },
  {
   "cell_type": "code",
   "execution_count": 11,
   "id": "e24dcd38-3367-4f65-b8cd-265b701fb7fb",
   "metadata": {
    "tags": []
   },
   "outputs": [
    {
     "name": "stdout",
     "output_type": "stream",
     "text": [
      "Positional arguments:\n",
      "1\n",
      "2\n",
      "3\n",
      "Keyword arguments:\n",
      "name: Bob\n",
      "age: 25\n"
     ]
    }
   ],
   "source": [
    "print_args_and_kwargs(1, 2, 3, name=\"Bob\", age=25)"
   ]
  },
  {
   "cell_type": "markdown",
   "id": "c9527017-a681-4bd3-b430-93f3bc0cf5cb",
   "metadata": {},
   "source": [
    "### Example of decorators"
   ]
  },
  {
   "cell_type": "code",
   "execution_count": 1,
   "id": "b6171e62-8599-4bec-8649-325a76872f0b",
   "metadata": {
    "tags": []
   },
   "outputs": [
    {
     "name": "stdout",
     "output_type": "stream",
     "text": [
      "Something is happening before the function is called.\n",
      "Hello!\n",
      "Something is happening after the function is called.\n"
     ]
    }
   ],
   "source": [
    "def my_decorator(func):\n",
    "    def wrapper():\n",
    "        print(\"Something is happening before the function is called.\")\n",
    "        func()\n",
    "        print(\"Something is happening after the function is called.\")\n",
    "    return wrapper\n",
    "\n",
    "@my_decorator\n",
    "def say_hello():\n",
    "    print(\"Hello!\")\n",
    "\n",
    "say_hello()"
   ]
  },
  {
   "cell_type": "markdown",
   "id": "a38b5574-906e-4949-8026-9c59364f0eca",
   "metadata": {},
   "source": [
    "Here is a more interesting example:"
   ]
  },
  {
   "cell_type": "code",
   "execution_count": 7,
   "id": "89c8839b-7e19-4f45-a027-51dba272b0f3",
   "metadata": {
    "tags": []
   },
   "outputs": [],
   "source": [
    "def validate_args(func):\n",
    "    def wrapper(*args, **kwargs):\n",
    "        # Check all positional arguments for positive integers\n",
    "        if any(not isinstance(arg, int) or arg <= 0 for arg in args):\n",
    "            raise ValueError(\"All arguments must be positive integers.\")\n",
    "        # Call the original function if validation passes\n",
    "        return func(*args, **kwargs)\n",
    "    return wrapper\n",
    "\n",
    "@validate_args\n",
    "def multiply(a, b):\n",
    "    return a * b"
   ]
  },
  {
   "cell_type": "code",
   "execution_count": 8,
   "id": "19822023-5fad-4fb8-812e-0b35439119de",
   "metadata": {
    "tags": []
   },
   "outputs": [
    {
     "name": "stdout",
     "output_type": "stream",
     "text": [
      "Result: 15\n",
      "Error: All arguments must be positive integers.\n"
     ]
    }
   ],
   "source": [
    "try:\n",
    "    result = multiply(5, 3)  # Valid arguments\n",
    "    print(f\"Result: {result}\")\n",
    "\n",
    "    result = multiply(4, -2)  # Invalid argument (-2)\n",
    "    print(f\"Result: {result}\")  # This line won't be reached due to the exception\n",
    "\n",
    "except ValueError as e:\n",
    "    print(f\"Error: {e}\")"
   ]
  },
  {
   "cell_type": "markdown",
   "id": "1ce46d15-beac-4c90-9bcb-e3bfa27adb71",
   "metadata": {},
   "source": [
    "#### Exercise:\n",
    "Write a decorator that would print the name of the function and the number of arguments before exceuting the function."
   ]
  },
  {
   "cell_type": "markdown",
   "id": "7a838e76-a404-4297-8456-7de49054a21e",
   "metadata": {},
   "source": [
    "## try and except\n",
    "In Python, try and except are used to handle exceptions, which are runtime errors. The try block is used to enclose the code that might raise an exception, and the except block is used to specify how to handle the exception if it occurs. "
   ]
  },
  {
   "cell_type": "code",
   "execution_count": 9,
   "id": "a909cbbe-d0fa-45bb-adfd-131437fa7017",
   "metadata": {
    "tags": []
   },
   "outputs": [
    {
     "name": "stdout",
     "output_type": "stream",
     "text": [
      "An exception occurred\n"
     ]
    }
   ],
   "source": [
    "try:\n",
    "    # Code that may raise an exception\n",
    "    result = 10 / 0  # This will raise a ZeroDivisionError\n",
    "except:\n",
    "    # Code to handle the exception\n",
    "    print(\"An exception occurred\")"
   ]
  },
  {
   "cell_type": "markdown",
   "id": "cd96e719-7d6b-4f03-8d49-c5b3a2fbb068",
   "metadata": {},
   "source": [
    "### raise\n",
    "\n",
    "\n",
    "### ValueError\n",
    "Python ValueError is raised when a function receives an argument of the correct type but an inappropriate value."
   ]
  },
  {
   "cell_type": "code",
   "execution_count": null,
   "id": "af63a441-b4f3-4086-ae39-392dfe163d04",
   "metadata": {},
   "outputs": [],
   "source": []
  }
 ],
 "metadata": {
  "kernelspec": {
   "display_name": "Python 3 (ipykernel)",
   "language": "python",
   "name": "python3"
  },
  "language_info": {
   "codemirror_mode": {
    "name": "ipython",
    "version": 3
   },
   "file_extension": ".py",
   "mimetype": "text/x-python",
   "name": "python",
   "nbconvert_exporter": "python",
   "pygments_lexer": "ipython3",
   "version": "3.11.4"
  }
 },
 "nbformat": 4,
 "nbformat_minor": 5
}
