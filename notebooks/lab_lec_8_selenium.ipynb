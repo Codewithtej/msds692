{
 "cells": [
  {
   "attachments": {},
   "cell_type": "markdown",
   "metadata": {},
   "source": [
    "# Selenium Lab"
   ]
  },
  {
   "cell_type": "code",
   "execution_count": 1,
   "metadata": {},
   "outputs": [],
   "source": [
    "from selenium import webdriver\n",
    "from selenium.webdriver.support.ui import Select\n",
    "from selenium.webdriver.common.by import By\n",
    "import time"
   ]
  },
  {
   "attachments": {},
   "cell_type": "markdown",
   "metadata": {},
   "source": [
    "### 1. Navigating\n",
    "Navigate to the official USF website in Chrome: \"https://www.usfca.edu/\"."
   ]
  },
  {
   "cell_type": "code",
   "execution_count": 2,
   "metadata": {},
   "outputs": [],
   "source": [
    "website = \"https://www.usfca.edu/\"\n",
    "# Create a WebDriver instance for Chrome\n",
    "\n",
    "\n",
    "# Visit the website\n"
   ]
  },
  {
   "attachments": {},
   "cell_type": "markdown",
   "metadata": {},
   "source": [
    "### 2. Getting the link to Undergraduate Majors & Minors\n",
    "Interact with elements, find and navigate to the link of Undergraduate Majors & Minors."
   ]
  },
  {
   "cell_type": "code",
   "execution_count": 97,
   "metadata": {},
   "outputs": [
    {
     "name": "stdout",
     "output_type": "stream",
     "text": [
      "Link to Undergrad majors and minors: https://www.usfca.edu/academics/undergraduate-experience/majors-minors\n"
     ]
    }
   ],
   "source": [
    "# Find the element containing the \"Undergraduate Majors & Minors\" link\n",
    "\n",
    "# Get the href link from the element\n",
    "majors_minors_href_link = \n",
    "print(f\"Link to Undergrad majors and minors: {majors_minors_href_link}\")\n",
    "# Click on the \"Undergraduate Majors & Minors\" link\n"
   ]
  },
  {
   "attachments": {},
   "cell_type": "markdown",
   "metadata": {},
   "source": [
    "### 3. Getting Undergraduate Majors & Minors on the first page\n",
    "Interact with the elements and get a list of all program titles for Undergraduate Majors & Minors on the first page."
   ]
  },
  {
   "cell_type": "code",
   "execution_count": 90,
   "metadata": {},
   "outputs": [],
   "source": [
    "def get_undergrad_majors_minors():\n",
    "    \"\"\"\n",
    "    Return a list of undergrad program titles in the current page\n",
    "    \"\"\"\n",
    "    # your code here"
   ]
  },
  {
   "cell_type": "code",
   "execution_count": 79,
   "metadata": {},
   "outputs": [
    {
     "name": "stdout",
     "output_type": "stream",
     "text": [
      "40\n",
      "['Accounting, BSBA', 'Advertising, BA', 'African Studies, Minor', 'African American Studies, Minor', 'Anthropology, Minor']\n"
     ]
    }
   ],
   "source": [
    "under_grad_programs_first_page = get_undergrad_majors_minors()\n",
    "print(len(under_grad_programs_first_page))\n",
    "print(under_grad_programs_first_page[:5])"
   ]
  },
  {
   "attachments": {},
   "cell_type": "markdown",
   "metadata": {},
   "source": [
    "### 4. Geting All Undergraduate Majors & Minors\n",
    "Navigate through all pages of Undergraduate Majors & Minors and get a list of all program titles for Undergraduate Majors & Minors. Wait 2 seconds for each page to fully load before interacting with its elements."
   ]
  },
  {
   "cell_type": "code",
   "execution_count": 98,
   "metadata": {},
   "outputs": [
    {
     "name": "stdout",
     "output_type": "stream",
     "text": [
      "Next page: https://www.usfca.edu/academics/find-your-program/undergraduate?keyword=&field_interests=All&field_career_goals=All&page=1\n",
      "Next page: https://www.usfca.edu/academics/find-your-program/undergraduate?keyword=&field_interests=All&field_career_goals=All&page=2\n"
     ]
    }
   ],
   "source": [
    "# Create an empty list\n",
    "\n",
    "\n",
    "# Create a loop to navigate through multiple pages\n",
    "while True:\n",
    "    # Get a list of program titles in the current page\n",
    "\n",
    "    \n",
    "    # Check if there is a \"Next page\" link\n",
    "\n",
    "        # Click on the \"Next page\" link\n",
    "        print(f\"Next page: {next_page_link}\")\n",
    "        driver.get(next_page_link)\n",
    "        # Wait 2 seconds for page to load before interacting\n",
    "        \n",
    "\n",
    "        # If no more pages to navigate, exit the loop\n",
    "        "
   ]
  },
  {
   "cell_type": "code",
   "execution_count": 92,
   "metadata": {},
   "outputs": [
    {
     "name": "stdout",
     "output_type": "stream",
     "text": [
      "83\n",
      "['Accounting, BSBA', 'Advertising, BA', 'African Studies, Minor', 'African American Studies, Minor', 'Anthropology, Minor', 'Architectural Engineering, Minor', 'Architecture, BA', 'Art History & Museum Studies, BA', 'Asian Pacific American Studies, Minor', 'Asian Studies, BA']\n",
      "['Public Relations, Minor', 'Public Service and Community Engagement, Minor', 'Public Health, BS', 'Science, Technology, Engineering, Math (STEM) Education, Minor', 'Sociology, BA', 'Spanish Studies, BA', 'Theater, Minor', 'Theology & Religious Studies, BA', 'Undergraduate Teacher Credential Program', 'Urban Agriculture, Minor']\n"
     ]
    }
   ],
   "source": [
    "print(len(under_grad_programs))\n",
    "print(under_grad_programs[:10])\n",
    "print(under_grad_programs[-10:])"
   ]
  },
  {
   "attachments": {},
   "cell_type": "markdown",
   "metadata": {},
   "source": [
    "### 5. Clicking USF Logo\n",
    "Locate and click on the USF logo in the top left corner of the current page to go back to home page."
   ]
  },
  {
   "cell_type": "code",
   "execution_count": 93,
   "metadata": {},
   "outputs": [],
   "source": []
  },
  {
   "attachments": {},
   "cell_type": "markdown",
   "metadata": {},
   "source": [
    "### 6. Close the Webdriver"
   ]
  },
  {
   "cell_type": "code",
   "execution_count": 75,
   "metadata": {},
   "outputs": [],
   "source": []
  },
  {
   "cell_type": "code",
   "execution_count": null,
   "metadata": {},
   "outputs": [],
   "source": []
  }
 ],
 "metadata": {
  "kernelspec": {
   "display_name": "data-acquisition",
   "language": "python",
   "name": "python3"
  },
  "language_info": {
   "codemirror_mode": {
    "name": "ipython",
    "version": 3
   },
   "file_extension": ".py",
   "mimetype": "text/x-python",
   "name": "python",
   "nbconvert_exporter": "python",
   "pygments_lexer": "ipython3",
   "version": "3.9.12"
  },
  "orig_nbformat": 4
 },
 "nbformat": 4,
 "nbformat_minor": 2
}
