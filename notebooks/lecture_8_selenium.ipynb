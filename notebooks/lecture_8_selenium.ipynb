{
 "cells": [
  {
   "cell_type": "markdown",
   "metadata": {},
   "source": [
    "# Intro to Selenium\n",
    "`! pip install selenium` <br>\n",
    "`! pip install webdriver-manager`"
   ]
  },
  {
   "cell_type": "code",
   "execution_count": 1,
   "metadata": {
    "tags": []
   },
   "outputs": [],
   "source": [
    "from selenium import webdriver\n",
    "from selenium.webdriver.chrome.service import Service\n",
    "from webdriver_manager.chrome import ChromeDriverManager\n",
    "from selenium.webdriver.support.ui import Select\n",
    "from selenium.webdriver.common.by import By\n",
    "import time\n",
    "import pathlib\n",
    "import pickle"
   ]
  },
  {
   "cell_type": "markdown",
   "metadata": {},
   "source": [
    "### 1. Navigating\n",
    "Navigate to the official USF website in Chrome: \"https://www.usfca.edu/\"."
   ]
  },
  {
   "cell_type": "code",
   "execution_count": 2,
   "metadata": {
    "tags": []
   },
   "outputs": [],
   "source": [
    "website = \"https://www.usfca.edu/\"\n",
    "# Create a WebDriver instance for Chrome\n",
    "driver = webdriver.Chrome(service=Service(ChromeDriverManager().install())\n",
    "driver.maximize_window()\n",
    "# Visit the website\n",
    "driver.get(website)"
   ]
  },
  {
   "cell_type": "code",
   "execution_count": 7,
   "metadata": {
    "tags": []
   },
   "outputs": [],
   "source": [
    "# quits the driver\n",
    "driver.quit()"
   ]
  },
  {
   "cell_type": "markdown",
   "metadata": {},
   "source": [
    "### 2. Getting a list of courses for the MS in Data science"
   ]
  },
  {
   "cell_type": "code",
   "execution_count": 8,
   "metadata": {
    "tags": []
   },
   "outputs": [],
   "source": [
    "website = \"https://www.usfca.edu/arts-sciences/programs/graduate/data-science/program-overview\""
   ]
  },
  {
   "cell_type": "code",
   "execution_count": 9,
   "metadata": {
    "tags": []
   },
   "outputs": [],
   "source": [
    "driver = webdriver.Chrome()\n",
    "driver.maximize_window()\n",
    "driver.get(website)"
   ]
  },
  {
   "cell_type": "code",
   "execution_count": 10,
   "metadata": {
    "tags": []
   },
   "outputs": [
    {
     "data": {
      "text/plain": [
       "4"
      ]
     },
     "execution_count": 10,
     "metadata": {},
     "output_type": "execute_result"
    }
   ],
   "source": [
    "programs = driver.find_elements(By.XPATH, '//div[@class=\"acalog-program-core\"]')\n",
    "len(programs)"
   ]
  },
  {
   "cell_type": "code",
   "execution_count": 11,
   "metadata": {
    "tags": []
   },
   "outputs": [
    {
     "data": {
      "text/plain": [
       "'Required (35 units)'"
      ]
     },
     "execution_count": 11,
     "metadata": {},
     "output_type": "execute_result"
    }
   ],
   "source": [
    "# check that we have the right one\n",
    "programs[1].find_element(By.XPATH, './h3').text"
   ]
  },
  {
   "cell_type": "code",
   "execution_count": 12,
   "metadata": {
    "tags": []
   },
   "outputs": [
    {
     "data": {
      "text/plain": [
       "23"
      ]
     },
     "execution_count": 12,
     "metadata": {},
     "output_type": "execute_result"
    }
   ],
   "source": [
    "els = programs[1].find_elements(By.XPATH, './/li')\n",
    "len(els)"
   ]
  },
  {
   "cell_type": "code",
   "execution_count": 13,
   "metadata": {
    "tags": []
   },
   "outputs": [
    {
     "data": {
      "text/plain": [
       "['MSDS 501 - Computation for Analytics',\n",
       " 'MSDS 504 - Review Probability and Stats',\n",
       " 'MSDS 593 - EDA and Visualization',\n",
       " 'MSDS 601 - Linear Regression Analysis',\n",
       " 'MSDS 603 - Data Science Entrepreneurship',\n",
       " 'MSDS 604 - Time Series Analysis',\n",
       " 'MSDS 605 - Data Science Practicum I',\n",
       " 'MSDS 610 - Communications for Analytics',\n",
       " 'MSDS 621 - Intro to Machine Learning',\n",
       " 'MSDS 625 - Data Science Internship II',\n",
       " 'MSDS 627 - Data Science Internship III',\n",
       " 'MSDS 629 - Experiments in Data Science',\n",
       " 'MSDS 630 - Advanced Machine Learning',\n",
       " 'MSDS 631 - Special Topics in Data Science',\n",
       " 'MSDS 632 - Data Science Internship IV',\n",
       " 'MSDS 633 - Ethics in Data Science',\n",
       " 'MSDS 634 - Deep Learning',\n",
       " 'MSDS 689 - Data Structures and Algorithms',\n",
       " 'MSDS 691 - Relational Databases',\n",
       " 'MSDS 692 - Data Acquisition',\n",
       " 'MSDS 694 - Distributed Computing',\n",
       " 'MSDS 697 - Distributed Data Systems',\n",
       " 'MSDS 699 - Machine Learning Laboratory']"
      ]
     },
     "execution_count": 13,
     "metadata": {},
     "output_type": "execute_result"
    }
   ],
   "source": [
    "[el.text for el in els]"
   ]
  },
  {
   "cell_type": "code",
   "execution_count": 16,
   "metadata": {
    "tags": []
   },
   "outputs": [],
   "source": [
    "driver.quit()"
   ]
  },
  {
   "cell_type": "markdown",
   "metadata": {},
   "source": [
    "### 3. Clicking on an button"
   ]
  },
  {
   "cell_type": "code",
   "execution_count": 17,
   "metadata": {
    "tags": []
   },
   "outputs": [],
   "source": [
    "driver = webdriver.Chrome()\n",
    "driver.maximize_window()\n",
    "driver.get(website)\n",
    "\n",
    "container = driver.find_element(By.XPATH, '//div[@class=\"buttons-container\"]')"
   ]
  },
  {
   "cell_type": "code",
   "execution_count": 22,
   "metadata": {
    "tags": []
   },
   "outputs": [],
   "source": [
    "buttons = container.find_elements(By.XPATH, './/div/a')"
   ]
  },
  {
   "cell_type": "code",
   "execution_count": 23,
   "metadata": {
    "tags": []
   },
   "outputs": [
    {
     "data": {
      "text/plain": [
       "2"
      ]
     },
     "execution_count": 23,
     "metadata": {},
     "output_type": "execute_result"
    }
   ],
   "source": [
    "len(buttons)"
   ]
  },
  {
   "cell_type": "code",
   "execution_count": 24,
   "metadata": {
    "tags": []
   },
   "outputs": [
    {
     "data": {
      "text/plain": [
       "'REQUEST INFO'"
      ]
     },
     "execution_count": 24,
     "metadata": {},
     "output_type": "execute_result"
    }
   ],
   "source": [
    "buttons[0].text"
   ]
  },
  {
   "cell_type": "code",
   "execution_count": 25,
   "metadata": {
    "tags": []
   },
   "outputs": [],
   "source": [
    "buttons[0].click()"
   ]
  },
  {
   "cell_type": "code",
   "execution_count": 5,
   "metadata": {
    "tags": []
   },
   "outputs": [],
   "source": [
    "driver.quit()"
   ]
  },
  {
   "cell_type": "markdown",
   "metadata": {},
   "source": [
    "### 6. Find elements containing text"
   ]
  },
  {
   "cell_type": "code",
   "execution_count": 6,
   "metadata": {
    "tags": []
   },
   "outputs": [],
   "source": [
    "website = \"https://www.usfca.edu/arts-sciences/programs/graduate/data-science/program-overview\"\n",
    "driver = webdriver.Chrome()\n",
    "driver.maximize_window()\n",
    "driver.get(website)"
   ]
  },
  {
   "cell_type": "code",
   "execution_count": 7,
   "metadata": {
    "tags": []
   },
   "outputs": [
    {
     "ename": "InvalidSelectorException",
     "evalue": "Message: invalid selector: Unable to locate an element with the xpath expression //h2[contains(text(), \"Nine Month Practicum\"] because of the following error:\nSyntaxError: Failed to execute 'evaluate' on 'Document': The string '//h2[contains(text(), \"Nine Month Practicum\"]' is not a valid XPath expression.\n  (Session info: chrome=116.0.5845.187); For documentation on this error, please visit: https://www.selenium.dev/documentation/webdriver/troubleshooting/errors#invalid-selector-exception\nStacktrace:\n0   chromedriver                        0x0000000102b5e65c chromedriver + 4318812\n1   chromedriver                        0x0000000102b56d00 chromedriver + 4287744\n2   chromedriver                        0x00000001027887ec chromedriver + 296940\n3   chromedriver                        0x000000010278cfa0 chromedriver + 315296\n4   chromedriver                        0x000000010278ead8 chromedriver + 322264\n5   chromedriver                        0x000000010278ec04 chromedriver + 322564\n6   chromedriver                        0x00000001027c61a0 chromedriver + 549280\n7   chromedriver                        0x00000001027fed28 chromedriver + 781608\n8   chromedriver                        0x00000001027ba178 chromedriver + 500088\n9   chromedriver                        0x00000001027bafc0 chromedriver + 503744\n10  chromedriver                        0x0000000102b1ec40 chromedriver + 4058176\n11  chromedriver                        0x0000000102b23160 chromedriver + 4075872\n12  chromedriver                        0x0000000102ae6e68 chromedriver + 3829352\n13  chromedriver                        0x0000000102b23c4c chromedriver + 4078668\n14  chromedriver                        0x0000000102afbf08 chromedriver + 3915528\n15  chromedriver                        0x0000000102b40140 chromedriver + 4194624\n16  chromedriver                        0x0000000102b402c4 chromedriver + 4195012\n17  chromedriver                        0x0000000102b504d0 chromedriver + 4261072\n18  libsystem_pthread.dylib             0x00000001b1dc606c _pthread_start + 148\n19  libsystem_pthread.dylib             0x00000001b1dc0e2c thread_start + 8\n",
     "output_type": "error",
     "traceback": [
      "\u001b[0;31m---------------------------------------------------------------------------\u001b[0m",
      "\u001b[0;31mInvalidSelectorException\u001b[0m                  Traceback (most recent call last)",
      "Cell \u001b[0;32mIn[7], line 1\u001b[0m\n\u001b[0;32m----> 1\u001b[0m el \u001b[38;5;241m=\u001b[39m driver\u001b[38;5;241m.\u001b[39mfind_element(By\u001b[38;5;241m.\u001b[39mXPATH, \u001b[38;5;124m'\u001b[39m\u001b[38;5;124m//h2[contains(text(), \u001b[39m\u001b[38;5;124m\"\u001b[39m\u001b[38;5;124mNine Month Practicum\u001b[39m\u001b[38;5;124m\"\u001b[39m\u001b[38;5;124m]\u001b[39m\u001b[38;5;124m'\u001b[39m)\n",
      "File \u001b[0;32m~/anaconda3/lib/python3.11/site-packages/selenium/webdriver/remote/webdriver.py:738\u001b[0m, in \u001b[0;36mWebDriver.find_element\u001b[0;34m(self, by, value)\u001b[0m\n\u001b[1;32m    735\u001b[0m     by \u001b[38;5;241m=\u001b[39m By\u001b[38;5;241m.\u001b[39mCSS_SELECTOR\n\u001b[1;32m    736\u001b[0m     value \u001b[38;5;241m=\u001b[39m \u001b[38;5;124mf\u001b[39m\u001b[38;5;124m'\u001b[39m\u001b[38;5;124m[name=\u001b[39m\u001b[38;5;124m\"\u001b[39m\u001b[38;5;132;01m{\u001b[39;00mvalue\u001b[38;5;132;01m}\u001b[39;00m\u001b[38;5;124m\"\u001b[39m\u001b[38;5;124m]\u001b[39m\u001b[38;5;124m'\u001b[39m\n\u001b[0;32m--> 738\u001b[0m \u001b[38;5;28;01mreturn\u001b[39;00m \u001b[38;5;28mself\u001b[39m\u001b[38;5;241m.\u001b[39mexecute(Command\u001b[38;5;241m.\u001b[39mFIND_ELEMENT, {\u001b[38;5;124m\"\u001b[39m\u001b[38;5;124musing\u001b[39m\u001b[38;5;124m\"\u001b[39m: by, \u001b[38;5;124m\"\u001b[39m\u001b[38;5;124mvalue\u001b[39m\u001b[38;5;124m\"\u001b[39m: value})[\u001b[38;5;124m\"\u001b[39m\u001b[38;5;124mvalue\u001b[39m\u001b[38;5;124m\"\u001b[39m]\n",
      "File \u001b[0;32m~/anaconda3/lib/python3.11/site-packages/selenium/webdriver/remote/webdriver.py:344\u001b[0m, in \u001b[0;36mWebDriver.execute\u001b[0;34m(self, driver_command, params)\u001b[0m\n\u001b[1;32m    342\u001b[0m response \u001b[38;5;241m=\u001b[39m \u001b[38;5;28mself\u001b[39m\u001b[38;5;241m.\u001b[39mcommand_executor\u001b[38;5;241m.\u001b[39mexecute(driver_command, params)\n\u001b[1;32m    343\u001b[0m \u001b[38;5;28;01mif\u001b[39;00m response:\n\u001b[0;32m--> 344\u001b[0m     \u001b[38;5;28mself\u001b[39m\u001b[38;5;241m.\u001b[39merror_handler\u001b[38;5;241m.\u001b[39mcheck_response(response)\n\u001b[1;32m    345\u001b[0m     response[\u001b[38;5;124m\"\u001b[39m\u001b[38;5;124mvalue\u001b[39m\u001b[38;5;124m\"\u001b[39m] \u001b[38;5;241m=\u001b[39m \u001b[38;5;28mself\u001b[39m\u001b[38;5;241m.\u001b[39m_unwrap_value(response\u001b[38;5;241m.\u001b[39mget(\u001b[38;5;124m\"\u001b[39m\u001b[38;5;124mvalue\u001b[39m\u001b[38;5;124m\"\u001b[39m, \u001b[38;5;28;01mNone\u001b[39;00m))\n\u001b[1;32m    346\u001b[0m     \u001b[38;5;28;01mreturn\u001b[39;00m response\n",
      "File \u001b[0;32m~/anaconda3/lib/python3.11/site-packages/selenium/webdriver/remote/errorhandler.py:229\u001b[0m, in \u001b[0;36mErrorHandler.check_response\u001b[0;34m(self, response)\u001b[0m\n\u001b[1;32m    227\u001b[0m         alert_text \u001b[38;5;241m=\u001b[39m value[\u001b[38;5;124m\"\u001b[39m\u001b[38;5;124malert\u001b[39m\u001b[38;5;124m\"\u001b[39m]\u001b[38;5;241m.\u001b[39mget(\u001b[38;5;124m\"\u001b[39m\u001b[38;5;124mtext\u001b[39m\u001b[38;5;124m\"\u001b[39m)\n\u001b[1;32m    228\u001b[0m     \u001b[38;5;28;01mraise\u001b[39;00m exception_class(message, screen, stacktrace, alert_text)  \u001b[38;5;66;03m# type: ignore[call-arg]  # mypy is not smart enough here\u001b[39;00m\n\u001b[0;32m--> 229\u001b[0m \u001b[38;5;28;01mraise\u001b[39;00m exception_class(message, screen, stacktrace)\n",
      "\u001b[0;31mInvalidSelectorException\u001b[0m: Message: invalid selector: Unable to locate an element with the xpath expression //h2[contains(text(), \"Nine Month Practicum\"] because of the following error:\nSyntaxError: Failed to execute 'evaluate' on 'Document': The string '//h2[contains(text(), \"Nine Month Practicum\"]' is not a valid XPath expression.\n  (Session info: chrome=116.0.5845.187); For documentation on this error, please visit: https://www.selenium.dev/documentation/webdriver/troubleshooting/errors#invalid-selector-exception\nStacktrace:\n0   chromedriver                        0x0000000102b5e65c chromedriver + 4318812\n1   chromedriver                        0x0000000102b56d00 chromedriver + 4287744\n2   chromedriver                        0x00000001027887ec chromedriver + 296940\n3   chromedriver                        0x000000010278cfa0 chromedriver + 315296\n4   chromedriver                        0x000000010278ead8 chromedriver + 322264\n5   chromedriver                        0x000000010278ec04 chromedriver + 322564\n6   chromedriver                        0x00000001027c61a0 chromedriver + 549280\n7   chromedriver                        0x00000001027fed28 chromedriver + 781608\n8   chromedriver                        0x00000001027ba178 chromedriver + 500088\n9   chromedriver                        0x00000001027bafc0 chromedriver + 503744\n10  chromedriver                        0x0000000102b1ec40 chromedriver + 4058176\n11  chromedriver                        0x0000000102b23160 chromedriver + 4075872\n12  chromedriver                        0x0000000102ae6e68 chromedriver + 3829352\n13  chromedriver                        0x0000000102b23c4c chromedriver + 4078668\n14  chromedriver                        0x0000000102afbf08 chromedriver + 3915528\n15  chromedriver                        0x0000000102b40140 chromedriver + 4194624\n16  chromedriver                        0x0000000102b402c4 chromedriver + 4195012\n17  chromedriver                        0x0000000102b504d0 chromedriver + 4261072\n18  libsystem_pthread.dylib             0x00000001b1dc606c _pthread_start + 148\n19  libsystem_pthread.dylib             0x00000001b1dc0e2c thread_start + 8\n"
     ]
    }
   ],
   "source": [
    "el = driver.find_element(By.XPATH, '//h2[contains(text(), \"Nine Month Practicum\"]')"
   ]
  },
  {
   "cell_type": "markdown",
   "metadata": {
    "tags": []
   },
   "source": [
    "### 5.  Filling out a web form "
   ]
  },
  {
   "cell_type": "code",
   "execution_count": 71,
   "metadata": {
    "tags": []
   },
   "outputs": [],
   "source": [
    "website = \"https://ecommerce-playground.lambdatest.io/index.php?route=account/register\""
   ]
  },
  {
   "cell_type": "code",
   "execution_count": 72,
   "metadata": {
    "tags": []
   },
   "outputs": [],
   "source": [
    "driver = webdriver.Chrome()\n",
    "driver.maximize_window()\n",
    "driver.get(website)"
   ]
  },
  {
   "cell_type": "code",
   "execution_count": 73,
   "metadata": {
    "tags": []
   },
   "outputs": [],
   "source": [
    "firstname = driver.find_element(By.XPATH, '//input[@id=\"input-firstname\"]')"
   ]
  },
  {
   "cell_type": "code",
   "execution_count": 74,
   "metadata": {
    "tags": []
   },
   "outputs": [],
   "source": [
    "firstname.send_keys(\"Yan\")"
   ]
  },
  {
   "cell_type": "code",
   "execution_count": 75,
   "metadata": {
    "tags": []
   },
   "outputs": [],
   "source": [
    "# or use By.ID\n",
    "lastname = driver.find_element(By.ID, \"input-lastname\")\n",
    "telephone = driver.find_element(By.ID, \"input-telephone\")\n",
    "email = driver.find_element(By.ID, \"input-email\")"
   ]
  },
  {
   "cell_type": "code",
   "execution_count": 77,
   "metadata": {
    "tags": []
   },
   "outputs": [],
   "source": [
    "lastname.send_keys(\"INT\")\n",
    "email.send_keys(\"hi@gmail.com\")\n",
    "telephone.send_keys(\"+16002005000\")"
   ]
  },
  {
   "cell_type": "code",
   "execution_count": 78,
   "metadata": {
    "tags": []
   },
   "outputs": [],
   "source": [
    "password = driver.find_element(By.ID, \"input-password\")\n",
    "password_confirm = driver.find_element(By.ID, \"input-confirm\")\n",
    "password.send_keys(\"myUsefulPass\")\n",
    "password_confirm.send_keys(\"myUsefulPass\")"
   ]
  },
  {
   "cell_type": "code",
   "execution_count": 79,
   "metadata": {
    "tags": []
   },
   "outputs": [],
   "source": [
    "newsletter = driver.find_element(By.XPATH, value=\"//label[@for='input-newsletter-yes']\")"
   ]
  },
  {
   "cell_type": "code",
   "execution_count": 80,
   "metadata": {
    "tags": []
   },
   "outputs": [],
   "source": [
    "newsletter.click()"
   ]
  },
  {
   "cell_type": "code",
   "execution_count": 81,
   "metadata": {
    "tags": []
   },
   "outputs": [],
   "source": [
    "terms = driver.find_element(By.XPATH, value=\"//label[@for='input-agree']\")\n",
    "terms.click()"
   ]
  },
  {
   "cell_type": "code",
   "execution_count": 82,
   "metadata": {
    "tags": []
   },
   "outputs": [],
   "source": [
    "continue_button = driver.find_element(By.XPATH, value=\"//input[@value='Continue']\")\n",
    "continue_button.click()"
   ]
  },
  {
   "cell_type": "code",
   "execution_count": null,
   "metadata": {},
   "outputs": [],
   "source": []
  }
 ],
 "metadata": {
  "kernelspec": {
   "display_name": "Python 3 (ipykernel)",
   "language": "python",
   "name": "python3"
  },
  "language_info": {
   "codemirror_mode": {
    "name": "ipython",
    "version": 3
   },
   "file_extension": ".py",
   "mimetype": "text/x-python",
   "name": "python",
   "nbconvert_exporter": "python",
   "pygments_lexer": "ipython3",
   "version": "3.11.4"
  }
 },
 "nbformat": 4,
 "nbformat_minor": 4
}
