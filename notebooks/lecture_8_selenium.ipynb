{
 "cells": [
  {
   "cell_type": "markdown",
   "metadata": {},
   "source": [
    "# Intro to Selenium"
   ]
  },
  {
   "cell_type": "code",
   "execution_count": 1,
   "metadata": {
    "tags": []
   },
   "outputs": [],
   "source": [
    "from selenium import webdriver\n",
    "from selenium.webdriver.common.by import By\n",
    "import time\n",
    "import pathlib\n",
    "import pickle"
   ]
  },
  {
   "cell_type": "markdown",
   "metadata": {},
   "source": [
    "### 1. Navigating\n",
    "Navigate to the official USF website in Chrome: \"https://www.usfca.edu/\"."
   ]
  },
  {
   "cell_type": "code",
   "execution_count": 2,
   "metadata": {
    "tags": []
   },
   "outputs": [],
   "source": [
    "website = \"https://www.usfca.edu/\"\n",
    "# Create a WebDriver instance for Chrome\n",
    "driver = webdriver.Chrome()\n",
    "driver.maximize_window()\n",
    "# Visit the website\n",
    "driver.get(website)"
   ]
  },
  {
   "cell_type": "code",
   "execution_count": 7,
   "metadata": {
    "tags": []
   },
   "outputs": [],
   "source": [
    "# quits the driver\n",
    "driver.quit()"
   ]
  },
  {
   "cell_type": "markdown",
   "metadata": {},
   "source": [
    "### 2. Getting a list of courses for the MS in Data science"
   ]
  },
  {
   "cell_type": "code",
   "execution_count": 8,
   "metadata": {
    "tags": []
   },
   "outputs": [],
   "source": [
    "website = \"https://www.usfca.edu/arts-sciences/programs/graduate/data-science/program-overview\""
   ]
  },
  {
   "cell_type": "code",
   "execution_count": 9,
   "metadata": {
    "tags": []
   },
   "outputs": [],
   "source": [
    "driver = webdriver.Chrome()\n",
    "driver.maximize_window()\n",
    "driver.get(website)"
   ]
  },
  {
   "cell_type": "code",
   "execution_count": 10,
   "metadata": {
    "tags": []
   },
   "outputs": [
    {
     "data": {
      "text/plain": [
       "4"
      ]
     },
     "execution_count": 10,
     "metadata": {},
     "output_type": "execute_result"
    }
   ],
   "source": [
    "programs = driver.find_elements(By.XPATH, '//div[@class=\"acalog-program-core\"]')\n",
    "len(programs)"
   ]
  },
  {
   "cell_type": "code",
   "execution_count": 11,
   "metadata": {
    "tags": []
   },
   "outputs": [
    {
     "data": {
      "text/plain": [
       "'Required (35 units)'"
      ]
     },
     "execution_count": 11,
     "metadata": {},
     "output_type": "execute_result"
    }
   ],
   "source": [
    "# check that we have the right one\n",
    "programs[1].find_element(By.XPATH, './h3').text"
   ]
  },
  {
   "cell_type": "code",
   "execution_count": 12,
   "metadata": {
    "tags": []
   },
   "outputs": [
    {
     "data": {
      "text/plain": [
       "23"
      ]
     },
     "execution_count": 12,
     "metadata": {},
     "output_type": "execute_result"
    }
   ],
   "source": [
    "els = programs[1].find_elements(By.XPATH, './/li')\n",
    "len(els)"
   ]
  },
  {
   "cell_type": "code",
   "execution_count": 13,
   "metadata": {
    "tags": []
   },
   "outputs": [
    {
     "data": {
      "text/plain": [
       "['MSDS 501 - Computation for Analytics',\n",
       " 'MSDS 504 - Review Probability and Stats',\n",
       " 'MSDS 593 - EDA and Visualization',\n",
       " 'MSDS 601 - Linear Regression Analysis',\n",
       " 'MSDS 603 - Data Science Entrepreneurship',\n",
       " 'MSDS 604 - Time Series Analysis',\n",
       " 'MSDS 605 - Data Science Practicum I',\n",
       " 'MSDS 610 - Communications for Analytics',\n",
       " 'MSDS 621 - Intro to Machine Learning',\n",
       " 'MSDS 625 - Data Science Internship II',\n",
       " 'MSDS 627 - Data Science Internship III',\n",
       " 'MSDS 629 - Experiments in Data Science',\n",
       " 'MSDS 630 - Advanced Machine Learning',\n",
       " 'MSDS 631 - Special Topics in Data Science',\n",
       " 'MSDS 632 - Data Science Internship IV',\n",
       " 'MSDS 633 - Ethics in Data Science',\n",
       " 'MSDS 634 - Deep Learning',\n",
       " 'MSDS 689 - Data Structures and Algorithms',\n",
       " 'MSDS 691 - Relational Databases',\n",
       " 'MSDS 692 - Data Acquisition',\n",
       " 'MSDS 694 - Distributed Computing',\n",
       " 'MSDS 697 - Distributed Data Systems',\n",
       " 'MSDS 699 - Machine Learning Laboratory']"
      ]
     },
     "execution_count": 13,
     "metadata": {},
     "output_type": "execute_result"
    }
   ],
   "source": [
    "[el.text for el in els]"
   ]
  },
  {
   "cell_type": "code",
   "execution_count": 16,
   "metadata": {
    "tags": []
   },
   "outputs": [],
   "source": [
    "driver.quit()"
   ]
  },
  {
   "cell_type": "markdown",
   "metadata": {},
   "source": [
    "### 3. Clicking on an button"
   ]
  },
  {
   "cell_type": "code",
   "execution_count": 17,
   "metadata": {
    "tags": []
   },
   "outputs": [],
   "source": [
    "driver = webdriver.Chrome()\n",
    "driver.maximize_window()\n",
    "driver.get(website)\n",
    "\n",
    "container = driver.find_element(By.XPATH, '//div[@class=\"buttons-container\"]')"
   ]
  },
  {
   "cell_type": "code",
   "execution_count": 22,
   "metadata": {
    "tags": []
   },
   "outputs": [],
   "source": [
    "buttons = container.find_elements(By.XPATH, './/div/a')"
   ]
  },
  {
   "cell_type": "code",
   "execution_count": 23,
   "metadata": {
    "tags": []
   },
   "outputs": [
    {
     "data": {
      "text/plain": [
       "2"
      ]
     },
     "execution_count": 23,
     "metadata": {},
     "output_type": "execute_result"
    }
   ],
   "source": [
    "len(buttons)"
   ]
  },
  {
   "cell_type": "code",
   "execution_count": 24,
   "metadata": {
    "tags": []
   },
   "outputs": [
    {
     "data": {
      "text/plain": [
       "'REQUEST INFO'"
      ]
     },
     "execution_count": 24,
     "metadata": {},
     "output_type": "execute_result"
    }
   ],
   "source": [
    "buttons[0].text"
   ]
  },
  {
   "cell_type": "code",
   "execution_count": 25,
   "metadata": {
    "tags": []
   },
   "outputs": [],
   "source": [
    "buttons[0].click()"
   ]
  },
  {
   "cell_type": "code",
   "execution_count": 26,
   "metadata": {
    "tags": []
   },
   "outputs": [],
   "source": [
    "driver.quit()"
   ]
  },
  {
   "cell_type": "markdown",
   "metadata": {
    "tags": []
   },
   "source": [
    "### 4.  Filling out a web form "
   ]
  },
  {
   "cell_type": "code",
   "execution_count": null,
   "metadata": {},
   "outputs": [],
   "source": [
    "driver = webdriver.Chrome()\n",
    "driver.maximize_window()\n",
    "driver.get(website)\n",
    "\n",
    "container = driver.find_element(By.XPATH, '//div[@class=\"buttons-container\"]')\n",
    "buttons = container.find_elements(By.XPATH, './/div/a')\n",
    "buttons[0].click()"
   ]
  }
 ],
 "metadata": {
  "kernelspec": {
   "display_name": "Python 3 (ipykernel)",
   "language": "python",
   "name": "python3"
  },
  "language_info": {
   "codemirror_mode": {
    "name": "ipython",
    "version": 3
   },
   "file_extension": ".py",
   "mimetype": "text/x-python",
   "name": "python",
   "nbconvert_exporter": "python",
   "pygments_lexer": "ipython3",
   "version": "3.11.4"
  }
 },
 "nbformat": 4,
 "nbformat_minor": 4
}
